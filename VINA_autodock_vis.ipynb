{
  "nbformat": 4,
  "nbformat_minor": 0,
  "metadata": {
    "colab": {
      "name": "VINA_autodock_vis.ipynb",
      "provenance": [],
      "authorship_tag": "ABX9TyP+iTAtfTeXUacvC4fKivkv",
      "include_colab_link": true
    },
    "kernelspec": {
      "name": "python3",
      "display_name": "Python 3"
    }
  },
  "cells": [
    {
      "cell_type": "markdown",
      "metadata": {
        "id": "view-in-github",
        "colab_type": "text"
      },
      "source": [
        "<a href=\"https://colab.research.google.com/github/napoles-uach/covid19mx/blob/master/VINA_autodock_vis.ipynb\" target=\"_parent\"><img src=\"https://colab.research.google.com/assets/colab-badge.svg\" alt=\"Open In Colab\"/></a>"
      ]
    },
    {
      "cell_type": "code",
      "metadata": {
        "id": "mvJWbOYAuR_i",
        "colab_type": "code",
        "outputId": "e5d10d38-f1df-40a8-a84b-9842ca176057",
        "colab": {
          "base_uri": "https://localhost:8080/",
          "height": 204
        }
      },
      "source": [
        "!wget http://vina.scripps.edu/download/autodock_vina_1_1_2_linux_x86.tgz"
      ],
      "execution_count": 0,
      "outputs": [
        {
          "output_type": "stream",
          "text": [
            "--2020-05-03 20:48:00--  http://vina.scripps.edu/download/autodock_vina_1_1_2_linux_x86.tgz\n",
            "Resolving vina.scripps.edu (vina.scripps.edu)... 137.131.108.109\n",
            "Connecting to vina.scripps.edu (vina.scripps.edu)|137.131.108.109|:80... connected.\n",
            "HTTP request sent, awaiting response... 200 OK\n",
            "Length: 1238242 (1.2M) [application/x-gzip]\n",
            "Saving to: ‘autodock_vina_1_1_2_linux_x86.tgz.1’\n",
            "\n",
            "autodock_vina_1_1_2 100%[===================>]   1.18M  1.19MB/s    in 1.0s    \n",
            "\n",
            "2020-05-03 20:48:01 (1.19 MB/s) - ‘autodock_vina_1_1_2_linux_x86.tgz.1’ saved [1238242/1238242]\n",
            "\n"
          ],
          "name": "stdout"
        }
      ]
    },
    {
      "cell_type": "code",
      "metadata": {
        "id": "e1MFyVuBwUxn",
        "colab_type": "code",
        "outputId": "85a68f2d-9515-45e8-9826-bf2c42214366",
        "colab": {
          "base_uri": "https://localhost:8080/",
          "height": 102
        }
      },
      "source": [
        "!tar xzvf autodock_vina_1_1_2_linux_x86.tgz"
      ],
      "execution_count": 0,
      "outputs": [
        {
          "output_type": "stream",
          "text": [
            "autodock_vina_1_1_2_linux_x86/\n",
            "autodock_vina_1_1_2_linux_x86/LICENSE\n",
            "autodock_vina_1_1_2_linux_x86/bin/\n",
            "autodock_vina_1_1_2_linux_x86/bin/vina\n",
            "autodock_vina_1_1_2_linux_x86/bin/vina_split\n"
          ],
          "name": "stdout"
        }
      ]
    },
    {
      "cell_type": "code",
      "metadata": {
        "id": "tW-sB9fNwn63",
        "colab_type": "code",
        "colab": {}
      },
      "source": [
        "alias vina /content/autodock_vina_1_1_2_linux_x86/bin/vina"
      ],
      "execution_count": 0,
      "outputs": []
    },
    {
      "cell_type": "code",
      "metadata": {
        "id": "OY1rnTSuxJki",
        "colab_type": "code",
        "outputId": "22d21ce2-0457-4963-f8a9-2a5f6597aa61",
        "colab": {
          "base_uri": "https://localhost:8080/",
          "height": 646
        }
      },
      "source": [
        "%vina --help"
      ],
      "execution_count": 0,
      "outputs": [
        {
          "output_type": "stream",
          "text": [
            "\n",
            "Input:\n",
            "  --receptor arg        rigid part of the receptor (PDBQT)\n",
            "  --flex arg            flexible side chains, if any (PDBQT)\n",
            "  --ligand arg          ligand (PDBQT)\n",
            "\n",
            "Search space (required):\n",
            "  --center_x arg        X coordinate of the center\n",
            "  --center_y arg        Y coordinate of the center\n",
            "  --center_z arg        Z coordinate of the center\n",
            "  --size_x arg          size in the X dimension (Angstroms)\n",
            "  --size_y arg          size in the Y dimension (Angstroms)\n",
            "  --size_z arg          size in the Z dimension (Angstroms)\n",
            "\n",
            "Output (optional):\n",
            "  --out arg             output models (PDBQT), the default is chosen based on \n",
            "                        the ligand file name\n",
            "  --log arg             optionally, write log file\n",
            "\n",
            "Misc (optional):\n",
            "  --cpu arg                 the number of CPUs to use (the default is to try to\n",
            "                            detect the number of CPUs or, failing that, use 1)\n",
            "  --seed arg                explicit random seed\n",
            "  --exhaustiveness arg (=8) exhaustiveness of the global search (roughly \n",
            "                            proportional to time): 1+\n",
            "  --num_modes arg (=9)      maximum number of binding modes to generate\n",
            "  --energy_range arg (=3)   maximum energy difference between the best binding \n",
            "                            mode and the worst one displayed (kcal/mol)\n",
            "\n",
            "Configuration file (optional):\n",
            "  --config arg          the above options can be put here\n",
            "\n",
            "Information (optional):\n",
            "  --help                display usage summary\n",
            "  --help_advanced       display usage summary with advanced options\n",
            "  --version             display program version\n",
            "\n"
          ],
          "name": "stdout"
        }
      ]
    },
    {
      "cell_type": "code",
      "metadata": {
        "id": "ds1eBX-Y0vqV",
        "colab_type": "code",
        "outputId": "b399351c-5877-4365-dba2-2d291af3f48a",
        "colab": {
          "base_uri": "https://localhost:8080/",
          "height": 204
        }
      },
      "source": [
        "!wget http://vina.scripps.edu/vina_tutorial.zip"
      ],
      "execution_count": 0,
      "outputs": [
        {
          "output_type": "stream",
          "text": [
            "--2020-05-03 20:48:03--  http://vina.scripps.edu/vina_tutorial.zip\n",
            "Resolving vina.scripps.edu (vina.scripps.edu)... 137.131.108.109\n",
            "Connecting to vina.scripps.edu (vina.scripps.edu)|137.131.108.109|:80... connected.\n",
            "HTTP request sent, awaiting response... 200 OK\n",
            "Length: 48373 (47K) [application/zip]\n",
            "Saving to: ‘vina_tutorial.zip.1’\n",
            "\n",
            "\rvina_tutorial.zip.1   0%[                    ]       0  --.-KB/s               \rvina_tutorial.zip.1 100%[===================>]  47.24K   249KB/s    in 0.2s    \n",
            "\n",
            "2020-05-03 20:48:03 (249 KB/s) - ‘vina_tutorial.zip.1’ saved [48373/48373]\n",
            "\n"
          ],
          "name": "stdout"
        }
      ]
    },
    {
      "cell_type": "code",
      "metadata": {
        "id": "GT4n_HyB4-jY",
        "colab_type": "code",
        "outputId": "f1ab92ba-ef39-4b73-cf6e-28c7ab9fc5a7",
        "colab": {
          "base_uri": "https://localhost:8080/",
          "height": 78
        }
      },
      "source": [
        "!unzip vina_tutorial.zip "
      ],
      "execution_count": 0,
      "outputs": [
        {
          "output_type": "stream",
          "text": [
            "Archive:  vina_tutorial.zip\n",
            "replace vina_tutorial/ligand.pdb? [y]es, [n]o, [A]ll, [N]one, [r]ename: "
          ],
          "name": "stdout"
        }
      ]
    },
    {
      "cell_type": "code",
      "metadata": {
        "id": "iIakBuGZ5Czu",
        "colab_type": "code",
        "colab": {}
      },
      "source": [
        "!wget https://static-bcrf.biochem.wisc.edu/tutorials/autodock/protein.pdbqt_.txt"
      ],
      "execution_count": 0,
      "outputs": []
    },
    {
      "cell_type": "code",
      "metadata": {
        "id": "qw76Qsa4-6sB",
        "colab_type": "code",
        "colab": {}
      },
      "source": [
        "!wget  https://static-bcrf.biochem.wisc.edu/tutorials/autodock/ligand.pdbqt_.txt"
      ],
      "execution_count": 0,
      "outputs": []
    },
    {
      "cell_type": "code",
      "metadata": {
        "id": "UIrbALGF_D1S",
        "colab_type": "code",
        "colab": {}
      },
      "source": [
        "%%bash\n",
        "mv protein.pdbqt_.txt ./vina_tutorial/protein.pdbqt\n",
        "\n",
        "mv ligand.pdbqt_.txt ./vina_tutorial/ligand.pdbqt"
      ],
      "execution_count": 0,
      "outputs": []
    },
    {
      "cell_type": "code",
      "metadata": {
        "id": "nfOaex-6B4u4",
        "colab_type": "code",
        "colab": {}
      },
      "source": [
        "%cd vina_tutorial"
      ],
      "execution_count": 0,
      "outputs": []
    },
    {
      "cell_type": "markdown",
      "metadata": {
        "id": "a4egtfKAyWk-",
        "colab_type": "text"
      },
      "source": [
        "\n",
        "\n",
        "---\n",
        "\n",
        "\n",
        "Py3Dmol\n",
        "\n",
        "\n",
        "---\n",
        "\n"
      ]
    },
    {
      "cell_type": "code",
      "metadata": {
        "id": "-I73yTKPOeXk",
        "colab_type": "code",
        "colab": {}
      },
      "source": [
        "pip -q install py3Dmol"
      ],
      "execution_count": 0,
      "outputs": []
    },
    {
      "cell_type": "code",
      "metadata": {
        "id": "y4CX3D8iF3TL",
        "colab_type": "code",
        "colab": {}
      },
      "source": [
        "import py3Dmol"
      ],
      "execution_count": 0,
      "outputs": []
    },
    {
      "cell_type": "code",
      "metadata": {
        "id": "tIuLXtWOSZxh",
        "colab_type": "code",
        "colab": {}
      },
      "source": [
        "def visbox2(objeto,bxi,byi,bzi,bxf,byf,bzf):  \n",
        "#  box_view = py3Dmol.view(width, height)  \n",
        "#  box_view.addBox({'center':{},'dimensions': {}},{'color':'red'})\n",
        "#  box_view.addModel(box, 'xyz')\n",
        "#  box_view.addBox({center:{x:0,y:0,z:0},dimensions: {w:3,h:4,d:2},color:'magenta'})\n",
        "#  box_view.setStyle({'stick':{}})\n",
        "  #objeto.addLine({'color':'blue','start':{'x':0,'y':0,'z':0},'end':{'x':0,'y':5,'z':0}})\n",
        "  #objeto.addLine({'color':'blue','start':{'x':0,'y':0,'z':0},'end':{'x':0,'y':0,'z':5}})\n",
        "  #objeto.addLine({'color':'blue','start':{'x':0,'y':0,'z':0},'end':{'x':5,'y':0,'z':0}})\n",
        "  objeto.addBox({'center':{'x':bxi,'y':byi,'z':bzi},'dimensions': {'w':bxf,'h':byf,'d':bzf},'color':'blue','opacity': 0.5})\n",
        "#  box_view.setBackgroundColor('0xeeeeee')\n",
        "#  box_view.zoomTo()\n",
        "#  box_view.show()"
      ],
      "execution_count": 0,
      "outputs": []
    },
    {
      "cell_type": "code",
      "metadata": {
        "id": "Lyt8YnE7Sh__",
        "colab_type": "code",
        "colab": {}
      },
      "source": [
        "def complxvis(objeto,protein_name,ligand_name):\n",
        "  mol1 = open(protein_name, 'r').read()\n",
        "  mol2 = open(ligand_name, 'r').read()\n",
        "  #view = py3Dmol.view()\n",
        "  objeto.addModel(mol1,'pdb')\n",
        "  objeto.setStyle({'cartoon': {'color':'spectrum'}})\n",
        "  objeto.addModel(mol2,'pdb')\n",
        "  objeto.setStyle({'model':1},{'stick':{}})\n",
        "  #view.setBackgroundColor('0xeeeeee')\n",
        "  #view.zoomTo()\n",
        "  #view.show()"
      ],
      "execution_count": 0,
      "outputs": []
    },
    {
      "cell_type": "code",
      "metadata": {
        "id": "XuIsCHxBSl2v",
        "colab_type": "code",
        "colab": {}
      },
      "source": [
        "def vismol(bxi=-10,byi=-10,bzi=-10,bxf=5,byf=5,bzf=5):  \n",
        "  mol_view = py3Dmol.view(800, 400,viewergrid=(1,2))  \n",
        "#  box_view.addBox({'center':{},'dimensions': {}},{'color':'red'})\n",
        "  #mol_view.addModel(box, 'xyz')\n",
        "  visbox2(mol_view,bxi,byi,bzi,bxf,byf,bzf)\n",
        "#  box_view.addBox({center:{x:0,y:0,z:0},dimensions: {w:3,h:4,d:2},color:'magenta'})\n",
        "  #mol_view.setStyle({'stick':{}})\n",
        "  complxvis(mol_view,'protein.pdb','ligand.pdb')\n",
        "  mol_view.setBackgroundColor('0xeeeeee')\n",
        "  mol_view.rotate(90, {'x':0,'y':1,'z':0},viewer=(0,1));\n",
        "  mol_view.zoomTo()\n",
        "  \n",
        "  mol_view.show()"
      ],
      "execution_count": 0,
      "outputs": []
    },
    {
      "cell_type": "code",
      "metadata": {
        "id": "dyyn5tbzSp7B",
        "colab_type": "code",
        "colab": {}
      },
      "source": [
        "from ipywidgets import interact,fixed,IntSlider\n",
        "import ipywidgets\n",
        "interact(vismol,bxi=ipywidgets.IntSlider(min=-100,max=100, step=1) ,byi=ipywidgets.IntSlider(min=-100,max=100, step=1),\n",
        "         bzi=ipywidgets.IntSlider(min=-100,max=100, step=1),bxf=ipywidgets.IntSlider(min=0,max=30, step=1),\n",
        "         byf=ipywidgets.IntSlider(min=0,max=30, step=1),\n",
        "         bzf=ipywidgets.IntSlider(min=0,max=30, step=1))\n",
        "#interact(vismol, )"
      ],
      "execution_count": 0,
      "outputs": []
    },
    {
      "cell_type": "code",
      "metadata": {
        "id": "8W3_xTW5_U9S",
        "colab_type": "code",
        "colab": {}
      },
      "source": [
        "%%bash\n",
        "cat > conf.txt <<EOF\n",
        "receptor = protein.pdbqt\n",
        "ligand = ligand.pdbqt\n",
        "\n",
        "out = all.pdbqt\n",
        "\n",
        "center_x = 11\n",
        "center_y = 90.5\n",
        "center_z = 57.5\n",
        "\n",
        "size_x = 22\n",
        "size_y = 24\n",
        "size_z = 28\n",
        "EOF"
      ],
      "execution_count": 0,
      "outputs": []
    },
    {
      "cell_type": "code",
      "metadata": {
        "id": "LAZDgUL4FLBs",
        "colab_type": "code",
        "colab": {}
      },
      "source": [
        "ls"
      ],
      "execution_count": 0,
      "outputs": []
    },
    {
      "cell_type": "code",
      "metadata": {
        "id": "WQ8kjv-uFLiH",
        "colab_type": "code",
        "colab": {}
      },
      "source": [
        "%vina --config conf.txt --log log.txt"
      ],
      "execution_count": 0,
      "outputs": []
    },
    {
      "cell_type": "code",
      "metadata": {
        "id": "zJi7FcLQNBhO",
        "colab_type": "code",
        "colab": {}
      },
      "source": [
        "ls -ltrh"
      ],
      "execution_count": 0,
      "outputs": []
    },
    {
      "cell_type": "code",
      "metadata": {
        "id": "9XWe1ueeUwjG",
        "colab_type": "code",
        "colab": {}
      },
      "source": [
        "!apt-get -qq install -y openbabel\n"
      ],
      "execution_count": 0,
      "outputs": []
    },
    {
      "cell_type": "code",
      "metadata": {
        "id": "oQkbyzprWv3_",
        "colab_type": "code",
        "colab": {}
      },
      "source": [
        "!babel -ipdbqt 'protein.pdbqt' -opdb 'protein2.pdb'"
      ],
      "execution_count": 0,
      "outputs": []
    },
    {
      "cell_type": "code",
      "metadata": {
        "id": "FcVpd_0OXRXH",
        "colab_type": "code",
        "colab": {}
      },
      "source": [
        "!babel -ipdbqt 'all.pdbqt' -opdb 'all.pdb'"
      ],
      "execution_count": 0,
      "outputs": []
    },
    {
      "cell_type": "code",
      "metadata": {
        "id": "bFAZSI__XoBM",
        "colab_type": "code",
        "colab": {}
      },
      "source": [
        "complxvis('protein2.pdb','all.pdb')"
      ],
      "execution_count": 0,
      "outputs": []
    }
  ]
}