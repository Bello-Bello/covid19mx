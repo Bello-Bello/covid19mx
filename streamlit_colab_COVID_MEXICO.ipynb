{
  "nbformat": 4,
  "nbformat_minor": 0,
  "metadata": {
    "colab": {
      "name": "streamlit_colab_COVID_MEXICO",
      "provenance": [],
      "collapsed_sections": [],
      "include_colab_link": true
    },
    "kernelspec": {
      "display_name": "Python 3",
      "name": "python3"
    }
  },
  "cells": [
    {
      "cell_type": "markdown",
      "metadata": {
        "id": "view-in-github",
        "colab_type": "text"
      },
      "source": [
        "<a href=\"https://colab.research.google.com/github/napoles-uach/covid19mx/blob/master/streamlit_colab_COVID_MEXICO.ipynb\" target=\"_parent\"><img src=\"https://colab.research.google.com/assets/colab-badge.svg\" alt=\"Open In Colab\"/></a>"
      ]
    },
    {
      "cell_type": "markdown",
      "metadata": {
        "id": "YueD6bxr_Ndx",
        "colab_type": "text"
      },
      "source": [
        "Run all of the following to start the Streamlit demo!\n",
        "\n",
        "Modify with the [docs](https://docs.streamlit.io/) to prototype your own ML apps."
      ]
    },
    {
      "cell_type": "code",
      "metadata": {
        "id": "cPxfsHGb5_xh",
        "colab_type": "code",
        "colab": {}
      },
      "source": [
        "!pip install streamlit -q"
      ],
      "execution_count": null,
      "outputs": []
    },
    {
      "cell_type": "code",
      "metadata": {
        "id": "JwRITzDxHiqb",
        "colab_type": "code",
        "colab": {}
      },
      "source": [
        "!pip3 install \"notebook>=5.3\" \"ipywidgets>=7.2\""
      ],
      "execution_count": null,
      "outputs": []
    },
    {
      "cell_type": "code",
      "metadata": {
        "id": "JdjXnXJWDo1_",
        "colab_type": "code",
        "colab": {}
      },
      "source": [
        "from google.colab import drive\n",
        "from google.colab import files\n",
        "drive.mount('/content/drive')\n",
        "import os\n",
        "os.chdir(\"/content/drive\")\n",
        "!ls\n",
        "\n",
        "os.chdir(\"/content/drive/My Drive/STREAMLIT\")"
      ],
      "execution_count": null,
      "outputs": []
    },
    {
      "cell_type": "code",
      "metadata": {
        "id": "GC3gSHfd6J9y",
        "colab_type": "code",
        "colab": {}
      },
      "source": [
        "!wget https://bin.equinox.io/c/4VmDzA7iaHb/ngrok-stable-linux-amd64.zip\n",
        "!unzip -qq ngrok-stable-linux-amd64.zip"
      ],
      "execution_count": null,
      "outputs": []
    },
    {
      "cell_type": "markdown",
      "metadata": {
        "id": "oE8YZYsk-UGs",
        "colab_type": "text"
      },
      "source": [
        "**Use the output of this command as the link to your Streamlit app.**"
      ]
    },
    {
      "cell_type": "code",
      "metadata": {
        "id": "XMOoOLFT88ku",
        "colab_type": "code",
        "colab": {
          "base_uri": "https://localhost:8080/",
          "height": 35
        },
        "outputId": "05fdbb10-f4a1-4113-f871-66f5de296641"
      },
      "source": [
        "get_ipython().system_raw('./ngrok http 8501 &')\n",
        "! curl -s http://localhost:4040/api/tunnels | python3 -c \\\n",
        "    \"import sys, json; print(json.load(sys.stdin)['tunnels'][0]['public_url'])\""
      ],
      "execution_count": 28,
      "outputs": [
        {
          "output_type": "stream",
          "text": [
            "http://6f3a8524a29f.ngrok.io\n"
          ],
          "name": "stdout"
        }
      ]
    },
    {
      "cell_type": "code",
      "metadata": {
        "id": "Z7qffrKtOfrM",
        "colab_type": "code",
        "colab": {}
      },
      "source": [
        "%%bash\n",
        "cat > testStreamlit.py <<EOF\n",
        "import streamlit as st\n",
        "import streamlit.components.v1 as components\n",
        "import pandas as pd\n",
        "import numpy as np\n",
        "st.title('COVID in Mexico')\n",
        "\n",
        "st.title('First test for Py3dmol with Streamlit')\n",
        "# iframe a URL:\n",
        "#components.iframe(\"http://3dmol.csb.pitt.edu/viewer.html?pdb=1YCR&select=chain:A&style=cartoon;stick:radius~0.1&surface=opacity:0.8;colorscheme:whiteCarbon&select=chain:B&style=cartoon;line&select=resi:19,23,26;chain:B&style=cartoon;stick&labelres=backgroundOpacity:0.8;fontSize:14\", height=500, scrolling=True)\n",
        "# embed a twitter feed in streamlit\n",
        "\n",
        "#components.iframe(\"https://docs.streamlit.io/en/latest\")\n",
        "\n",
        "#my_component = components.declare_component(\"my_component\", path=\"3Dmol.js/3Dmol\")\n",
        "components.html(\"\"\"\n",
        "                <script src=\"http://3Dmol.csb.pitt.edu/build/3Dmol-min.js\"\"></script>\n",
        "                <div id=\"container-01\" class=\"mol-container\"></div>\n",
        "                <style>\n",
        ".mol-container {\n",
        "  width: 90%;\n",
        "  height: 800px;\n",
        "  position: relative;\n",
        "}\n",
        "</style>\n",
        "<script>\n",
        "$(function() {\n",
        "  let element = $('#container-01');\n",
        "  let config = { backgroundColor: 'orange' };\n",
        "  let viewer = $3Dmol.createViewer( element, config );\n",
        "  viewer.addSphere({ center: {x:0, y:0, z:0}, radius: 10.0, color: 'green' });\n",
        "  viewer.zoomTo();\n",
        "  viewer.render();\n",
        "  viewer.zoom(0.8, 2000);\n",
        "});\n",
        "</script>\n",
        "                \"\"\")\n",
        "\n",
        "EOF\n",
        "\n"
      ],
      "execution_count": 12,
      "outputs": []
    },
    {
      "cell_type": "markdown",
      "metadata": {
        "id": "SdNVtkKn-l-z",
        "colab_type": "text"
      },
      "source": [
        "**Ignore the output of this**"
      ]
    },
    {
      "cell_type": "code",
      "metadata": {
        "id": "KiuiUcleOglt",
        "colab_type": "code",
        "colab": {
          "base_uri": "https://localhost:8080/",
          "height": 150
        },
        "outputId": "a4912813-aa72-405f-cfe8-c6281d00aae9"
      },
      "source": [
        "!streamlit run testStreamlit.py"
      ],
      "execution_count": null,
      "outputs": [
        {
          "output_type": "stream",
          "text": [
            "\u001b[0m\n",
            "\u001b[34m\u001b[1m  You can now view your Streamlit app in your browser.\u001b[0m\n",
            "\u001b[0m\n",
            "\u001b[34m  Network URL: \u001b[0m\u001b[1mhttp://172.28.0.2:8501\u001b[0m\n",
            "\u001b[34m  External URL: \u001b[0m\u001b[1mhttp://35.243.143.173:8501\u001b[0m\n",
            "\u001b[0m\n"
          ],
          "name": "stdout"
        }
      ]
    }
  ]
}