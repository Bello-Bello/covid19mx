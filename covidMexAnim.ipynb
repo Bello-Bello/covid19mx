{
  "nbformat": 4,
  "nbformat_minor": 0,
  "metadata": {
    "colab": {
      "name": "covidMexAnim.ipynb",
      "provenance": [],
      "collapsed_sections": [],
      "authorship_tag": "ABX9TyONHUAu60f6m3gknQBxpYQx",
      "include_colab_link": true
    },
    "kernelspec": {
      "name": "python3",
      "display_name": "Python 3"
    }
  },
  "cells": [
    {
      "cell_type": "markdown",
      "metadata": {
        "id": "view-in-github",
        "colab_type": "text"
      },
      "source": [
        "<a href=\"https://colab.research.google.com/github/napoles-uach/covid19mx/blob/master/covidMexAnim.ipynb\" target=\"_parent\"><img src=\"https://colab.research.google.com/assets/colab-badge.svg\" alt=\"Open In Colab\"/></a>"
      ]
    },
    {
      "cell_type": "code",
      "metadata": {
        "id": "yFBwQ12udOJZ",
        "colab_type": "code",
        "colab": {}
      },
      "source": [
        "!pip install chart_studio"
      ],
      "execution_count": 0,
      "outputs": []
    },
    {
      "cell_type": "code",
      "metadata": {
        "id": "tQN-p6fgSKJ6",
        "colab_type": "code",
        "colab": {}
      },
      "source": [
        "import plotly.express as px\n",
        "import chart_studio.plotly as py\n",
        "import numpy as np\n",
        "import pandas as pd"
      ],
      "execution_count": 0,
      "outputs": []
    },
    {
      "cell_type": "code",
      "metadata": {
        "id": "j2Y8lKBgYX--",
        "colab_type": "code",
        "colab": {}
      },
      "source": [
        ""
      ],
      "execution_count": 0,
      "outputs": []
    },
    {
      "cell_type": "code",
      "metadata": {
        "id": "vNJmIN-jdju0",
        "colab_type": "code",
        "colab": {}
      },
      "source": [
        "df3=pd.read_csv(\"https://raw.githubusercontent.com/napoles-uach/covid19mx/master/estadoslatlon.csv\")\n",
        "estados_list=df3[\"Estado\"].to_list()\n",
        "lat_list=df3[\"Lat\"]\n",
        "lon_list=df3['Long']\n",
        "#df1=pd.read_csv('https://raw.githubusercontent.com/napoles-uach/covid19mx/master/todos.csv')"
      ],
      "execution_count": 0,
      "outputs": []
    },
    {
      "cell_type": "code",
      "metadata": {
        "id": "MQi3qc_VRM09",
        "colab_type": "code",
        "colab": {}
      },
      "source": [
        "hoy='20200407'\n",
        "fechas_list=pd.date_range(start='20200315',end=hoy,freq='D').strftime('%d%m%Y').to_list()\n",
        "\n",
        "fechas_format=pd.date_range(start='20200315',end=hoy,freq='D').strftime('%d'+'/'+'%m'+'/'+'%Y').to_list()\n"
      ],
      "execution_count": 0,
      "outputs": []
    },
    {
      "cell_type": "code",
      "metadata": {
        "id": "rhOvs_JtNEqH",
        "colab_type": "code",
        "outputId": "e7c69c52-3526-4be7-cd0e-a77dfd412e0e",
        "colab": {
          "base_uri": "https://localhost:8080/",
          "height": 419
        }
      },
      "source": [
        "todos=[]\n",
        "#list=[]\n",
        "\n",
        "for i in range(len(fechas_list)):\n",
        "  df1=pd.read_csv('https://raw.githubusercontent.com/napoles-uach/covid19mx/master/confirmadosMX'+fechas_list[i]+'.csv')\n",
        "  df1.loc[(df1[' Estado'] == 'DISTRITO FEDERAL'),' Estado']='CIUDAD DE MÉXICO'\n",
        "  df1.loc[(df1[' Estado'] == 'MEXICO'),' Estado']='MÉXICO'\n",
        "  df1.loc[(df1[' Estado'] == 'MICHOACAN'),' Estado']='MICHOACÁN'\n",
        "  df1.loc[(df1[' Estado'] == 'NUEVO LEON'),' Estado']='NUEVO LEÓN'\n",
        "  df1.loc[(df1[' Estado'] == 'SAN LUIS POTOSI'),' Estado']='SAN LUIS POTOSÍ'\n",
        "  df1.loc[(df1[' Estado'] == 'YUCATAN'),' Estado']='YUCATÁN'\n",
        "  conteo=[]\n",
        "  for estados in estados_list:\n",
        "    tot_est=df1[(df1[\" Estado\"]==estados)|(df1[\" Estado\"]==\" \"+estados)|(df1[\" Estado\"]==estados+\" \")].count()\n",
        "    conteo.append(tot_est[0])\n",
        "    dfmap=pd.DataFrame(df3,columns=[\"Estado\",\"Lat\",\"Long\"])\n",
        "    dfmap['Fecha']=fechas_format[i]#+'/03/20'\n",
        "    dfmap[\"conteo\"]=pd.Series(conteo)\n",
        "  todos.append(dfmap)\n",
        "todos = pd.concat(todos, ignore_index=True)\n",
        "\n",
        "todos\n"
      ],
      "execution_count": 6,
      "outputs": [
        {
          "output_type": "execute_result",
          "data": {
            "text/html": [
              "<div>\n",
              "<style scoped>\n",
              "    .dataframe tbody tr th:only-of-type {\n",
              "        vertical-align: middle;\n",
              "    }\n",
              "\n",
              "    .dataframe tbody tr th {\n",
              "        vertical-align: top;\n",
              "    }\n",
              "\n",
              "    .dataframe thead th {\n",
              "        text-align: right;\n",
              "    }\n",
              "</style>\n",
              "<table border=\"1\" class=\"dataframe\">\n",
              "  <thead>\n",
              "    <tr style=\"text-align: right;\">\n",
              "      <th></th>\n",
              "      <th>Estado</th>\n",
              "      <th>Lat</th>\n",
              "      <th>Long</th>\n",
              "      <th>Fecha</th>\n",
              "      <th>conteo</th>\n",
              "    </tr>\n",
              "  </thead>\n",
              "  <tbody>\n",
              "    <tr>\n",
              "      <th>0</th>\n",
              "      <td>AGUASCALIENTES</td>\n",
              "      <td>21.882340</td>\n",
              "      <td>-102.282593</td>\n",
              "      <td>15/03/2020</td>\n",
              "      <td>1</td>\n",
              "    </tr>\n",
              "    <tr>\n",
              "      <th>1</th>\n",
              "      <td>BAJA CALIFORNIA</td>\n",
              "      <td>32.627811</td>\n",
              "      <td>-115.454460</td>\n",
              "      <td>15/03/2020</td>\n",
              "      <td>0</td>\n",
              "    </tr>\n",
              "    <tr>\n",
              "      <th>2</th>\n",
              "      <td>BAJA CALIFORNIA SUR</td>\n",
              "      <td>24.144369</td>\n",
              "      <td>-110.300499</td>\n",
              "      <td>15/03/2020</td>\n",
              "      <td>0</td>\n",
              "    </tr>\n",
              "    <tr>\n",
              "      <th>3</th>\n",
              "      <td>CAMPECHE</td>\n",
              "      <td>19.843861</td>\n",
              "      <td>-90.525543</td>\n",
              "      <td>15/03/2020</td>\n",
              "      <td>0</td>\n",
              "    </tr>\n",
              "    <tr>\n",
              "      <th>4</th>\n",
              "      <td>CIUDAD DE MÉXICO</td>\n",
              "      <td>19.428471</td>\n",
              "      <td>-99.127663</td>\n",
              "      <td>15/03/2020</td>\n",
              "      <td>18</td>\n",
              "    </tr>\n",
              "    <tr>\n",
              "      <th>...</th>\n",
              "      <td>...</td>\n",
              "      <td>...</td>\n",
              "      <td>...</td>\n",
              "      <td>...</td>\n",
              "      <td>...</td>\n",
              "    </tr>\n",
              "    <tr>\n",
              "      <th>763</th>\n",
              "      <td>TAMAULIPAS</td>\n",
              "      <td>26.080610</td>\n",
              "      <td>-98.288353</td>\n",
              "      <td>07/04/2020</td>\n",
              "      <td>32</td>\n",
              "    </tr>\n",
              "    <tr>\n",
              "      <th>764</th>\n",
              "      <td>TLAXCALA</td>\n",
              "      <td>19.319050</td>\n",
              "      <td>-98.199820</td>\n",
              "      <td>07/04/2020</td>\n",
              "      <td>18</td>\n",
              "    </tr>\n",
              "    <tr>\n",
              "      <th>765</th>\n",
              "      <td>VERACRUZ</td>\n",
              "      <td>19.180950</td>\n",
              "      <td>-96.142899</td>\n",
              "      <td>07/04/2020</td>\n",
              "      <td>46</td>\n",
              "    </tr>\n",
              "    <tr>\n",
              "      <th>766</th>\n",
              "      <td>YUCATÁN</td>\n",
              "      <td>20.400417</td>\n",
              "      <td>-89.134857</td>\n",
              "      <td>07/04/2020</td>\n",
              "      <td>74</td>\n",
              "    </tr>\n",
              "    <tr>\n",
              "      <th>767</th>\n",
              "      <td>ZACATECAS</td>\n",
              "      <td>22.768430</td>\n",
              "      <td>-102.581410</td>\n",
              "      <td>07/04/2020</td>\n",
              "      <td>10</td>\n",
              "    </tr>\n",
              "  </tbody>\n",
              "</table>\n",
              "<p>768 rows × 5 columns</p>\n",
              "</div>"
            ],
            "text/plain": [
              "                  Estado        Lat        Long       Fecha  conteo\n",
              "0         AGUASCALIENTES  21.882340 -102.282593  15/03/2020       1\n",
              "1        BAJA CALIFORNIA  32.627811 -115.454460  15/03/2020       0\n",
              "2    BAJA CALIFORNIA SUR  24.144369 -110.300499  15/03/2020       0\n",
              "3               CAMPECHE  19.843861  -90.525543  15/03/2020       0\n",
              "4       CIUDAD DE MÉXICO  19.428471  -99.127663  15/03/2020      18\n",
              "..                   ...        ...         ...         ...     ...\n",
              "763           TAMAULIPAS  26.080610  -98.288353  07/04/2020      32\n",
              "764             TLAXCALA  19.319050  -98.199820  07/04/2020      18\n",
              "765             VERACRUZ  19.180950  -96.142899  07/04/2020      46\n",
              "766              YUCATÁN  20.400417  -89.134857  07/04/2020      74\n",
              "767            ZACATECAS  22.768430 -102.581410  07/04/2020      10\n",
              "\n",
              "[768 rows x 5 columns]"
            ]
          },
          "metadata": {
            "tags": []
          },
          "execution_count": 6
        }
      ]
    },
    {
      "cell_type": "code",
      "metadata": {
        "id": "b5_0Dv8sSP9W",
        "colab_type": "code",
        "outputId": "4a570390-04b1-4032-cc6f-900257fb63c0",
        "colab": {
          "base_uri": "https://localhost:8080/",
          "height": 542
        }
      },
      "source": [
        "fig = px.scatter_geo(todos, lat=\"Lat\",lon=\"Long\", size=\"conteo\",color='conteo',\n",
        "                     animation_frame=\"Fecha\",scope='north america',range_color=[0,max(todos['conteo'])],\n",
        "                     center={'lat':19,'lon':-99},width=800,text = todos['Estado'],\n",
        "                     projection=\"natural earth\")\n",
        "#fig.update_layout(width=800, margin={\"r\":0,\"t\":0,\"l\":0,\"b\":0})\n",
        "#fig.update_layout(title = 'Mapa de Casos confirmados<br>Fecha: 3/04/2020)')\n",
        "fig.show()\n",
        "#plot_url = py.plot(fig)"
      ],
      "execution_count": 7,
      "outputs": [
        {
          "output_type": "display_data",
          "data": {
            "text/html": [
              "<html>\n",
              "<head><meta charset=\"utf-8\" /></head>\n",
              "<body>\n",
              "    <div>\n",
              "            <script src=\"https://cdnjs.cloudflare.com/ajax/libs/mathjax/2.7.5/MathJax.js?config=TeX-AMS-MML_SVG\"></script><script type=\"text/javascript\">if (window.MathJax) {MathJax.Hub.Config({SVG: {font: \"STIX-Web\"}});}</script>\n",
              "                <script type=\"text/javascript\">window.PlotlyConfig = {MathJaxConfig: 'local'};</script>\n",
              "        <script src=\"https://cdn.plot.ly/plotly-latest.min.js\"></script>    \n",
              "            <div id=\"7241ca2d-4b02-4264-8a57-18df9004469a\" class=\"plotly-graph-div\" style=\"height:525px; width:800px;\"></div>\n",
              "            <script type=\"text/javascript\">\n",
              "                \n",
              "                    window.PLOTLYENV=window.PLOTLYENV || {};\n",
              "                    \n",
              "                if (document.getElementById(\"7241ca2d-4b02-4264-8a57-18df9004469a\")) {\n",
              "                    Plotly.newPlot(\n",
              "                        '7241ca2d-4b02-4264-8a57-18df9004469a',\n",
              "                        [{\"geo\": \"geo\", \"hoverlabel\": {\"namelength\": 0}, \"hovertemplate\": \"Fecha=15/03/2020<br>conteo=%{marker.color}<br>Estado=%{text}<br>Lat=%{lat}<br>Long=%{lon}\", \"lat\": [21.8823395, 32.6278114, 24.144369100000002, 19.843860600000003, 19.4284706, 16.759729399999998, 28.635280600000005, 25.423210100000002, 19.249969500000002, 25.5698509, 21.0185795, 16.849420499999997, 20.1169701, 20.6668205, 19.2878609, 19.700780899999998, 18.926099800000003, 21.509510000000002, 25.6750698, 17.0654202, 19.0640602, 20.5880604, 21.1742897, 22.149820300000002, 23.2329006, 29.1026001, 17.9868908, 26.0806103, 19.31905, 19.180950199999998, 20.400417, 22.76843], \"legendgroup\": \"\", \"lon\": [-102.28259279999999, -115.4544601, -110.300499, -90.5255432, -99.1276627, -93.11308290000001, -106.08889009999999, -101.0053024, -103.7271423, -103.4958801, -101.2591019, -99.9089127, -98.7332916, -103.3918228, -99.65323640000001, -101.184433, -99.230751, -104.8956909, -100.3184662, -96.72364809999999, -98.30352020000001, -100.38806149999999, -86.84655759999998, -100.97915649999999, -106.4061966, -110.97731780000001, -92.93028259999998, -98.288353, -98.19981999999999, -96.1428986, -89.134857, -102.58140999999999], \"marker\": {\"color\": [1, 0, 0, 0, 18, 1, 0, 0, 0, 1, 0, 0, 0, 2, 3, 0, 0, 0, 5, 2, 6, 6, 1, 2, 1, 0, 0, 0, 0, 0, 1, 0], \"coloraxis\": \"coloraxis\", \"size\": [1, 0, 0, 0, 18, 1, 0, 0, 0, 1, 0, 0, 0, 2, 3, 0, 0, 0, 5, 2, 6, 6, 1, 2, 1, 0, 0, 0, 0, 0, 1, 0], \"sizemode\": \"area\", \"sizeref\": 1.8075}, \"name\": \"\", \"showlegend\": false, \"text\": [\"AGUASCALIENTES\", \"BAJA CALIFORNIA\", \"BAJA CALIFORNIA SUR\", \"CAMPECHE\", \"CIUDAD DE M\\u00c9XICO\", \"CHIAPAS\", \"CHIHUAHUA\", \"COAHUILA\", \"COLIMA\", \"DURANGO\", \"GUANAJUATO\", \"GUERRERO\", \"HIDALGO\", \"JALISCO\", \"M\\u00c9XICO\", \"MICHOAC\\u00c1N\", \"MORELOS\", \"NAYARIT\", \"NUEVO LE\\u00d3N\", \"OAXACA\", \"PUEBLA\", \"QUERETARO\", \"QUINTANA ROO\", \"SAN LUIS POTOS\\u00cd\", \"SINALOA\", \"SONORA\", \"TABASCO\", \"TAMAULIPAS\", \"TLAXCALA\", \"VERACRUZ\", \"YUCAT\\u00c1N\", \"ZACATECAS\"], \"type\": \"scattergeo\"}],\n",
              "                        {\"coloraxis\": {\"cmax\": 723, \"cmin\": 0, \"colorbar\": {\"title\": {\"text\": \"conteo\"}}, \"colorscale\": [[0.0, \"#0d0887\"], [0.1111111111111111, \"#46039f\"], [0.2222222222222222, \"#7201a8\"], [0.3333333333333333, \"#9c179e\"], [0.4444444444444444, \"#bd3786\"], [0.5555555555555556, \"#d8576b\"], [0.6666666666666666, \"#ed7953\"], [0.7777777777777778, \"#fb9f3a\"], [0.8888888888888888, \"#fdca26\"], [1.0, \"#f0f921\"]]}, \"geo\": {\"center\": {\"lat\": 19, \"lon\": -99}, \"domain\": {\"x\": [0.0, 1.0], \"y\": [0.0, 1.0]}, \"projection\": {\"type\": \"natural earth\"}, \"scope\": \"north america\"}, \"legend\": {\"itemsizing\": \"constant\", \"tracegroupgap\": 0}, \"margin\": {\"t\": 60}, \"sliders\": [{\"active\": 0, \"currentvalue\": {\"prefix\": \"Fecha=\"}, \"len\": 0.9, \"pad\": {\"b\": 10, \"t\": 60}, \"steps\": [{\"args\": [[\"15/03/2020\"], {\"frame\": {\"duration\": 0, \"redraw\": true}, \"fromcurrent\": true, \"mode\": \"immediate\", \"transition\": {\"duration\": 0, \"easing\": \"linear\"}}], \"label\": \"15/03/2020\", \"method\": \"animate\"}, {\"args\": [[\"16/03/2020\"], {\"frame\": {\"duration\": 0, \"redraw\": true}, \"fromcurrent\": true, \"mode\": \"immediate\", \"transition\": {\"duration\": 0, \"easing\": \"linear\"}}], \"label\": \"16/03/2020\", \"method\": \"animate\"}, {\"args\": [[\"17/03/2020\"], {\"frame\": {\"duration\": 0, \"redraw\": true}, \"fromcurrent\": true, \"mode\": \"immediate\", \"transition\": {\"duration\": 0, \"easing\": \"linear\"}}], \"label\": \"17/03/2020\", \"method\": \"animate\"}, {\"args\": [[\"18/03/2020\"], {\"frame\": {\"duration\": 0, \"redraw\": true}, \"fromcurrent\": true, \"mode\": \"immediate\", \"transition\": {\"duration\": 0, \"easing\": \"linear\"}}], \"label\": \"18/03/2020\", \"method\": \"animate\"}, {\"args\": [[\"19/03/2020\"], {\"frame\": {\"duration\": 0, \"redraw\": true}, \"fromcurrent\": true, \"mode\": \"immediate\", \"transition\": {\"duration\": 0, \"easing\": \"linear\"}}], \"label\": \"19/03/2020\", \"method\": \"animate\"}, {\"args\": [[\"20/03/2020\"], {\"frame\": {\"duration\": 0, \"redraw\": true}, \"fromcurrent\": true, \"mode\": \"immediate\", \"transition\": {\"duration\": 0, \"easing\": \"linear\"}}], \"label\": \"20/03/2020\", \"method\": \"animate\"}, {\"args\": [[\"21/03/2020\"], {\"frame\": {\"duration\": 0, \"redraw\": true}, \"fromcurrent\": true, \"mode\": \"immediate\", \"transition\": {\"duration\": 0, \"easing\": \"linear\"}}], \"label\": \"21/03/2020\", \"method\": \"animate\"}, {\"args\": [[\"22/03/2020\"], {\"frame\": {\"duration\": 0, \"redraw\": true}, \"fromcurrent\": true, \"mode\": \"immediate\", \"transition\": {\"duration\": 0, \"easing\": \"linear\"}}], \"label\": \"22/03/2020\", \"method\": \"animate\"}, {\"args\": [[\"23/03/2020\"], {\"frame\": {\"duration\": 0, \"redraw\": true}, \"fromcurrent\": true, \"mode\": \"immediate\", \"transition\": {\"duration\": 0, \"easing\": \"linear\"}}], \"label\": \"23/03/2020\", \"method\": \"animate\"}, {\"args\": [[\"24/03/2020\"], {\"frame\": {\"duration\": 0, \"redraw\": true}, \"fromcurrent\": true, \"mode\": \"immediate\", \"transition\": {\"duration\": 0, \"easing\": \"linear\"}}], \"label\": \"24/03/2020\", \"method\": \"animate\"}, {\"args\": [[\"25/03/2020\"], {\"frame\": {\"duration\": 0, \"redraw\": true}, \"fromcurrent\": true, \"mode\": \"immediate\", \"transition\": {\"duration\": 0, \"easing\": \"linear\"}}], \"label\": \"25/03/2020\", \"method\": \"animate\"}, {\"args\": [[\"26/03/2020\"], {\"frame\": {\"duration\": 0, \"redraw\": true}, \"fromcurrent\": true, \"mode\": \"immediate\", \"transition\": {\"duration\": 0, \"easing\": \"linear\"}}], \"label\": \"26/03/2020\", \"method\": \"animate\"}, {\"args\": [[\"27/03/2020\"], {\"frame\": {\"duration\": 0, \"redraw\": true}, \"fromcurrent\": true, \"mode\": \"immediate\", \"transition\": {\"duration\": 0, \"easing\": \"linear\"}}], \"label\": \"27/03/2020\", \"method\": \"animate\"}, {\"args\": [[\"28/03/2020\"], {\"frame\": {\"duration\": 0, \"redraw\": true}, \"fromcurrent\": true, \"mode\": \"immediate\", \"transition\": {\"duration\": 0, \"easing\": \"linear\"}}], \"label\": \"28/03/2020\", \"method\": \"animate\"}, {\"args\": [[\"29/03/2020\"], {\"frame\": {\"duration\": 0, \"redraw\": true}, \"fromcurrent\": true, \"mode\": \"immediate\", \"transition\": {\"duration\": 0, \"easing\": \"linear\"}}], \"label\": \"29/03/2020\", \"method\": \"animate\"}, {\"args\": [[\"30/03/2020\"], {\"frame\": {\"duration\": 0, \"redraw\": true}, \"fromcurrent\": true, \"mode\": \"immediate\", \"transition\": {\"duration\": 0, \"easing\": \"linear\"}}], \"label\": \"30/03/2020\", \"method\": \"animate\"}, {\"args\": [[\"31/03/2020\"], {\"frame\": {\"duration\": 0, \"redraw\": true}, \"fromcurrent\": true, \"mode\": \"immediate\", \"transition\": {\"duration\": 0, \"easing\": \"linear\"}}], \"label\": \"31/03/2020\", \"method\": \"animate\"}, {\"args\": [[\"01/04/2020\"], {\"frame\": {\"duration\": 0, \"redraw\": true}, \"fromcurrent\": true, \"mode\": \"immediate\", \"transition\": {\"duration\": 0, \"easing\": \"linear\"}}], \"label\": \"01/04/2020\", \"method\": \"animate\"}, {\"args\": [[\"02/04/2020\"], {\"frame\": {\"duration\": 0, \"redraw\": true}, \"fromcurrent\": true, \"mode\": \"immediate\", \"transition\": {\"duration\": 0, \"easing\": \"linear\"}}], \"label\": \"02/04/2020\", \"method\": \"animate\"}, {\"args\": [[\"03/04/2020\"], {\"frame\": {\"duration\": 0, \"redraw\": true}, \"fromcurrent\": true, \"mode\": \"immediate\", \"transition\": {\"duration\": 0, \"easing\": \"linear\"}}], \"label\": \"03/04/2020\", \"method\": \"animate\"}, {\"args\": [[\"04/04/2020\"], {\"frame\": {\"duration\": 0, \"redraw\": true}, \"fromcurrent\": true, \"mode\": \"immediate\", \"transition\": {\"duration\": 0, \"easing\": \"linear\"}}], \"label\": \"04/04/2020\", \"method\": \"animate\"}, {\"args\": [[\"05/04/2020\"], {\"frame\": {\"duration\": 0, \"redraw\": true}, \"fromcurrent\": true, \"mode\": \"immediate\", \"transition\": {\"duration\": 0, \"easing\": \"linear\"}}], \"label\": \"05/04/2020\", \"method\": \"animate\"}, {\"args\": [[\"06/04/2020\"], {\"frame\": {\"duration\": 0, \"redraw\": true}, \"fromcurrent\": true, \"mode\": \"immediate\", \"transition\": {\"duration\": 0, \"easing\": \"linear\"}}], \"label\": \"06/04/2020\", \"method\": \"animate\"}, {\"args\": [[\"07/04/2020\"], {\"frame\": {\"duration\": 0, \"redraw\": true}, \"fromcurrent\": true, \"mode\": \"immediate\", \"transition\": {\"duration\": 0, \"easing\": \"linear\"}}], \"label\": \"07/04/2020\", \"method\": \"animate\"}], \"x\": 0.1, \"xanchor\": \"left\", \"y\": 0, \"yanchor\": \"top\"}], \"template\": {\"data\": {\"bar\": [{\"error_x\": {\"color\": \"#2a3f5f\"}, \"error_y\": {\"color\": \"#2a3f5f\"}, \"marker\": {\"line\": {\"color\": \"#E5ECF6\", \"width\": 0.5}}, \"type\": \"bar\"}], \"barpolar\": [{\"marker\": {\"line\": {\"color\": \"#E5ECF6\", \"width\": 0.5}}, \"type\": \"barpolar\"}], \"carpet\": [{\"aaxis\": {\"endlinecolor\": \"#2a3f5f\", \"gridcolor\": \"white\", \"linecolor\": \"white\", \"minorgridcolor\": \"white\", \"startlinecolor\": \"#2a3f5f\"}, \"baxis\": {\"endlinecolor\": \"#2a3f5f\", \"gridcolor\": \"white\", \"linecolor\": \"white\", \"minorgridcolor\": \"white\", \"startlinecolor\": \"#2a3f5f\"}, \"type\": \"carpet\"}], \"choropleth\": [{\"colorbar\": {\"outlinewidth\": 0, \"ticks\": \"\"}, \"type\": \"choropleth\"}], \"contour\": [{\"colorbar\": {\"outlinewidth\": 0, \"ticks\": \"\"}, \"colorscale\": [[0.0, \"#0d0887\"], [0.1111111111111111, \"#46039f\"], [0.2222222222222222, \"#7201a8\"], [0.3333333333333333, \"#9c179e\"], [0.4444444444444444, \"#bd3786\"], [0.5555555555555556, \"#d8576b\"], [0.6666666666666666, \"#ed7953\"], [0.7777777777777778, \"#fb9f3a\"], [0.8888888888888888, \"#fdca26\"], [1.0, \"#f0f921\"]], \"type\": \"contour\"}], \"contourcarpet\": [{\"colorbar\": {\"outlinewidth\": 0, \"ticks\": \"\"}, \"type\": \"contourcarpet\"}], \"heatmap\": [{\"colorbar\": {\"outlinewidth\": 0, \"ticks\": \"\"}, \"colorscale\": [[0.0, \"#0d0887\"], [0.1111111111111111, \"#46039f\"], [0.2222222222222222, \"#7201a8\"], [0.3333333333333333, \"#9c179e\"], [0.4444444444444444, \"#bd3786\"], [0.5555555555555556, \"#d8576b\"], [0.6666666666666666, \"#ed7953\"], [0.7777777777777778, \"#fb9f3a\"], [0.8888888888888888, \"#fdca26\"], [1.0, \"#f0f921\"]], \"type\": \"heatmap\"}], \"heatmapgl\": [{\"colorbar\": {\"outlinewidth\": 0, \"ticks\": \"\"}, \"colorscale\": [[0.0, \"#0d0887\"], [0.1111111111111111, \"#46039f\"], [0.2222222222222222, \"#7201a8\"], [0.3333333333333333, \"#9c179e\"], [0.4444444444444444, \"#bd3786\"], [0.5555555555555556, \"#d8576b\"], [0.6666666666666666, \"#ed7953\"], [0.7777777777777778, \"#fb9f3a\"], [0.8888888888888888, \"#fdca26\"], [1.0, \"#f0f921\"]], \"type\": \"heatmapgl\"}], \"histogram\": [{\"marker\": {\"colorbar\": {\"outlinewidth\": 0, \"ticks\": \"\"}}, \"type\": \"histogram\"}], \"histogram2d\": [{\"colorbar\": {\"outlinewidth\": 0, \"ticks\": \"\"}, \"colorscale\": [[0.0, \"#0d0887\"], [0.1111111111111111, \"#46039f\"], [0.2222222222222222, \"#7201a8\"], [0.3333333333333333, \"#9c179e\"], [0.4444444444444444, \"#bd3786\"], [0.5555555555555556, \"#d8576b\"], [0.6666666666666666, \"#ed7953\"], [0.7777777777777778, \"#fb9f3a\"], [0.8888888888888888, \"#fdca26\"], [1.0, \"#f0f921\"]], \"type\": \"histogram2d\"}], \"histogram2dcontour\": [{\"colorbar\": {\"outlinewidth\": 0, \"ticks\": \"\"}, \"colorscale\": [[0.0, \"#0d0887\"], [0.1111111111111111, \"#46039f\"], [0.2222222222222222, \"#7201a8\"], [0.3333333333333333, \"#9c179e\"], [0.4444444444444444, \"#bd3786\"], [0.5555555555555556, \"#d8576b\"], [0.6666666666666666, \"#ed7953\"], [0.7777777777777778, \"#fb9f3a\"], [0.8888888888888888, \"#fdca26\"], [1.0, \"#f0f921\"]], \"type\": \"histogram2dcontour\"}], \"mesh3d\": [{\"colorbar\": {\"outlinewidth\": 0, \"ticks\": \"\"}, \"type\": \"mesh3d\"}], \"parcoords\": [{\"line\": {\"colorbar\": {\"outlinewidth\": 0, \"ticks\": \"\"}}, \"type\": \"parcoords\"}], \"pie\": [{\"automargin\": true, \"type\": \"pie\"}], \"scatter\": [{\"marker\": {\"colorbar\": {\"outlinewidth\": 0, \"ticks\": \"\"}}, \"type\": \"scatter\"}], \"scatter3d\": [{\"line\": {\"colorbar\": {\"outlinewidth\": 0, \"ticks\": \"\"}}, \"marker\": {\"colorbar\": {\"outlinewidth\": 0, \"ticks\": \"\"}}, \"type\": \"scatter3d\"}], \"scattercarpet\": [{\"marker\": {\"colorbar\": {\"outlinewidth\": 0, \"ticks\": \"\"}}, \"type\": \"scattercarpet\"}], \"scattergeo\": [{\"marker\": {\"colorbar\": {\"outlinewidth\": 0, \"ticks\": \"\"}}, \"type\": \"scattergeo\"}], \"scattergl\": [{\"marker\": {\"colorbar\": {\"outlinewidth\": 0, \"ticks\": \"\"}}, \"type\": \"scattergl\"}], \"scattermapbox\": [{\"marker\": {\"colorbar\": {\"outlinewidth\": 0, \"ticks\": \"\"}}, \"type\": \"scattermapbox\"}], \"scatterpolar\": [{\"marker\": {\"colorbar\": {\"outlinewidth\": 0, \"ticks\": \"\"}}, \"type\": \"scatterpolar\"}], \"scatterpolargl\": [{\"marker\": {\"colorbar\": {\"outlinewidth\": 0, \"ticks\": \"\"}}, \"type\": \"scatterpolargl\"}], \"scatterternary\": [{\"marker\": {\"colorbar\": {\"outlinewidth\": 0, \"ticks\": \"\"}}, \"type\": \"scatterternary\"}], \"surface\": [{\"colorbar\": {\"outlinewidth\": 0, \"ticks\": \"\"}, \"colorscale\": [[0.0, \"#0d0887\"], [0.1111111111111111, \"#46039f\"], [0.2222222222222222, \"#7201a8\"], [0.3333333333333333, \"#9c179e\"], [0.4444444444444444, \"#bd3786\"], [0.5555555555555556, \"#d8576b\"], [0.6666666666666666, \"#ed7953\"], [0.7777777777777778, \"#fb9f3a\"], [0.8888888888888888, \"#fdca26\"], [1.0, \"#f0f921\"]], \"type\": \"surface\"}], \"table\": [{\"cells\": {\"fill\": {\"color\": \"#EBF0F8\"}, \"line\": {\"color\": \"white\"}}, \"header\": {\"fill\": {\"color\": \"#C8D4E3\"}, \"line\": {\"color\": \"white\"}}, \"type\": \"table\"}]}, \"layout\": {\"annotationdefaults\": {\"arrowcolor\": \"#2a3f5f\", \"arrowhead\": 0, \"arrowwidth\": 1}, \"coloraxis\": {\"colorbar\": {\"outlinewidth\": 0, \"ticks\": \"\"}}, \"colorscale\": {\"diverging\": [[0, \"#8e0152\"], [0.1, \"#c51b7d\"], [0.2, \"#de77ae\"], [0.3, \"#f1b6da\"], [0.4, \"#fde0ef\"], [0.5, \"#f7f7f7\"], [0.6, \"#e6f5d0\"], [0.7, \"#b8e186\"], [0.8, \"#7fbc41\"], [0.9, \"#4d9221\"], [1, \"#276419\"]], \"sequential\": [[0.0, \"#0d0887\"], [0.1111111111111111, \"#46039f\"], [0.2222222222222222, \"#7201a8\"], [0.3333333333333333, \"#9c179e\"], [0.4444444444444444, \"#bd3786\"], [0.5555555555555556, \"#d8576b\"], [0.6666666666666666, \"#ed7953\"], [0.7777777777777778, \"#fb9f3a\"], [0.8888888888888888, \"#fdca26\"], [1.0, \"#f0f921\"]], \"sequentialminus\": [[0.0, \"#0d0887\"], [0.1111111111111111, \"#46039f\"], [0.2222222222222222, \"#7201a8\"], [0.3333333333333333, \"#9c179e\"], [0.4444444444444444, \"#bd3786\"], [0.5555555555555556, \"#d8576b\"], [0.6666666666666666, \"#ed7953\"], [0.7777777777777778, \"#fb9f3a\"], [0.8888888888888888, \"#fdca26\"], [1.0, \"#f0f921\"]]}, \"colorway\": [\"#636efa\", \"#EF553B\", \"#00cc96\", \"#ab63fa\", \"#FFA15A\", \"#19d3f3\", \"#FF6692\", \"#B6E880\", \"#FF97FF\", \"#FECB52\"], \"font\": {\"color\": \"#2a3f5f\"}, \"geo\": {\"bgcolor\": \"white\", \"lakecolor\": \"white\", \"landcolor\": \"#E5ECF6\", \"showlakes\": true, \"showland\": true, \"subunitcolor\": \"white\"}, \"hoverlabel\": {\"align\": \"left\"}, \"hovermode\": \"closest\", \"mapbox\": {\"style\": \"light\"}, \"paper_bgcolor\": \"white\", \"plot_bgcolor\": \"#E5ECF6\", \"polar\": {\"angularaxis\": {\"gridcolor\": \"white\", \"linecolor\": \"white\", \"ticks\": \"\"}, \"bgcolor\": \"#E5ECF6\", \"radialaxis\": {\"gridcolor\": \"white\", \"linecolor\": \"white\", \"ticks\": \"\"}}, \"scene\": {\"xaxis\": {\"backgroundcolor\": \"#E5ECF6\", \"gridcolor\": \"white\", \"gridwidth\": 2, \"linecolor\": \"white\", \"showbackground\": true, \"ticks\": \"\", \"zerolinecolor\": \"white\"}, \"yaxis\": {\"backgroundcolor\": \"#E5ECF6\", \"gridcolor\": \"white\", \"gridwidth\": 2, \"linecolor\": \"white\", \"showbackground\": true, \"ticks\": \"\", \"zerolinecolor\": \"white\"}, \"zaxis\": {\"backgroundcolor\": \"#E5ECF6\", \"gridcolor\": \"white\", \"gridwidth\": 2, \"linecolor\": \"white\", \"showbackground\": true, \"ticks\": \"\", \"zerolinecolor\": \"white\"}}, \"shapedefaults\": {\"line\": {\"color\": \"#2a3f5f\"}}, \"ternary\": {\"aaxis\": {\"gridcolor\": \"white\", \"linecolor\": \"white\", \"ticks\": \"\"}, \"baxis\": {\"gridcolor\": \"white\", \"linecolor\": \"white\", \"ticks\": \"\"}, \"bgcolor\": \"#E5ECF6\", \"caxis\": {\"gridcolor\": \"white\", \"linecolor\": \"white\", \"ticks\": \"\"}}, \"title\": {\"x\": 0.05}, \"xaxis\": {\"automargin\": true, \"gridcolor\": \"white\", \"linecolor\": \"white\", \"ticks\": \"\", \"title\": {\"standoff\": 15}, \"zerolinecolor\": \"white\", \"zerolinewidth\": 2}, \"yaxis\": {\"automargin\": true, \"gridcolor\": \"white\", \"linecolor\": \"white\", \"ticks\": \"\", \"title\": {\"standoff\": 15}, \"zerolinecolor\": \"white\", \"zerolinewidth\": 2}}}, \"updatemenus\": [{\"buttons\": [{\"args\": [null, {\"frame\": {\"duration\": 500, \"redraw\": true}, \"fromcurrent\": true, \"mode\": \"immediate\", \"transition\": {\"duration\": 500, \"easing\": \"linear\"}}], \"label\": \"&#9654;\", \"method\": \"animate\"}, {\"args\": [[null], {\"frame\": {\"duration\": 0, \"redraw\": true}, \"fromcurrent\": true, \"mode\": \"immediate\", \"transition\": {\"duration\": 0, \"easing\": \"linear\"}}], \"label\": \"&#9724;\", \"method\": \"animate\"}], \"direction\": \"left\", \"pad\": {\"r\": 10, \"t\": 70}, \"showactive\": false, \"type\": \"buttons\", \"x\": 0.1, \"xanchor\": \"right\", \"y\": 0, \"yanchor\": \"top\"}], \"width\": 800},\n",
              "                        {\"responsive\": true}\n",
              "                    ).then(function(){\n",
              "                            Plotly.addFrames('7241ca2d-4b02-4264-8a57-18df9004469a', [{\"data\": [{\"geo\": \"geo\", \"hoverlabel\": {\"namelength\": 0}, \"hovertemplate\": \"Fecha=15/03/2020<br>conteo=%{marker.color}<br>Estado=%{text}<br>Lat=%{lat}<br>Long=%{lon}\", \"lat\": [21.8823395, 32.6278114, 24.144369100000002, 19.843860600000003, 19.4284706, 16.759729399999998, 28.635280600000005, 25.423210100000002, 19.249969500000002, 25.5698509, 21.0185795, 16.849420499999997, 20.1169701, 20.6668205, 19.2878609, 19.700780899999998, 18.926099800000003, 21.509510000000002, 25.6750698, 17.0654202, 19.0640602, 20.5880604, 21.1742897, 22.149820300000002, 23.2329006, 29.1026001, 17.9868908, 26.0806103, 19.31905, 19.180950199999998, 20.400417, 22.76843], \"legendgroup\": \"\", \"lon\": [-102.28259279999999, -115.4544601, -110.300499, -90.5255432, -99.1276627, -93.11308290000001, -106.08889009999999, -101.0053024, -103.7271423, -103.4958801, -101.2591019, -99.9089127, -98.7332916, -103.3918228, -99.65323640000001, -101.184433, -99.230751, -104.8956909, -100.3184662, -96.72364809999999, -98.30352020000001, -100.38806149999999, -86.84655759999998, -100.97915649999999, -106.4061966, -110.97731780000001, -92.93028259999998, -98.288353, -98.19981999999999, -96.1428986, -89.134857, -102.58140999999999], \"marker\": {\"color\": [1, 0, 0, 0, 18, 1, 0, 0, 0, 1, 0, 0, 0, 2, 3, 0, 0, 0, 5, 2, 6, 6, 1, 2, 1, 0, 0, 0, 0, 0, 1, 0], \"coloraxis\": \"coloraxis\", \"size\": [1, 0, 0, 0, 18, 1, 0, 0, 0, 1, 0, 0, 0, 2, 3, 0, 0, 0, 5, 2, 6, 6, 1, 2, 1, 0, 0, 0, 0, 0, 1, 0], \"sizemode\": \"area\", \"sizeref\": 1.8075}, \"name\": \"\", \"showlegend\": false, \"text\": [\"AGUASCALIENTES\", \"BAJA CALIFORNIA\", \"BAJA CALIFORNIA SUR\", \"CAMPECHE\", \"CIUDAD DE M\\u00c9XICO\", \"CHIAPAS\", \"CHIHUAHUA\", \"COAHUILA\", \"COLIMA\", \"DURANGO\", \"GUANAJUATO\", \"GUERRERO\", \"HIDALGO\", \"JALISCO\", \"M\\u00c9XICO\", \"MICHOAC\\u00c1N\", \"MORELOS\", \"NAYARIT\", \"NUEVO LE\\u00d3N\", \"OAXACA\", \"PUEBLA\", \"QUERETARO\", \"QUINTANA ROO\", \"SAN LUIS POTOS\\u00cd\", \"SINALOA\", \"SONORA\", \"TABASCO\", \"TAMAULIPAS\", \"TLAXCALA\", \"VERACRUZ\", \"YUCAT\\u00c1N\", \"ZACATECAS\"], \"type\": \"scattergeo\"}], \"name\": \"15/03/2020\"}, {\"data\": [{\"geo\": \"geo\", \"hoverlabel\": {\"namelength\": 0}, \"hovertemplate\": \"Fecha=16/03/2020<br>conteo=%{marker.color}<br>Estado=%{text}<br>Lat=%{lat}<br>Long=%{lon}\", \"lat\": [21.8823395, 32.6278114, 24.144369100000002, 19.843860600000003, 19.4284706, 16.759729399999998, 28.635280600000005, 25.423210100000002, 19.249969500000002, 25.5698509, 21.0185795, 16.849420499999997, 20.1169701, 20.6668205, 19.2878609, 19.700780899999998, 18.926099800000003, 21.509510000000002, 25.6750698, 17.0654202, 19.0640602, 20.5880604, 21.1742897, 22.149820300000002, 23.2329006, 29.1026001, 17.9868908, 26.0806103, 19.31905, 19.180950199999998, 20.400417, 22.76843], \"legendgroup\": \"\", \"lon\": [-102.28259279999999, -115.4544601, -110.300499, -90.5255432, -99.1276627, -93.11308290000001, -106.08889009999999, -101.0053024, -103.7271423, -103.4958801, -101.2591019, -99.9089127, -98.7332916, -103.3918228, -99.65323640000001, -101.184433, -99.230751, -104.8956909, -100.3184662, -96.72364809999999, -98.30352020000001, -100.38806149999999, -86.84655759999998, -100.97915649999999, -106.4061966, -110.97731780000001, -92.93028259999998, -98.288353, -98.19981999999999, -96.1428986, -89.134857, -102.58140999999999], \"marker\": {\"color\": [1, 0, 0, 0, 21, 1, 0, 1, 0, 3, 0, 2, 0, 2, 9, 0, 0, 0, 13, 2, 8, 7, 4, 2, 2, 0, 0, 0, 0, 0, 4, 0], \"coloraxis\": \"coloraxis\", \"size\": [1, 0, 0, 0, 21, 1, 0, 1, 0, 3, 0, 2, 0, 2, 9, 0, 0, 0, 13, 2, 8, 7, 4, 2, 2, 0, 0, 0, 0, 0, 4, 0], \"sizemode\": \"area\", \"sizeref\": 1.8075}, \"name\": \"\", \"showlegend\": false, \"text\": [\"AGUASCALIENTES\", \"BAJA CALIFORNIA\", \"BAJA CALIFORNIA SUR\", \"CAMPECHE\", \"CIUDAD DE M\\u00c9XICO\", \"CHIAPAS\", \"CHIHUAHUA\", \"COAHUILA\", \"COLIMA\", \"DURANGO\", \"GUANAJUATO\", \"GUERRERO\", \"HIDALGO\", \"JALISCO\", \"M\\u00c9XICO\", \"MICHOAC\\u00c1N\", \"MORELOS\", \"NAYARIT\", \"NUEVO LE\\u00d3N\", \"OAXACA\", \"PUEBLA\", \"QUERETARO\", \"QUINTANA ROO\", \"SAN LUIS POTOS\\u00cd\", \"SINALOA\", \"SONORA\", \"TABASCO\", \"TAMAULIPAS\", \"TLAXCALA\", \"VERACRUZ\", \"YUCAT\\u00c1N\", \"ZACATECAS\"], \"type\": \"scattergeo\"}], \"name\": \"16/03/2020\"}, {\"data\": [{\"geo\": \"geo\", \"hoverlabel\": {\"namelength\": 0}, \"hovertemplate\": \"Fecha=17/03/2020<br>conteo=%{marker.color}<br>Estado=%{text}<br>Lat=%{lat}<br>Long=%{lon}\", \"lat\": [21.8823395, 32.6278114, 24.144369100000002, 19.843860600000003, 19.4284706, 16.759729399999998, 28.635280600000005, 25.423210100000002, 19.249969500000002, 25.5698509, 21.0185795, 16.849420499999997, 20.1169701, 20.6668205, 19.2878609, 19.700780899999998, 18.926099800000003, 21.509510000000002, 25.6750698, 17.0654202, 19.0640602, 20.5880604, 21.1742897, 22.149820300000002, 23.2329006, 29.1026001, 17.9868908, 26.0806103, 19.31905, 19.180950199999998, 20.400417, 22.76843], \"legendgroup\": \"\", \"lon\": [-102.28259279999999, -115.4544601, -110.300499, -90.5255432, -99.1276627, -93.11308290000001, -106.08889009999999, -101.0053024, -103.7271423, -103.4958801, -101.2591019, -99.9089127, -98.7332916, -103.3918228, -99.65323640000001, -101.184433, -99.230751, -104.8956909, -100.3184662, -96.72364809999999, -98.30352020000001, -100.38806149999999, -86.84655759999998, -100.97915649999999, -106.4061966, -110.97731780000001, -92.93028259999998, -98.288353, -98.19981999999999, -96.1428986, -89.134857, -102.58140999999999], \"marker\": {\"color\": [1, 0, 0, 0, 21, 1, 1, 1, 0, 3, 1, 2, 0, 5, 10, 0, 0, 0, 14, 2, 9, 7, 4, 2, 2, 1, 0, 1, 0, 0, 5, 0], \"coloraxis\": \"coloraxis\", \"size\": [1, 0, 0, 0, 21, 1, 1, 1, 0, 3, 1, 2, 0, 5, 10, 0, 0, 0, 14, 2, 9, 7, 4, 2, 2, 1, 0, 1, 0, 0, 5, 0], \"sizemode\": \"area\", \"sizeref\": 1.8075}, \"name\": \"\", \"showlegend\": false, \"text\": [\"AGUASCALIENTES\", \"BAJA CALIFORNIA\", \"BAJA CALIFORNIA SUR\", \"CAMPECHE\", \"CIUDAD DE M\\u00c9XICO\", \"CHIAPAS\", \"CHIHUAHUA\", \"COAHUILA\", \"COLIMA\", \"DURANGO\", \"GUANAJUATO\", \"GUERRERO\", \"HIDALGO\", \"JALISCO\", \"M\\u00c9XICO\", \"MICHOAC\\u00c1N\", \"MORELOS\", \"NAYARIT\", \"NUEVO LE\\u00d3N\", \"OAXACA\", \"PUEBLA\", \"QUERETARO\", \"QUINTANA ROO\", \"SAN LUIS POTOS\\u00cd\", \"SINALOA\", \"SONORA\", \"TABASCO\", \"TAMAULIPAS\", \"TLAXCALA\", \"VERACRUZ\", \"YUCAT\\u00c1N\", \"ZACATECAS\"], \"type\": \"scattergeo\"}], \"name\": \"17/03/2020\"}, {\"data\": [{\"geo\": \"geo\", \"hoverlabel\": {\"namelength\": 0}, \"hovertemplate\": \"Fecha=18/03/2020<br>conteo=%{marker.color}<br>Estado=%{text}<br>Lat=%{lat}<br>Long=%{lon}\", \"lat\": [21.8823395, 32.6278114, 24.144369100000002, 19.843860600000003, 19.4284706, 16.759729399999998, 28.635280600000005, 25.423210100000002, 19.249969500000002, 25.5698509, 21.0185795, 16.849420499999997, 20.1169701, 20.6668205, 19.2878609, 19.700780899999998, 18.926099800000003, 21.509510000000002, 25.6750698, 17.0654202, 19.0640602, 20.5880604, 21.1742897, 22.149820300000002, 23.2329006, 29.1026001, 17.9868908, 26.0806103, 19.31905, 19.180950199999998, 20.400417, 22.76843], \"legendgroup\": \"\", \"lon\": [-102.28259279999999, -115.4544601, -110.300499, -90.5255432, -99.1276627, -93.11308290000001, -106.08889009999999, -101.0053024, -103.7271423, -103.4958801, -101.2591019, -99.9089127, -98.7332916, -103.3918228, -99.65323640000001, -101.184433, -99.230751, -104.8956909, -100.3184662, -96.72364809999999, -98.30352020000001, -100.38806149999999, -86.84655759999998, -100.97915649999999, -106.4061966, -110.97731780000001, -92.93028259999998, -98.288353, -98.19981999999999, -96.1428986, -89.134857, -102.58140999999999], \"marker\": {\"color\": [1, 2, 0, 0, 24, 1, 1, 1, 1, 3, 4, 2, 0, 6, 10, 0, 0, 0, 19, 2, 9, 7, 6, 3, 2, 1, 1, 2, 0, 2, 8, 0], \"coloraxis\": \"coloraxis\", \"size\": [1, 2, 0, 0, 24, 1, 1, 1, 1, 3, 4, 2, 0, 6, 10, 0, 0, 0, 19, 2, 9, 7, 6, 3, 2, 1, 1, 2, 0, 2, 8, 0], \"sizemode\": \"area\", \"sizeref\": 1.8075}, \"name\": \"\", \"showlegend\": false, \"text\": [\"AGUASCALIENTES\", \"BAJA CALIFORNIA\", \"BAJA CALIFORNIA SUR\", \"CAMPECHE\", \"CIUDAD DE M\\u00c9XICO\", \"CHIAPAS\", \"CHIHUAHUA\", \"COAHUILA\", \"COLIMA\", \"DURANGO\", \"GUANAJUATO\", \"GUERRERO\", \"HIDALGO\", \"JALISCO\", \"M\\u00c9XICO\", \"MICHOAC\\u00c1N\", \"MORELOS\", \"NAYARIT\", \"NUEVO LE\\u00d3N\", \"OAXACA\", \"PUEBLA\", \"QUERETARO\", \"QUINTANA ROO\", \"SAN LUIS POTOS\\u00cd\", \"SINALOA\", \"SONORA\", \"TABASCO\", \"TAMAULIPAS\", \"TLAXCALA\", \"VERACRUZ\", \"YUCAT\\u00c1N\", \"ZACATECAS\"], \"type\": \"scattergeo\"}], \"name\": \"18/03/2020\"}, {\"data\": [{\"geo\": \"geo\", \"hoverlabel\": {\"namelength\": 0}, \"hovertemplate\": \"Fecha=19/03/2020<br>conteo=%{marker.color}<br>Estado=%{text}<br>Lat=%{lat}<br>Long=%{lon}\", \"lat\": [21.8823395, 32.6278114, 24.144369100000002, 19.843860600000003, 19.4284706, 16.759729399999998, 28.635280600000005, 25.423210100000002, 19.249969500000002, 25.5698509, 21.0185795, 16.849420499999997, 20.1169701, 20.6668205, 19.2878609, 19.700780899999998, 18.926099800000003, 21.509510000000002, 25.6750698, 17.0654202, 19.0640602, 20.5880604, 21.1742897, 22.149820300000002, 23.2329006, 29.1026001, 17.9868908, 26.0806103, 19.31905, 19.180950199999998, 20.400417, 22.76843], \"legendgroup\": \"\", \"lon\": [-102.28259279999999, -115.4544601, -110.300499, -90.5255432, -99.1276627, -93.11308290000001, -106.08889009999999, -101.0053024, -103.7271423, -103.4958801, -101.2591019, -99.9089127, -98.7332916, -103.3918228, -99.65323640000001, -101.184433, -99.230751, -104.8956909, -100.3184662, -96.72364809999999, -98.30352020000001, -100.38806149999999, -86.84655759999998, -100.97915649999999, -106.4061966, -110.97731780000001, -92.93028259999998, -98.288353, -98.19981999999999, -96.1428986, -89.134857, -102.58140999999999], \"marker\": {\"color\": [4, 2, 0, 0, 31, 2, 1, 1, 1, 3, 4, 4, 2, 22, 10, 0, 0, 0, 19, 2, 11, 9, 6, 7, 3, 2, 1, 2, 0, 2, 13, 0], \"coloraxis\": \"coloraxis\", \"size\": [4, 2, 0, 0, 31, 2, 1, 1, 1, 3, 4, 4, 2, 22, 10, 0, 0, 0, 19, 2, 11, 9, 6, 7, 3, 2, 1, 2, 0, 2, 13, 0], \"sizemode\": \"area\", \"sizeref\": 1.8075}, \"name\": \"\", \"showlegend\": false, \"text\": [\"AGUASCALIENTES\", \"BAJA CALIFORNIA\", \"BAJA CALIFORNIA SUR\", \"CAMPECHE\", \"CIUDAD DE M\\u00c9XICO\", \"CHIAPAS\", \"CHIHUAHUA\", \"COAHUILA\", \"COLIMA\", \"DURANGO\", \"GUANAJUATO\", \"GUERRERO\", \"HIDALGO\", \"JALISCO\", \"M\\u00c9XICO\", \"MICHOAC\\u00c1N\", \"MORELOS\", \"NAYARIT\", \"NUEVO LE\\u00d3N\", \"OAXACA\", \"PUEBLA\", \"QUERETARO\", \"QUINTANA ROO\", \"SAN LUIS POTOS\\u00cd\", \"SINALOA\", \"SONORA\", \"TABASCO\", \"TAMAULIPAS\", \"TLAXCALA\", \"VERACRUZ\", \"YUCAT\\u00c1N\", \"ZACATECAS\"], \"type\": \"scattergeo\"}], \"name\": \"19/03/2020\"}, {\"data\": [{\"geo\": \"geo\", \"hoverlabel\": {\"namelength\": 0}, \"hovertemplate\": \"Fecha=20/03/2020<br>conteo=%{marker.color}<br>Estado=%{text}<br>Lat=%{lat}<br>Long=%{lon}\", \"lat\": [21.8823395, 32.6278114, 24.144369100000002, 19.843860600000003, 19.4284706, 16.759729399999998, 28.635280600000005, 25.423210100000002, 19.249969500000002, 25.5698509, 21.0185795, 16.849420499999997, 20.1169701, 20.6668205, 19.2878609, 19.700780899999998, 18.926099800000003, 21.509510000000002, 25.6750698, 17.0654202, 19.0640602, 20.5880604, 21.1742897, 22.149820300000002, 23.2329006, 29.1026001, 17.9868908, 26.0806103, 19.31905, 19.180950199999998, 20.400417, 22.76843], \"legendgroup\": \"\", \"lon\": [-102.28259279999999, -115.4544601, -110.300499, -90.5255432, -99.1276627, -93.11308290000001, -106.08889009999999, -101.0053024, -103.7271423, -103.4958801, -101.2591019, -99.9089127, -98.7332916, -103.3918228, -99.65323640000001, -101.184433, -99.230751, -104.8956909, -100.3184662, -96.72364809999999, -98.30352020000001, -100.38806149999999, -86.84655759999998, -100.97915649999999, -106.4061966, -110.97731780000001, -92.93028259999998, -98.288353, -98.19981999999999, -96.1428986, -89.134857, -102.58140999999999], \"marker\": {\"color\": [4, 4, 0, 0, 31, 2, 2, 1, 1, 4, 4, 4, 2, 28, 14, 0, 2, 0, 28, 2, 14, 11, 11, 7, 3, 2, 2, 2, 0, 4, 13, 0], \"coloraxis\": \"coloraxis\", \"size\": [4, 4, 0, 0, 31, 2, 2, 1, 1, 4, 4, 4, 2, 28, 14, 0, 2, 0, 28, 2, 14, 11, 11, 7, 3, 2, 2, 2, 0, 4, 13, 0], \"sizemode\": \"area\", \"sizeref\": 1.8075}, \"name\": \"\", \"showlegend\": false, \"text\": [\"AGUASCALIENTES\", \"BAJA CALIFORNIA\", \"BAJA CALIFORNIA SUR\", \"CAMPECHE\", \"CIUDAD DE M\\u00c9XICO\", \"CHIAPAS\", \"CHIHUAHUA\", \"COAHUILA\", \"COLIMA\", \"DURANGO\", \"GUANAJUATO\", \"GUERRERO\", \"HIDALGO\", \"JALISCO\", \"M\\u00c9XICO\", \"MICHOAC\\u00c1N\", \"MORELOS\", \"NAYARIT\", \"NUEVO LE\\u00d3N\", \"OAXACA\", \"PUEBLA\", \"QUERETARO\", \"QUINTANA ROO\", \"SAN LUIS POTOS\\u00cd\", \"SINALOA\", \"SONORA\", \"TABASCO\", \"TAMAULIPAS\", \"TLAXCALA\", \"VERACRUZ\", \"YUCAT\\u00c1N\", \"ZACATECAS\"], \"type\": \"scattergeo\"}], \"name\": \"20/03/2020\"}, {\"data\": [{\"geo\": \"geo\", \"hoverlabel\": {\"namelength\": 0}, \"hovertemplate\": \"Fecha=21/03/2020<br>conteo=%{marker.color}<br>Estado=%{text}<br>Lat=%{lat}<br>Long=%{lon}\", \"lat\": [21.8823395, 32.6278114, 24.144369100000002, 19.843860600000003, 19.4284706, 16.759729399999998, 28.635280600000005, 25.423210100000002, 19.249969500000002, 25.5698509, 21.0185795, 16.849420499999997, 20.1169701, 20.6668205, 19.2878609, 19.700780899999998, 18.926099800000003, 21.509510000000002, 25.6750698, 17.0654202, 19.0640602, 20.5880604, 21.1742897, 22.149820300000002, 23.2329006, 29.1026001, 17.9868908, 26.0806103, 19.31905, 19.180950199999998, 20.400417, 22.76843], \"legendgroup\": \"\", \"lon\": [-102.28259279999999, -115.4544601, -110.300499, -90.5255432, -99.1276627, -93.11308290000001, -106.08889009999999, -101.0053024, -103.7271423, -103.4958801, -101.2591019, -99.9089127, -98.7332916, -103.3918228, -99.65323640000001, -101.184433, -99.230751, -104.8956909, -100.3184662, -96.72364809999999, -98.30352020000001, -100.38806149999999, -86.84655759999998, -100.97915649999999, -106.4061966, -110.97731780000001, -92.93028259999998, -98.288353, -98.19981999999999, -96.1428986, -89.134857, -102.58140999999999], \"marker\": {\"color\": [4, 8, 1, 0, 45, 2, 2, 3, 2, 5, 4, 3, 3, 32, 13, 0, 2, 1, 32, 2, 16, 14, 12, 9, 3, 2, 4, 3, 0, 7, 14, 1], \"coloraxis\": \"coloraxis\", \"size\": [4, 8, 1, 0, 45, 2, 2, 3, 2, 5, 4, 3, 3, 32, 13, 0, 2, 1, 32, 2, 16, 14, 12, 9, 3, 2, 4, 3, 0, 7, 14, 1], \"sizemode\": \"area\", \"sizeref\": 1.8075}, \"name\": \"\", \"showlegend\": false, \"text\": [\"AGUASCALIENTES\", \"BAJA CALIFORNIA\", \"BAJA CALIFORNIA SUR\", \"CAMPECHE\", \"CIUDAD DE M\\u00c9XICO\", \"CHIAPAS\", \"CHIHUAHUA\", \"COAHUILA\", \"COLIMA\", \"DURANGO\", \"GUANAJUATO\", \"GUERRERO\", \"HIDALGO\", \"JALISCO\", \"M\\u00c9XICO\", \"MICHOAC\\u00c1N\", \"MORELOS\", \"NAYARIT\", \"NUEVO LE\\u00d3N\", \"OAXACA\", \"PUEBLA\", \"QUERETARO\", \"QUINTANA ROO\", \"SAN LUIS POTOS\\u00cd\", \"SINALOA\", \"SONORA\", \"TABASCO\", \"TAMAULIPAS\", \"TLAXCALA\", \"VERACRUZ\", \"YUCAT\\u00c1N\", \"ZACATECAS\"], \"type\": \"scattergeo\"}], \"name\": \"21/03/2020\"}, {\"data\": [{\"geo\": \"geo\", \"hoverlabel\": {\"namelength\": 0}, \"hovertemplate\": \"Fecha=22/03/2020<br>conteo=%{marker.color}<br>Estado=%{text}<br>Lat=%{lat}<br>Long=%{lon}\", \"lat\": [21.8823395, 32.6278114, 24.144369100000002, 19.843860600000003, 19.4284706, 16.759729399999998, 28.635280600000005, 25.423210100000002, 19.249969500000002, 25.5698509, 21.0185795, 16.849420499999997, 20.1169701, 20.6668205, 19.2878609, 19.700780899999998, 18.926099800000003, 21.509510000000002, 25.6750698, 17.0654202, 19.0640602, 20.5880604, 21.1742897, 22.149820300000002, 23.2329006, 29.1026001, 17.9868908, 26.0806103, 19.31905, 19.180950199999998, 20.400417, 22.76843], \"legendgroup\": \"\", \"lon\": [-102.28259279999999, -115.4544601, -110.300499, -90.5255432, -99.1276627, -93.11308290000001, -106.08889009999999, -101.0053024, -103.7271423, -103.4958801, -101.2591019, -99.9089127, -98.7332916, -103.3918228, -99.65323640000001, -101.184433, -99.230751, -104.8956909, -100.3184662, -96.72364809999999, -98.30352020000001, -100.38806149999999, -86.84655759999998, -100.97915649999999, -106.4061966, -110.97731780000001, -92.93028259999998, -98.288353, -98.19981999999999, -96.1428986, -89.134857, -102.58140999999999], \"marker\": {\"color\": [4, 11, 1, 1, 56, 2, 5, 10, 2, 4, 4, 3, 5, 41, 21, 3, 2, 1, 35, 3, 16, 14, 12, 12, 4, 4, 5, 4, 0, 7, 19, 2], \"coloraxis\": \"coloraxis\", \"size\": [4, 11, 1, 1, 56, 2, 5, 10, 2, 4, 4, 3, 5, 41, 21, 3, 2, 1, 35, 3, 16, 14, 12, 12, 4, 4, 5, 4, 0, 7, 19, 2], \"sizemode\": \"area\", \"sizeref\": 1.8075}, \"name\": \"\", \"showlegend\": false, \"text\": [\"AGUASCALIENTES\", \"BAJA CALIFORNIA\", \"BAJA CALIFORNIA SUR\", \"CAMPECHE\", \"CIUDAD DE M\\u00c9XICO\", \"CHIAPAS\", \"CHIHUAHUA\", \"COAHUILA\", \"COLIMA\", \"DURANGO\", \"GUANAJUATO\", \"GUERRERO\", \"HIDALGO\", \"JALISCO\", \"M\\u00c9XICO\", \"MICHOAC\\u00c1N\", \"MORELOS\", \"NAYARIT\", \"NUEVO LE\\u00d3N\", \"OAXACA\", \"PUEBLA\", \"QUERETARO\", \"QUINTANA ROO\", \"SAN LUIS POTOS\\u00cd\", \"SINALOA\", \"SONORA\", \"TABASCO\", \"TAMAULIPAS\", \"TLAXCALA\", \"VERACRUZ\", \"YUCAT\\u00c1N\", \"ZACATECAS\"], \"type\": \"scattergeo\"}], \"name\": \"22/03/2020\"}, {\"data\": [{\"geo\": \"geo\", \"hoverlabel\": {\"namelength\": 0}, \"hovertemplate\": \"Fecha=23/03/2020<br>conteo=%{marker.color}<br>Estado=%{text}<br>Lat=%{lat}<br>Long=%{lon}\", \"lat\": [21.8823395, 32.6278114, 24.144369100000002, 19.843860600000003, 19.4284706, 16.759729399999998, 28.635280600000005, 25.423210100000002, 19.249969500000002, 25.5698509, 21.0185795, 16.849420499999997, 20.1169701, 20.6668205, 19.2878609, 19.700780899999998, 18.926099800000003, 21.509510000000002, 25.6750698, 17.0654202, 19.0640602, 20.5880604, 21.1742897, 22.149820300000002, 23.2329006, 29.1026001, 17.9868908, 26.0806103, 19.31905, 19.180950199999998, 20.400417, 22.76843], \"legendgroup\": \"\", \"lon\": [-102.28259279999999, -115.4544601, -110.300499, -90.5255432, -99.1276627, -93.11308290000001, -106.08889009999999, -101.0053024, -103.7271423, -103.4958801, -101.2591019, -99.9089127, -98.7332916, -103.3918228, -99.65323640000001, -101.184433, -99.230751, -104.8956909, -100.3184662, -96.72364809999999, -98.30352020000001, -100.38806149999999, -86.84655759999998, -100.97915649999999, -106.4061966, -110.97731780000001, -92.93028259999998, -98.288353, -98.19981999999999, -96.1428986, -89.134857, -102.58140999999999], \"marker\": {\"color\": [6, 13, 2, 2, 60, 2, 5, 12, 2, 5, 7, 5, 7, 46, 22, 7, 2, 1, 40, 4, 16, 16, 21, 16, 4, 4, 6, 5, 0, 7, 19, 3], \"coloraxis\": \"coloraxis\", \"size\": [6, 13, 2, 2, 60, 2, 5, 12, 2, 5, 7, 5, 7, 46, 22, 7, 2, 1, 40, 4, 16, 16, 21, 16, 4, 4, 6, 5, 0, 7, 19, 3], \"sizemode\": \"area\", \"sizeref\": 1.8075}, \"name\": \"\", \"showlegend\": false, \"text\": [\"AGUASCALIENTES\", \"BAJA CALIFORNIA\", \"BAJA CALIFORNIA SUR\", \"CAMPECHE\", \"CIUDAD DE M\\u00c9XICO\", \"CHIAPAS\", \"CHIHUAHUA\", \"COAHUILA\", \"COLIMA\", \"DURANGO\", \"GUANAJUATO\", \"GUERRERO\", \"HIDALGO\", \"JALISCO\", \"M\\u00c9XICO\", \"MICHOAC\\u00c1N\", \"MORELOS\", \"NAYARIT\", \"NUEVO LE\\u00d3N\", \"OAXACA\", \"PUEBLA\", \"QUERETARO\", \"QUINTANA ROO\", \"SAN LUIS POTOS\\u00cd\", \"SINALOA\", \"SONORA\", \"TABASCO\", \"TAMAULIPAS\", \"TLAXCALA\", \"VERACRUZ\", \"YUCAT\\u00c1N\", \"ZACATECAS\"], \"type\": \"scattergeo\"}], \"name\": \"23/03/2020\"}, {\"data\": [{\"geo\": \"geo\", \"hoverlabel\": {\"namelength\": 0}, \"hovertemplate\": \"Fecha=24/03/2020<br>conteo=%{marker.color}<br>Estado=%{text}<br>Lat=%{lat}<br>Long=%{lon}\", \"lat\": [21.8823395, 32.6278114, 24.144369100000002, 19.843860600000003, 19.4284706, 16.759729399999998, 28.635280600000005, 25.423210100000002, 19.249969500000002, 25.5698509, 21.0185795, 16.849420499999997, 20.1169701, 20.6668205, 19.2878609, 19.700780899999998, 18.926099800000003, 21.509510000000002, 25.6750698, 17.0654202, 19.0640602, 20.5880604, 21.1742897, 22.149820300000002, 23.2329006, 29.1026001, 17.9868908, 26.0806103, 19.31905, 19.180950199999998, 20.400417, 22.76843], \"legendgroup\": \"\", \"lon\": [-102.28259279999999, -115.4544601, -110.300499, -90.5255432, -99.1276627, -93.11308290000001, -106.08889009999999, -101.0053024, -103.7271423, -103.4958801, -101.2591019, -99.9089127, -98.7332916, -103.3918228, -99.65323640000001, -101.184433, -99.230751, -104.8956909, -100.3184662, -96.72364809999999, -98.30352020000001, -100.38806149999999, -86.84655759999998, -100.97915649999999, -106.4061966, -110.97731780000001, -92.93028259999998, -98.288353, -98.19981999999999, -96.1428986, -89.134857, -102.58140999999999], \"marker\": {\"color\": [6, 13, 2, 2, 66, 2, 6, 12, 2, 5, 12, 6, 7, 46, 22, 8, 2, 1, 52, 4, 22, 16, 22, 16, 4, 4, 6, 5, 0, 7, 24, 3], \"coloraxis\": \"coloraxis\", \"size\": [6, 13, 2, 2, 66, 2, 6, 12, 2, 5, 12, 6, 7, 46, 22, 8, 2, 1, 52, 4, 22, 16, 22, 16, 4, 4, 6, 5, 0, 7, 24, 3], \"sizemode\": \"area\", \"sizeref\": 1.8075}, \"name\": \"\", \"showlegend\": false, \"text\": [\"AGUASCALIENTES\", \"BAJA CALIFORNIA\", \"BAJA CALIFORNIA SUR\", \"CAMPECHE\", \"CIUDAD DE M\\u00c9XICO\", \"CHIAPAS\", \"CHIHUAHUA\", \"COAHUILA\", \"COLIMA\", \"DURANGO\", \"GUANAJUATO\", \"GUERRERO\", \"HIDALGO\", \"JALISCO\", \"M\\u00c9XICO\", \"MICHOAC\\u00c1N\", \"MORELOS\", \"NAYARIT\", \"NUEVO LE\\u00d3N\", \"OAXACA\", \"PUEBLA\", \"QUERETARO\", \"QUINTANA ROO\", \"SAN LUIS POTOS\\u00cd\", \"SINALOA\", \"SONORA\", \"TABASCO\", \"TAMAULIPAS\", \"TLAXCALA\", \"VERACRUZ\", \"YUCAT\\u00c1N\", \"ZACATECAS\"], \"type\": \"scattergeo\"}], \"name\": \"24/03/2020\"}, {\"data\": [{\"geo\": \"geo\", \"hoverlabel\": {\"namelength\": 0}, \"hovertemplate\": \"Fecha=25/03/2020<br>conteo=%{marker.color}<br>Estado=%{text}<br>Lat=%{lat}<br>Long=%{lon}\", \"lat\": [21.8823395, 32.6278114, 24.144369100000002, 19.843860600000003, 19.4284706, 16.759729399999998, 28.635280600000005, 25.423210100000002, 19.249969500000002, 25.5698509, 21.0185795, 16.849420499999997, 20.1169701, 20.6668205, 19.2878609, 19.700780899999998, 18.926099800000003, 21.509510000000002, 25.6750698, 17.0654202, 19.0640602, 20.5880604, 21.1742897, 22.149820300000002, 23.2329006, 29.1026001, 17.9868908, 26.0806103, 19.31905, 19.180950199999998, 20.400417, 22.76843], \"legendgroup\": \"\", \"lon\": [-102.28259279999999, -115.4544601, -110.300499, -90.5255432, -99.1276627, -93.11308290000001, -106.08889009999999, -101.0053024, -103.7271423, -103.4958801, -101.2591019, -99.9089127, -98.7332916, -103.3918228, -99.65323640000001, -101.184433, -99.230751, -104.8956909, -100.3184662, -96.72364809999999, -98.30352020000001, -100.38806149999999, -86.84655759999998, -100.97915649999999, -106.4061966, -110.97731780000001, -92.93028259999998, -98.288353, -98.19981999999999, -96.1428986, -89.134857, -102.58140999999999], \"marker\": {\"color\": [12, 14, 5, 2, 82, 4, 6, 12, 2, 5, 19, 7, 7, 46, 26, 10, 2, 4, 52, 7, 34, 18, 22, 17, 4, 4, 6, 6, 1, 7, 29, 3], \"coloraxis\": \"coloraxis\", \"size\": [12, 14, 5, 2, 82, 4, 6, 12, 2, 5, 19, 7, 7, 46, 26, 10, 2, 4, 52, 7, 34, 18, 22, 17, 4, 4, 6, 6, 1, 7, 29, 3], \"sizemode\": \"area\", \"sizeref\": 1.8075}, \"name\": \"\", \"showlegend\": false, \"text\": [\"AGUASCALIENTES\", \"BAJA CALIFORNIA\", \"BAJA CALIFORNIA SUR\", \"CAMPECHE\", \"CIUDAD DE M\\u00c9XICO\", \"CHIAPAS\", \"CHIHUAHUA\", \"COAHUILA\", \"COLIMA\", \"DURANGO\", \"GUANAJUATO\", \"GUERRERO\", \"HIDALGO\", \"JALISCO\", \"M\\u00c9XICO\", \"MICHOAC\\u00c1N\", \"MORELOS\", \"NAYARIT\", \"NUEVO LE\\u00d3N\", \"OAXACA\", \"PUEBLA\", \"QUERETARO\", \"QUINTANA ROO\", \"SAN LUIS POTOS\\u00cd\", \"SINALOA\", \"SONORA\", \"TABASCO\", \"TAMAULIPAS\", \"TLAXCALA\", \"VERACRUZ\", \"YUCAT\\u00c1N\", \"ZACATECAS\"], \"type\": \"scattergeo\"}], \"name\": \"25/03/2020\"}, {\"data\": [{\"geo\": \"geo\", \"hoverlabel\": {\"namelength\": 0}, \"hovertemplate\": \"Fecha=26/03/2020<br>conteo=%{marker.color}<br>Estado=%{text}<br>Lat=%{lat}<br>Long=%{lon}\", \"lat\": [21.8823395, 32.6278114, 24.144369100000002, 19.843860600000003, 19.4284706, 16.759729399999998, 28.635280600000005, 25.423210100000002, 19.249969500000002, 25.5698509, 21.0185795, 16.849420499999997, 20.1169701, 20.6668205, 19.2878609, 19.700780899999998, 18.926099800000003, 21.509510000000002, 25.6750698, 17.0654202, 19.0640602, 20.5880604, 21.1742897, 22.149820300000002, 23.2329006, 29.1026001, 17.9868908, 26.0806103, 19.31905, 19.180950199999998, 20.400417, 22.76843], \"legendgroup\": \"\", \"lon\": [-102.28259279999999, -115.4544601, -110.300499, -90.5255432, -99.1276627, -93.11308290000001, -106.08889009999999, -101.0053024, -103.7271423, -103.4958801, -101.2591019, -99.9089127, -98.7332916, -103.3918228, -99.65323640000001, -101.184433, -99.230751, -104.8956909, -100.3184662, -96.72364809999999, -98.30352020000001, -100.38806149999999, -86.84655759999998, -100.97915649999999, -106.4061966, -110.97731780000001, -92.93028259999998, -98.288353, -98.19981999999999, -96.1428986, -89.134857, -102.58140999999999], \"marker\": {\"color\": [13, 19, 7, 2, 83, 4, 6, 13, 2, 5, 23, 7, 12, 64, 46, 11, 4, 4, 57, 8, 45, 21, 29, 18, 8, 7, 17, 6, 1, 7, 32, 4], \"coloraxis\": \"coloraxis\", \"size\": [13, 19, 7, 2, 83, 4, 6, 13, 2, 5, 23, 7, 12, 64, 46, 11, 4, 4, 57, 8, 45, 21, 29, 18, 8, 7, 17, 6, 1, 7, 32, 4], \"sizemode\": \"area\", \"sizeref\": 1.8075}, \"name\": \"\", \"showlegend\": false, \"text\": [\"AGUASCALIENTES\", \"BAJA CALIFORNIA\", \"BAJA CALIFORNIA SUR\", \"CAMPECHE\", \"CIUDAD DE M\\u00c9XICO\", \"CHIAPAS\", \"CHIHUAHUA\", \"COAHUILA\", \"COLIMA\", \"DURANGO\", \"GUANAJUATO\", \"GUERRERO\", \"HIDALGO\", \"JALISCO\", \"M\\u00c9XICO\", \"MICHOAC\\u00c1N\", \"MORELOS\", \"NAYARIT\", \"NUEVO LE\\u00d3N\", \"OAXACA\", \"PUEBLA\", \"QUERETARO\", \"QUINTANA ROO\", \"SAN LUIS POTOS\\u00cd\", \"SINALOA\", \"SONORA\", \"TABASCO\", \"TAMAULIPAS\", \"TLAXCALA\", \"VERACRUZ\", \"YUCAT\\u00c1N\", \"ZACATECAS\"], \"type\": \"scattergeo\"}], \"name\": \"26/03/2020\"}, {\"data\": [{\"geo\": \"geo\", \"hoverlabel\": {\"namelength\": 0}, \"hovertemplate\": \"Fecha=27/03/2020<br>conteo=%{marker.color}<br>Estado=%{text}<br>Lat=%{lat}<br>Long=%{lon}\", \"lat\": [21.8823395, 32.6278114, 24.144369100000002, 19.843860600000003, 19.4284706, 16.759729399999998, 28.635280600000005, 25.423210100000002, 19.249969500000002, 25.5698509, 21.0185795, 16.849420499999997, 20.1169701, 20.6668205, 19.2878609, 19.700780899999998, 18.926099800000003, 21.509510000000002, 25.6750698, 17.0654202, 19.0640602, 20.5880604, 21.1742897, 22.149820300000002, 23.2329006, 29.1026001, 17.9868908, 26.0806103, 19.31905, 19.180950199999998, 20.400417, 22.76843], \"legendgroup\": \"\", \"lon\": [-102.28259279999999, -115.4544601, -110.300499, -90.5255432, -99.1276627, -93.11308290000001, -106.08889009999999, -101.0053024, -103.7271423, -103.4958801, -101.2591019, -99.9089127, -98.7332916, -103.3918228, -99.65323640000001, -101.184433, -99.230751, -104.8956909, -100.3184662, -96.72364809999999, -98.30352020000001, -100.38806149999999, -86.84655759999998, -100.97915649999999, -106.4061966, -110.97731780000001, -92.93028259999998, -98.288353, -98.19981999999999, -96.1428986, -89.134857, -102.58140999999999], \"marker\": {\"color\": [19, 20, 9, 2, 107, 7, 6, 14, 2, 7, 31, 7, 12, 77, 70, 16, 4, 5, 64, 11, 51, 23, 29, 19, 9, 8, 21, 6, 4, 17, 36, 4], \"coloraxis\": \"coloraxis\", \"size\": [19, 20, 9, 2, 107, 7, 6, 14, 2, 7, 31, 7, 12, 77, 70, 16, 4, 5, 64, 11, 51, 23, 29, 19, 9, 8, 21, 6, 4, 17, 36, 4], \"sizemode\": \"area\", \"sizeref\": 1.8075}, \"name\": \"\", \"showlegend\": false, \"text\": [\"AGUASCALIENTES\", \"BAJA CALIFORNIA\", \"BAJA CALIFORNIA SUR\", \"CAMPECHE\", \"CIUDAD DE M\\u00c9XICO\", \"CHIAPAS\", \"CHIHUAHUA\", \"COAHUILA\", \"COLIMA\", \"DURANGO\", \"GUANAJUATO\", \"GUERRERO\", \"HIDALGO\", \"JALISCO\", \"M\\u00c9XICO\", \"MICHOAC\\u00c1N\", \"MORELOS\", \"NAYARIT\", \"NUEVO LE\\u00d3N\", \"OAXACA\", \"PUEBLA\", \"QUERETARO\", \"QUINTANA ROO\", \"SAN LUIS POTOS\\u00cd\", \"SINALOA\", \"SONORA\", \"TABASCO\", \"TAMAULIPAS\", \"TLAXCALA\", \"VERACRUZ\", \"YUCAT\\u00c1N\", \"ZACATECAS\"], \"type\": \"scattergeo\"}], \"name\": \"27/03/2020\"}, {\"data\": [{\"geo\": \"geo\", \"hoverlabel\": {\"namelength\": 0}, \"hovertemplate\": \"Fecha=28/03/2020<br>conteo=%{marker.color}<br>Estado=%{text}<br>Lat=%{lat}<br>Long=%{lon}\", \"lat\": [21.8823395, 32.6278114, 24.144369100000002, 19.843860600000003, 19.4284706, 16.759729399999998, 28.635280600000005, 25.423210100000002, 19.249969500000002, 25.5698509, 21.0185795, 16.849420499999997, 20.1169701, 20.6668205, 19.2878609, 19.700780899999998, 18.926099800000003, 21.509510000000002, 25.6750698, 17.0654202, 19.0640602, 20.5880604, 21.1742897, 22.149820300000002, 23.2329006, 29.1026001, 17.9868908, 26.0806103, 19.31905, 19.180950199999998, 20.400417, 22.76843], \"legendgroup\": \"\", \"lon\": [-102.28259279999999, -115.4544601, -110.300499, -90.5255432, -99.1276627, -93.11308290000001, -106.08889009999999, -101.0053024, -103.7271423, -103.4958801, -101.2591019, -99.9089127, -98.7332916, -103.3918228, -99.65323640000001, -101.184433, -99.230751, -104.8956909, -100.3184662, -96.72364809999999, -98.30352020000001, -100.38806149999999, -86.84655759999998, -100.97915649999999, -106.4061966, -110.97731780000001, -92.93028259999998, -98.288353, -98.19981999999999, -96.1428986, -89.134857, -102.58140999999999], \"marker\": {\"color\": [19, 20, 9, 3, 177, 6, 6, 15, 2, 7, 37, 10, 12, 82, 85, 17, 4, 5, 64, 12, 52, 25, 33, 20, 14, 10, 27, 6, 4, 23, 38, 4], \"coloraxis\": \"coloraxis\", \"size\": [19, 20, 9, 3, 177, 6, 6, 15, 2, 7, 37, 10, 12, 82, 85, 17, 4, 5, 64, 12, 52, 25, 33, 20, 14, 10, 27, 6, 4, 23, 38, 4], \"sizemode\": \"area\", \"sizeref\": 1.8075}, \"name\": \"\", \"showlegend\": false, \"text\": [\"AGUASCALIENTES\", \"BAJA CALIFORNIA\", \"BAJA CALIFORNIA SUR\", \"CAMPECHE\", \"CIUDAD DE M\\u00c9XICO\", \"CHIAPAS\", \"CHIHUAHUA\", \"COAHUILA\", \"COLIMA\", \"DURANGO\", \"GUANAJUATO\", \"GUERRERO\", \"HIDALGO\", \"JALISCO\", \"M\\u00c9XICO\", \"MICHOAC\\u00c1N\", \"MORELOS\", \"NAYARIT\", \"NUEVO LE\\u00d3N\", \"OAXACA\", \"PUEBLA\", \"QUERETARO\", \"QUINTANA ROO\", \"SAN LUIS POTOS\\u00cd\", \"SINALOA\", \"SONORA\", \"TABASCO\", \"TAMAULIPAS\", \"TLAXCALA\", \"VERACRUZ\", \"YUCAT\\u00c1N\", \"ZACATECAS\"], \"type\": \"scattergeo\"}], \"name\": \"28/03/2020\"}, {\"data\": [{\"geo\": \"geo\", \"hoverlabel\": {\"namelength\": 0}, \"hovertemplate\": \"Fecha=29/03/2020<br>conteo=%{marker.color}<br>Estado=%{text}<br>Lat=%{lat}<br>Long=%{lon}\", \"lat\": [21.8823395, 32.6278114, 24.144369100000002, 19.843860600000003, 19.4284706, 16.759729399999998, 28.635280600000005, 25.423210100000002, 19.249969500000002, 25.5698509, 21.0185795, 16.849420499999997, 20.1169701, 20.6668205, 19.2878609, 19.700780899999998, 18.926099800000003, 21.509510000000002, 25.6750698, 17.0654202, 19.0640602, 20.5880604, 21.1742897, 22.149820300000002, 23.2329006, 29.1026001, 17.9868908, 26.0806103, 19.31905, 19.180950199999998, 20.400417, 22.76843], \"legendgroup\": \"\", \"lon\": [-102.28259279999999, -115.4544601, -110.300499, -90.5255432, -99.1276627, -93.11308290000001, -106.08889009999999, -101.0053024, -103.7271423, -103.4958801, -101.2591019, -99.9089127, -98.7332916, -103.3918228, -99.65323640000001, -101.184433, -99.230751, -104.8956909, -100.3184662, -96.72364809999999, -98.30352020000001, -100.38806149999999, -86.84655759999998, -100.97915649999999, -106.4061966, -110.97731780000001, -92.93028259999998, -98.288353, -98.19981999999999, -96.1428986, -89.134857, -102.58140999999999], \"marker\": {\"color\": [24, 23, 11, 3, 196, 10, 6, 32, 2, 7, 37, 13, 17, 83, 119, 17, 6, 5, 67, 14, 66, 26, 38, 24, 19, 14, 33, 7, 4, 24, 41, 5], \"coloraxis\": \"coloraxis\", \"size\": [24, 23, 11, 3, 196, 10, 6, 32, 2, 7, 37, 13, 17, 83, 119, 17, 6, 5, 67, 14, 66, 26, 38, 24, 19, 14, 33, 7, 4, 24, 41, 5], \"sizemode\": \"area\", \"sizeref\": 1.8075}, \"name\": \"\", \"showlegend\": false, \"text\": [\"AGUASCALIENTES\", \"BAJA CALIFORNIA\", \"BAJA CALIFORNIA SUR\", \"CAMPECHE\", \"CIUDAD DE M\\u00c9XICO\", \"CHIAPAS\", \"CHIHUAHUA\", \"COAHUILA\", \"COLIMA\", \"DURANGO\", \"GUANAJUATO\", \"GUERRERO\", \"HIDALGO\", \"JALISCO\", \"M\\u00c9XICO\", \"MICHOAC\\u00c1N\", \"MORELOS\", \"NAYARIT\", \"NUEVO LE\\u00d3N\", \"OAXACA\", \"PUEBLA\", \"QUERETARO\", \"QUINTANA ROO\", \"SAN LUIS POTOS\\u00cd\", \"SINALOA\", \"SONORA\", \"TABASCO\", \"TAMAULIPAS\", \"TLAXCALA\", \"VERACRUZ\", \"YUCAT\\u00c1N\", \"ZACATECAS\"], \"type\": \"scattergeo\"}], \"name\": \"29/03/2020\"}, {\"data\": [{\"geo\": \"geo\", \"hoverlabel\": {\"namelength\": 0}, \"hovertemplate\": \"Fecha=30/03/2020<br>conteo=%{marker.color}<br>Estado=%{text}<br>Lat=%{lat}<br>Long=%{lon}\", \"lat\": [21.8823395, 32.6278114, 24.144369100000002, 19.843860600000003, 19.4284706, 16.759729399999998, 28.635280600000005, 25.423210100000002, 19.249969500000002, 25.5698509, 21.0185795, 16.849420499999997, 20.1169701, 20.6668205, 19.2878609, 19.700780899999998, 18.926099800000003, 21.509510000000002, 25.6750698, 17.0654202, 19.0640602, 20.5880604, 21.1742897, 22.149820300000002, 23.2329006, 29.1026001, 17.9868908, 26.0806103, 19.31905, 19.180950199999998, 20.400417, 22.76843], \"legendgroup\": \"\", \"lon\": [-102.28259279999999, -115.4544601, -110.300499, -90.5255432, -99.1276627, -93.11308290000001, -106.08889009999999, -101.0053024, -103.7271423, -103.4958801, -101.2591019, -99.9089127, -98.7332916, -103.3918228, -99.65323640000001, -101.184433, -99.230751, -104.8956909, -100.3184662, -96.72364809999999, -98.30352020000001, -100.38806149999999, -86.84655759999998, -100.97915649999999, -106.4061966, -110.97731780000001, -92.93028259999998, -98.288353, -98.19981999999999, -96.1428986, -89.134857, -102.58140999999999], \"marker\": {\"color\": [24, 27, 13, 3, 205, 11, 6, 39, 2, 7, 43, 13, 17, 90, 136, 17, 6, 6, 75, 14, 76, 27, 43, 25, 24, 17, 38, 8, 4, 26, 46, 6], \"coloraxis\": \"coloraxis\", \"size\": [24, 27, 13, 3, 205, 11, 6, 39, 2, 7, 43, 13, 17, 90, 136, 17, 6, 6, 75, 14, 76, 27, 43, 25, 24, 17, 38, 8, 4, 26, 46, 6], \"sizemode\": \"area\", \"sizeref\": 1.8075}, \"name\": \"\", \"showlegend\": false, \"text\": [\"AGUASCALIENTES\", \"BAJA CALIFORNIA\", \"BAJA CALIFORNIA SUR\", \"CAMPECHE\", \"CIUDAD DE M\\u00c9XICO\", \"CHIAPAS\", \"CHIHUAHUA\", \"COAHUILA\", \"COLIMA\", \"DURANGO\", \"GUANAJUATO\", \"GUERRERO\", \"HIDALGO\", \"JALISCO\", \"M\\u00c9XICO\", \"MICHOAC\\u00c1N\", \"MORELOS\", \"NAYARIT\", \"NUEVO LE\\u00d3N\", \"OAXACA\", \"PUEBLA\", \"QUERETARO\", \"QUINTANA ROO\", \"SAN LUIS POTOS\\u00cd\", \"SINALOA\", \"SONORA\", \"TABASCO\", \"TAMAULIPAS\", \"TLAXCALA\", \"VERACRUZ\", \"YUCAT\\u00c1N\", \"ZACATECAS\"], \"type\": \"scattergeo\"}], \"name\": \"30/03/2020\"}, {\"data\": [{\"geo\": \"geo\", \"hoverlabel\": {\"namelength\": 0}, \"hovertemplate\": \"Fecha=31/03/2020<br>conteo=%{marker.color}<br>Estado=%{text}<br>Lat=%{lat}<br>Long=%{lon}\", \"lat\": [21.8823395, 32.6278114, 24.144369100000002, 19.843860600000003, 19.4284706, 16.759729399999998, 28.635280600000005, 25.423210100000002, 19.249969500000002, 25.5698509, 21.0185795, 16.849420499999997, 20.1169701, 20.6668205, 19.2878609, 19.700780899999998, 18.926099800000003, 21.509510000000002, 25.6750698, 17.0654202, 19.0640602, 20.5880604, 21.1742897, 22.149820300000002, 23.2329006, 29.1026001, 17.9868908, 26.0806103, 19.31905, 19.180950199999998, 20.400417, 22.76843], \"legendgroup\": \"\", \"lon\": [-102.28259279999999, -115.4544601, -110.300499, -90.5255432, -99.1276627, -93.11308290000001, -106.08889009999999, -101.0053024, -103.7271423, -103.4958801, -101.2591019, -99.9089127, -98.7332916, -103.3918228, -99.65323640000001, -101.184433, -99.230751, -104.8956909, -100.3184662, -96.72364809999999, -98.30352020000001, -100.38806149999999, -86.84655759999998, -100.97915649999999, -106.4061966, -110.97731780000001, -92.93028259999998, -98.288353, -98.19981999999999, -96.1428986, -89.134857, -102.58140999999999], \"marker\": {\"color\": [36, 35, 17, 5, 234, 13, 7, 44, 2, 7, 46, 15, 19, 94, 149, 21, 7, 6, 76, 14, 81, 29, 47, 25, 27, 17, 48, 8, 4, 27, 49, 6], \"coloraxis\": \"coloraxis\", \"size\": [36, 35, 17, 5, 234, 13, 7, 44, 2, 7, 46, 15, 19, 94, 149, 21, 7, 6, 76, 14, 81, 29, 47, 25, 27, 17, 48, 8, 4, 27, 49, 6], \"sizemode\": \"area\", \"sizeref\": 1.8075}, \"name\": \"\", \"showlegend\": false, \"text\": [\"AGUASCALIENTES\", \"BAJA CALIFORNIA\", \"BAJA CALIFORNIA SUR\", \"CAMPECHE\", \"CIUDAD DE M\\u00c9XICO\", \"CHIAPAS\", \"CHIHUAHUA\", \"COAHUILA\", \"COLIMA\", \"DURANGO\", \"GUANAJUATO\", \"GUERRERO\", \"HIDALGO\", \"JALISCO\", \"M\\u00c9XICO\", \"MICHOAC\\u00c1N\", \"MORELOS\", \"NAYARIT\", \"NUEVO LE\\u00d3N\", \"OAXACA\", \"PUEBLA\", \"QUERETARO\", \"QUINTANA ROO\", \"SAN LUIS POTOS\\u00cd\", \"SINALOA\", \"SONORA\", \"TABASCO\", \"TAMAULIPAS\", \"TLAXCALA\", \"VERACRUZ\", \"YUCAT\\u00c1N\", \"ZACATECAS\"], \"type\": \"scattergeo\"}], \"name\": \"31/03/2020\"}, {\"data\": [{\"geo\": \"geo\", \"hoverlabel\": {\"namelength\": 0}, \"hovertemplate\": \"Fecha=01/04/2020<br>conteo=%{marker.color}<br>Estado=%{text}<br>Lat=%{lat}<br>Long=%{lon}\", \"lat\": [21.8823395, 32.6278114, 24.144369100000002, 19.843860600000003, 19.4284706, 16.759729399999998, 28.635280600000005, 25.423210100000002, 19.249969500000002, 25.5698509, 21.0185795, 16.849420499999997, 20.1169701, 20.6668205, 19.2878609, 19.700780899999998, 18.926099800000003, 21.509510000000002, 25.6750698, 17.0654202, 19.0640602, 20.5880604, 21.1742897, 22.149820300000002, 23.2329006, 29.1026001, 17.9868908, 26.0806103, 19.31905, 19.180950199999998, 20.400417, 22.76843], \"legendgroup\": \"\", \"lon\": [-102.28259279999999, -115.4544601, -110.300499, -90.5255432, -99.1276627, -93.11308290000001, -106.08889009999999, -101.0053024, -103.7271423, -103.4958801, -101.2591019, -99.9089127, -98.7332916, -103.3918228, -99.65323640000001, -101.184433, -99.230751, -104.8956909, -100.3184662, -96.72364809999999, -98.30352020000001, -100.38806149999999, -86.84655759999998, -100.97915649999999, -106.4061966, -110.97731780000001, -92.93028259999998, -98.288353, -98.19981999999999, -96.1428986, -89.134857, -102.58140999999999], \"marker\": {\"color\": [36, 37, 18, 5, 296, 14, 11, 57, 3, 7, 49, 17, 21, 99, 157, 24, 9, 8, 78, 22, 97, 29, 51, 31, 32, 18, 52, 9, 5, 28, 52, 6], \"coloraxis\": \"coloraxis\", \"size\": [36, 37, 18, 5, 296, 14, 11, 57, 3, 7, 49, 17, 21, 99, 157, 24, 9, 8, 78, 22, 97, 29, 51, 31, 32, 18, 52, 9, 5, 28, 52, 6], \"sizemode\": \"area\", \"sizeref\": 1.8075}, \"name\": \"\", \"showlegend\": false, \"text\": [\"AGUASCALIENTES\", \"BAJA CALIFORNIA\", \"BAJA CALIFORNIA SUR\", \"CAMPECHE\", \"CIUDAD DE M\\u00c9XICO\", \"CHIAPAS\", \"CHIHUAHUA\", \"COAHUILA\", \"COLIMA\", \"DURANGO\", \"GUANAJUATO\", \"GUERRERO\", \"HIDALGO\", \"JALISCO\", \"M\\u00c9XICO\", \"MICHOAC\\u00c1N\", \"MORELOS\", \"NAYARIT\", \"NUEVO LE\\u00d3N\", \"OAXACA\", \"PUEBLA\", \"QUERETARO\", \"QUINTANA ROO\", \"SAN LUIS POTOS\\u00cd\", \"SINALOA\", \"SONORA\", \"TABASCO\", \"TAMAULIPAS\", \"TLAXCALA\", \"VERACRUZ\", \"YUCAT\\u00c1N\", \"ZACATECAS\"], \"type\": \"scattergeo\"}], \"name\": \"01/04/2020\"}, {\"data\": [{\"geo\": \"geo\", \"hoverlabel\": {\"namelength\": 0}, \"hovertemplate\": \"Fecha=02/04/2020<br>conteo=%{marker.color}<br>Estado=%{text}<br>Lat=%{lat}<br>Long=%{lon}\", \"lat\": [21.8823395, 32.6278114, 24.144369100000002, 19.843860600000003, 19.4284706, 16.759729399999998, 28.635280600000005, 25.423210100000002, 19.249969500000002, 25.5698509, 21.0185795, 16.849420499999997, 20.1169701, 20.6668205, 19.2878609, 19.700780899999998, 18.926099800000003, 21.509510000000002, 25.6750698, 17.0654202, 19.0640602, 20.5880604, 21.1742897, 22.149820300000002, 23.2329006, 29.1026001, 17.9868908, 26.0806103, 19.31905, 19.180950199999998, 20.400417, 22.76843], \"legendgroup\": \"\", \"lon\": [-102.28259279999999, -115.4544601, -110.300499, -90.5255432, -99.1276627, -93.11308290000001, -106.08889009999999, -101.0053024, -103.7271423, -103.4958801, -101.2591019, -99.9089127, -98.7332916, -103.3918228, -99.65323640000001, -101.184433, -99.230751, -104.8956909, -100.3184662, -96.72364809999999, -98.30352020000001, -100.38806149999999, -86.84655759999998, -100.97915649999999, -106.4061966, -110.97731780000001, -92.93028259999998, -98.288353, -98.19981999999999, -96.1428986, -89.134857, -102.58140999999999], \"marker\": {\"color\": [47, 40, 19, 5, 327, 15, 11, 62, 3, 8, 50, 22, 26, 104, 171, 24, 9, 8, 84, 22, 100, 32, 56, 33, 42, 21, 62, 13, 5, 29, 53, 7], \"coloraxis\": \"coloraxis\", \"size\": [47, 40, 19, 5, 327, 15, 11, 62, 3, 8, 50, 22, 26, 104, 171, 24, 9, 8, 84, 22, 100, 32, 56, 33, 42, 21, 62, 13, 5, 29, 53, 7], \"sizemode\": \"area\", \"sizeref\": 1.8075}, \"name\": \"\", \"showlegend\": false, \"text\": [\"AGUASCALIENTES\", \"BAJA CALIFORNIA\", \"BAJA CALIFORNIA SUR\", \"CAMPECHE\", \"CIUDAD DE M\\u00c9XICO\", \"CHIAPAS\", \"CHIHUAHUA\", \"COAHUILA\", \"COLIMA\", \"DURANGO\", \"GUANAJUATO\", \"GUERRERO\", \"HIDALGO\", \"JALISCO\", \"M\\u00c9XICO\", \"MICHOAC\\u00c1N\", \"MORELOS\", \"NAYARIT\", \"NUEVO LE\\u00d3N\", \"OAXACA\", \"PUEBLA\", \"QUERETARO\", \"QUINTANA ROO\", \"SAN LUIS POTOS\\u00cd\", \"SINALOA\", \"SONORA\", \"TABASCO\", \"TAMAULIPAS\", \"TLAXCALA\", \"VERACRUZ\", \"YUCAT\\u00c1N\", \"ZACATECAS\"], \"type\": \"scattergeo\"}], \"name\": \"02/04/2020\"}, {\"data\": [{\"geo\": \"geo\", \"hoverlabel\": {\"namelength\": 0}, \"hovertemplate\": \"Fecha=03/04/2020<br>conteo=%{marker.color}<br>Estado=%{text}<br>Lat=%{lat}<br>Long=%{lon}\", \"lat\": [21.8823395, 32.6278114, 24.144369100000002, 19.843860600000003, 19.4284706, 16.759729399999998, 28.635280600000005, 25.423210100000002, 19.249969500000002, 25.5698509, 21.0185795, 16.849420499999997, 20.1169701, 20.6668205, 19.2878609, 19.700780899999998, 18.926099800000003, 21.509510000000002, 25.6750698, 17.0654202, 19.0640602, 20.5880604, 21.1742897, 22.149820300000002, 23.2329006, 29.1026001, 17.9868908, 26.0806103, 19.31905, 19.180950199999998, 20.400417, 22.76843], \"legendgroup\": \"\", \"lon\": [-102.28259279999999, -115.4544601, -110.300499, -90.5255432, -99.1276627, -93.11308290000001, -106.08889009999999, -101.0053024, -103.7271423, -103.4958801, -101.2591019, -99.9089127, -98.7332916, -103.3918228, -99.65323640000001, -101.184433, -99.230751, -104.8956909, -100.3184662, -96.72364809999999, -98.30352020000001, -100.38806149999999, -86.84655759999998, -100.97915649999999, -106.4061966, -110.97731780000001, -92.93028259999998, -98.288353, -98.19981999999999, -96.1428986, -89.134857, -102.58140999999999], \"marker\": {\"color\": [48, 52, 21, 6, 384, 18, 12, 70, 4, 8, 52, 24, 30, 116, 177, 24, 12, 8, 85, 22, 109, 35, 65, 35, 51, 22, 73, 16, 8, 35, 59, 7], \"coloraxis\": \"coloraxis\", \"size\": [48, 52, 21, 6, 384, 18, 12, 70, 4, 8, 52, 24, 30, 116, 177, 24, 12, 8, 85, 22, 109, 35, 65, 35, 51, 22, 73, 16, 8, 35, 59, 7], \"sizemode\": \"area\", \"sizeref\": 1.8075}, \"name\": \"\", \"showlegend\": false, \"text\": [\"AGUASCALIENTES\", \"BAJA CALIFORNIA\", \"BAJA CALIFORNIA SUR\", \"CAMPECHE\", \"CIUDAD DE M\\u00c9XICO\", \"CHIAPAS\", \"CHIHUAHUA\", \"COAHUILA\", \"COLIMA\", \"DURANGO\", \"GUANAJUATO\", \"GUERRERO\", \"HIDALGO\", \"JALISCO\", \"M\\u00c9XICO\", \"MICHOAC\\u00c1N\", \"MORELOS\", \"NAYARIT\", \"NUEVO LE\\u00d3N\", \"OAXACA\", \"PUEBLA\", \"QUERETARO\", \"QUINTANA ROO\", \"SAN LUIS POTOS\\u00cd\", \"SINALOA\", \"SONORA\", \"TABASCO\", \"TAMAULIPAS\", \"TLAXCALA\", \"VERACRUZ\", \"YUCAT\\u00c1N\", \"ZACATECAS\"], \"type\": \"scattergeo\"}], \"name\": \"03/04/2020\"}, {\"data\": [{\"geo\": \"geo\", \"hoverlabel\": {\"namelength\": 0}, \"hovertemplate\": \"Fecha=04/04/2020<br>conteo=%{marker.color}<br>Estado=%{text}<br>Lat=%{lat}<br>Long=%{lon}\", \"lat\": [21.8823395, 32.6278114, 24.144369100000002, 19.843860600000003, 19.4284706, 16.759729399999998, 28.635280600000005, 25.423210100000002, 19.249969500000002, 25.5698509, 21.0185795, 16.849420499999997, 20.1169701, 20.6668205, 19.2878609, 19.700780899999998, 18.926099800000003, 21.509510000000002, 25.6750698, 17.0654202, 19.0640602, 20.5880604, 21.1742897, 22.149820300000002, 23.2329006, 29.1026001, 17.9868908, 26.0806103, 19.31905, 19.180950199999998, 20.400417, 22.76843], \"legendgroup\": \"\", \"lon\": [-102.28259279999999, -115.4544601, -110.300499, -90.5255432, -99.1276627, -93.11308290000001, -106.08889009999999, -101.0053024, -103.7271423, -103.4958801, -101.2591019, -99.9089127, -98.7332916, -103.3918228, -99.65323640000001, -101.184433, -99.230751, -104.8956909, -100.3184662, -96.72364809999999, -98.30352020000001, -100.38806149999999, -86.84655759999998, -100.97915649999999, -106.4061966, -110.97731780000001, -92.93028259999998, -98.288353, -98.19981999999999, -96.1428986, -89.134857, -102.58140999999999], \"marker\": {\"color\": [49, 54, 27, 8, 469, 19, 13, 72, 4, 10, 53, 25, 32, 120, 180, 29, 14, 9, 88, 22, 125, 36, 75, 35, 74, 27, 83, 20, 9, 37, 62, 10], \"coloraxis\": \"coloraxis\", \"size\": [49, 54, 27, 8, 469, 19, 13, 72, 4, 10, 53, 25, 32, 120, 180, 29, 14, 9, 88, 22, 125, 36, 75, 35, 74, 27, 83, 20, 9, 37, 62, 10], \"sizemode\": \"area\", \"sizeref\": 1.8075}, \"name\": \"\", \"showlegend\": false, \"text\": [\"AGUASCALIENTES\", \"BAJA CALIFORNIA\", \"BAJA CALIFORNIA SUR\", \"CAMPECHE\", \"CIUDAD DE M\\u00c9XICO\", \"CHIAPAS\", \"CHIHUAHUA\", \"COAHUILA\", \"COLIMA\", \"DURANGO\", \"GUANAJUATO\", \"GUERRERO\", \"HIDALGO\", \"JALISCO\", \"M\\u00c9XICO\", \"MICHOAC\\u00c1N\", \"MORELOS\", \"NAYARIT\", \"NUEVO LE\\u00d3N\", \"OAXACA\", \"PUEBLA\", \"QUERETARO\", \"QUINTANA ROO\", \"SAN LUIS POTOS\\u00cd\", \"SINALOA\", \"SONORA\", \"TABASCO\", \"TAMAULIPAS\", \"TLAXCALA\", \"VERACRUZ\", \"YUCAT\\u00c1N\", \"ZACATECAS\"], \"type\": \"scattergeo\"}], \"name\": \"04/04/2020\"}, {\"data\": [{\"geo\": \"geo\", \"hoverlabel\": {\"namelength\": 0}, \"hovertemplate\": \"Fecha=05/04/2020<br>conteo=%{marker.color}<br>Estado=%{text}<br>Lat=%{lat}<br>Long=%{lon}\", \"lat\": [21.8823395, 32.6278114, 24.144369100000002, 19.843860600000003, 19.4284706, 16.759729399999998, 28.635280600000005, 25.423210100000002, 19.249969500000002, 25.5698509, 21.0185795, 16.849420499999997, 20.1169701, 20.6668205, 19.2878609, 19.700780899999998, 18.926099800000003, 21.509510000000002, 25.6750698, 17.0654202, 19.0640602, 20.5880604, 21.1742897, 22.149820300000002, 23.2329006, 29.1026001, 17.9868908, 26.0806103, 19.31905, 19.180950199999998, 20.400417, 22.76843], \"legendgroup\": \"\", \"lon\": [-102.28259279999999, -115.4544601, -110.300499, -90.5255432, -99.1276627, -93.11308290000001, -106.08889009999999, -101.0053024, -103.7271423, -103.4958801, -101.2591019, -99.9089127, -98.7332916, -103.3918228, -99.65323640000001, -101.184433, -99.230751, -104.8956909, -100.3184662, -96.72364809999999, -98.30352020000001, -100.38806149999999, -86.84655759999998, -100.97915649999999, -106.4061966, -110.97731780000001, -92.93028259999998, -98.288353, -98.19981999999999, -96.1428986, -89.134857, -102.58140999999999], \"marker\": {\"color\": [49, 69, 28, 8, 560, 25, 15, 82, 4, 12, 53, 30, 34, 123, 204, 30, 15, 9, 91, 25, 147, 38, 86, 37, 90, 28, 97, 26, 11, 40, 67, 10], \"coloraxis\": \"coloraxis\", \"size\": [49, 69, 28, 8, 560, 25, 15, 82, 4, 12, 53, 30, 34, 123, 204, 30, 15, 9, 91, 25, 147, 38, 86, 37, 90, 28, 97, 26, 11, 40, 67, 10], \"sizemode\": \"area\", \"sizeref\": 1.8075}, \"name\": \"\", \"showlegend\": false, \"text\": [\"AGUASCALIENTES\", \"BAJA CALIFORNIA\", \"BAJA CALIFORNIA SUR\", \"CAMPECHE\", \"CIUDAD DE M\\u00c9XICO\", \"CHIAPAS\", \"CHIHUAHUA\", \"COAHUILA\", \"COLIMA\", \"DURANGO\", \"GUANAJUATO\", \"GUERRERO\", \"HIDALGO\", \"JALISCO\", \"M\\u00c9XICO\", \"MICHOAC\\u00c1N\", \"MORELOS\", \"NAYARIT\", \"NUEVO LE\\u00d3N\", \"OAXACA\", \"PUEBLA\", \"QUERETARO\", \"QUINTANA ROO\", \"SAN LUIS POTOS\\u00cd\", \"SINALOA\", \"SONORA\", \"TABASCO\", \"TAMAULIPAS\", \"TLAXCALA\", \"VERACRUZ\", \"YUCAT\\u00c1N\", \"ZACATECAS\"], \"type\": \"scattergeo\"}], \"name\": \"05/04/2020\"}, {\"data\": [{\"geo\": \"geo\", \"hoverlabel\": {\"namelength\": 0}, \"hovertemplate\": \"Fecha=06/04/2020<br>conteo=%{marker.color}<br>Estado=%{text}<br>Lat=%{lat}<br>Long=%{lon}\", \"lat\": [21.8823395, 32.6278114, 24.144369100000002, 19.843860600000003, 19.4284706, 16.759729399999998, 28.635280600000005, 25.423210100000002, 19.249969500000002, 25.5698509, 21.0185795, 16.849420499999997, 20.1169701, 20.6668205, 19.2878609, 19.700780899999998, 18.926099800000003, 21.509510000000002, 25.6750698, 17.0654202, 19.0640602, 20.5880604, 21.1742897, 22.149820300000002, 23.2329006, 29.1026001, 17.9868908, 26.0806103, 19.31905, 19.180950199999998, 20.400417, 22.76843], \"legendgroup\": \"\", \"lon\": [-102.28259279999999, -115.4544601, -110.300499, -90.5255432, -99.1276627, -93.11308290000001, -106.08889009999999, -101.0053024, -103.7271423, -103.4958801, -101.2591019, -99.9089127, -98.7332916, -103.3918228, -99.65323640000001, -101.184433, -99.230751, -104.8956909, -100.3184662, -96.72364809999999, -98.30352020000001, -100.38806149999999, -86.84655759999998, -100.97915649999999, -106.4061966, -110.97731780000001, -92.93028259999998, -98.288353, -98.19981999999999, -96.1428986, -89.134857, -102.58140999999999], \"marker\": {\"color\": [49, 111, 54, 9, 609, 26, 22, 102, 4, 12, 58, 32, 35, 126, 261, 33, 17, 10, 93, 27, 156, 40, 115, 37, 97, 30, 107, 31, 14, 41, 72, 9], \"coloraxis\": \"coloraxis\", \"size\": [49, 111, 54, 9, 609, 26, 22, 102, 4, 12, 58, 32, 35, 126, 261, 33, 17, 10, 93, 27, 156, 40, 115, 37, 97, 30, 107, 31, 14, 41, 72, 9], \"sizemode\": \"area\", \"sizeref\": 1.8075}, \"name\": \"\", \"showlegend\": false, \"text\": [\"AGUASCALIENTES\", \"BAJA CALIFORNIA\", \"BAJA CALIFORNIA SUR\", \"CAMPECHE\", \"CIUDAD DE M\\u00c9XICO\", \"CHIAPAS\", \"CHIHUAHUA\", \"COAHUILA\", \"COLIMA\", \"DURANGO\", \"GUANAJUATO\", \"GUERRERO\", \"HIDALGO\", \"JALISCO\", \"M\\u00c9XICO\", \"MICHOAC\\u00c1N\", \"MORELOS\", \"NAYARIT\", \"NUEVO LE\\u00d3N\", \"OAXACA\", \"PUEBLA\", \"QUERETARO\", \"QUINTANA ROO\", \"SAN LUIS POTOS\\u00cd\", \"SINALOA\", \"SONORA\", \"TABASCO\", \"TAMAULIPAS\", \"TLAXCALA\", \"VERACRUZ\", \"YUCAT\\u00c1N\", \"ZACATECAS\"], \"type\": \"scattergeo\"}], \"name\": \"06/04/2020\"}, {\"data\": [{\"geo\": \"geo\", \"hoverlabel\": {\"namelength\": 0}, \"hovertemplate\": \"Fecha=07/04/2020<br>conteo=%{marker.color}<br>Estado=%{text}<br>Lat=%{lat}<br>Long=%{lon}\", \"lat\": [21.8823395, 32.6278114, 24.144369100000002, 19.843860600000003, 19.4284706, 16.759729399999998, 28.635280600000005, 25.423210100000002, 19.249969500000002, 25.5698509, 21.0185795, 16.849420499999997, 20.1169701, 20.6668205, 19.2878609, 19.700780899999998, 18.926099800000003, 21.509510000000002, 25.6750698, 17.0654202, 19.0640602, 20.5880604, 21.1742897, 22.149820300000002, 23.2329006, 29.1026001, 17.9868908, 26.0806103, 19.31905, 19.180950199999998, 20.400417, 22.76843], \"legendgroup\": \"\", \"lon\": [-102.28259279999999, -115.4544601, -110.300499, -90.5255432, -99.1276627, -93.11308290000001, -106.08889009999999, -101.0053024, -103.7271423, -103.4958801, -101.2591019, -99.9089127, -98.7332916, -103.3918228, -99.65323640000001, -101.184433, -99.230751, -104.8956909, -100.3184662, -96.72364809999999, -98.30352020000001, -100.38806149999999, -86.84655759999998, -100.97915649999999, -106.4061966, -110.97731780000001, -92.93028259999998, -98.288353, -98.19981999999999, -96.1428986, -89.134857, -102.58140999999999], \"marker\": {\"color\": [53, 136, 56, 14, 723, 28, 22, 109, 5, 15, 61, 37, 41, 135, 320, 34, 24, 10, 93, 35, 179, 45, 135, 41, 111, 35, 108, 32, 18, 46, 74, 10], \"coloraxis\": \"coloraxis\", \"size\": [53, 136, 56, 14, 723, 28, 22, 109, 5, 15, 61, 37, 41, 135, 320, 34, 24, 10, 93, 35, 179, 45, 135, 41, 111, 35, 108, 32, 18, 46, 74, 10], \"sizemode\": \"area\", \"sizeref\": 1.8075}, \"name\": \"\", \"showlegend\": false, \"text\": [\"AGUASCALIENTES\", \"BAJA CALIFORNIA\", \"BAJA CALIFORNIA SUR\", \"CAMPECHE\", \"CIUDAD DE M\\u00c9XICO\", \"CHIAPAS\", \"CHIHUAHUA\", \"COAHUILA\", \"COLIMA\", \"DURANGO\", \"GUANAJUATO\", \"GUERRERO\", \"HIDALGO\", \"JALISCO\", \"M\\u00c9XICO\", \"MICHOAC\\u00c1N\", \"MORELOS\", \"NAYARIT\", \"NUEVO LE\\u00d3N\", \"OAXACA\", \"PUEBLA\", \"QUERETARO\", \"QUINTANA ROO\", \"SAN LUIS POTOS\\u00cd\", \"SINALOA\", \"SONORA\", \"TABASCO\", \"TAMAULIPAS\", \"TLAXCALA\", \"VERACRUZ\", \"YUCAT\\u00c1N\", \"ZACATECAS\"], \"type\": \"scattergeo\"}], \"name\": \"07/04/2020\"}]);\n",
              "                        }).then(function(){\n",
              "                            \n",
              "var gd = document.getElementById('7241ca2d-4b02-4264-8a57-18df9004469a');\n",
              "var x = new MutationObserver(function (mutations, observer) {{\n",
              "        var display = window.getComputedStyle(gd).display;\n",
              "        if (!display || display === 'none') {{\n",
              "            console.log([gd, 'removed!']);\n",
              "            Plotly.purge(gd);\n",
              "            observer.disconnect();\n",
              "        }}\n",
              "}});\n",
              "\n",
              "// Listen for the removal of the full notebook cells\n",
              "var notebookContainer = gd.closest('#notebook-container');\n",
              "if (notebookContainer) {{\n",
              "    x.observe(notebookContainer, {childList: true});\n",
              "}}\n",
              "\n",
              "// Listen for the clearing of the current output cell\n",
              "var outputEl = gd.closest('.output');\n",
              "if (outputEl) {{\n",
              "    x.observe(outputEl, {childList: true});\n",
              "}}\n",
              "\n",
              "                        })\n",
              "                };\n",
              "                \n",
              "            </script>\n",
              "        </div>\n",
              "</body>\n",
              "</html>"
            ]
          },
          "metadata": {
            "tags": []
          }
        }
      ]
    },
    {
      "cell_type": "code",
      "metadata": {
        "id": "NAMUTQQZSsYV",
        "colab_type": "code",
        "colab": {}
      },
      "source": [
        ""
      ],
      "execution_count": 0,
      "outputs": []
    },
    {
      "cell_type": "code",
      "metadata": {
        "id": "xKuAFpE0d0uv",
        "colab_type": "code",
        "colab": {}
      },
      "source": [
        "conteo=[]\n",
        "df1=pd.read_csv('https://raw.githubusercontent.com/napoles-uach/covid19mx/master/confirmadosMX310320.csv')\n",
        "for estados in estados_list:\n",
        "  tot_est=df1[(df1[\" Estado\"]==estados)|(df1[\" Estado\"]==\" \"+estados)|(df1[\" Estado\"]==estados+\" \")].count()\n",
        "  conteo.append(tot_est[0])\n",
        "\n",
        "casos_estado=pd.DataFrame(df3,columns=[\"Estado\"])\n",
        "#dfmap[\"Fecha\"]=str(19)+\"/03/20\"\n",
        "casos_estado[\"conteo\"]=conteo\n",
        "casos_estado=casos_estado.sort_values(by=['conteo'])"
      ],
      "execution_count": 0,
      "outputs": []
    },
    {
      "cell_type": "code",
      "metadata": {
        "id": "qZYNm1nvCjEX",
        "colab_type": "code",
        "outputId": "76cd7a9f-f4c0-4ee0-8c7a-23d3a9bc3d4a",
        "colab": {
          "base_uri": "https://localhost:8080/",
          "height": 817
        }
      },
      "source": [
        "fig = px.bar(casos_estado, y=\"Estado\", x=\"conteo\", orientation='h',height=800,width=800)\n",
        "fig.show()\n",
        "#plot_url = py.plot(fig)"
      ],
      "execution_count": 9,
      "outputs": [
        {
          "output_type": "display_data",
          "data": {
            "text/html": [
              "<html>\n",
              "<head><meta charset=\"utf-8\" /></head>\n",
              "<body>\n",
              "    <div>\n",
              "            <script src=\"https://cdnjs.cloudflare.com/ajax/libs/mathjax/2.7.5/MathJax.js?config=TeX-AMS-MML_SVG\"></script><script type=\"text/javascript\">if (window.MathJax) {MathJax.Hub.Config({SVG: {font: \"STIX-Web\"}});}</script>\n",
              "                <script type=\"text/javascript\">window.PlotlyConfig = {MathJaxConfig: 'local'};</script>\n",
              "        <script src=\"https://cdn.plot.ly/plotly-latest.min.js\"></script>    \n",
              "            <div id=\"081165b9-358f-4481-a000-ddeccf67a136\" class=\"plotly-graph-div\" style=\"height:800px; width:800px;\"></div>\n",
              "            <script type=\"text/javascript\">\n",
              "                \n",
              "                    window.PLOTLYENV=window.PLOTLYENV || {};\n",
              "                    \n",
              "                if (document.getElementById(\"081165b9-358f-4481-a000-ddeccf67a136\")) {\n",
              "                    Plotly.newPlot(\n",
              "                        '081165b9-358f-4481-a000-ddeccf67a136',\n",
              "                        [{\"alignmentgroup\": \"True\", \"hoverlabel\": {\"namelength\": 0}, \"hovertemplate\": \"conteo=%{x}<br>Estado=%{y}\", \"legendgroup\": \"\", \"marker\": {\"color\": \"#636efa\"}, \"name\": \"\", \"offsetgroup\": \"\", \"orientation\": \"h\", \"showlegend\": false, \"textposition\": \"auto\", \"type\": \"bar\", \"x\": [2, 4, 5, 6, 6, 7, 7, 7, 8, 13, 14, 15, 17, 17, 19, 21, 25, 27, 27, 29, 35, 36, 44, 46, 47, 48, 49, 76, 81, 94, 149, 234], \"xaxis\": \"x\", \"y\": [\"COLIMA\", \"TLAXCALA\", \"CAMPECHE\", \"ZACATECAS\", \"NAYARIT\", \"CHIHUAHUA\", \"DURANGO\", \"MORELOS\", \"TAMAULIPAS\", \"CHIAPAS\", \"OAXACA\", \"GUERRERO\", \"BAJA CALIFORNIA SUR\", \"SONORA\", \"HIDALGO\", \"MICHOAC\\u00c1N\", \"SAN LUIS POTOS\\u00cd\", \"SINALOA\", \"VERACRUZ\", \"QUERETARO\", \"BAJA CALIFORNIA\", \"AGUASCALIENTES\", \"COAHUILA\", \"GUANAJUATO\", \"QUINTANA ROO\", \"TABASCO\", \"YUCAT\\u00c1N\", \"NUEVO LE\\u00d3N\", \"PUEBLA\", \"JALISCO\", \"M\\u00c9XICO\", \"CIUDAD DE M\\u00c9XICO\"], \"yaxis\": \"y\"}],\n",
              "                        {\"barmode\": \"relative\", \"height\": 800, \"legend\": {\"tracegroupgap\": 0}, \"margin\": {\"t\": 60}, \"template\": {\"data\": {\"bar\": [{\"error_x\": {\"color\": \"#2a3f5f\"}, \"error_y\": {\"color\": \"#2a3f5f\"}, \"marker\": {\"line\": {\"color\": \"#E5ECF6\", \"width\": 0.5}}, \"type\": \"bar\"}], \"barpolar\": [{\"marker\": {\"line\": {\"color\": \"#E5ECF6\", \"width\": 0.5}}, \"type\": \"barpolar\"}], \"carpet\": [{\"aaxis\": {\"endlinecolor\": \"#2a3f5f\", \"gridcolor\": \"white\", \"linecolor\": \"white\", \"minorgridcolor\": \"white\", \"startlinecolor\": \"#2a3f5f\"}, \"baxis\": {\"endlinecolor\": \"#2a3f5f\", \"gridcolor\": \"white\", \"linecolor\": \"white\", \"minorgridcolor\": \"white\", \"startlinecolor\": \"#2a3f5f\"}, \"type\": \"carpet\"}], \"choropleth\": [{\"colorbar\": {\"outlinewidth\": 0, \"ticks\": \"\"}, \"type\": \"choropleth\"}], \"contour\": [{\"colorbar\": {\"outlinewidth\": 0, \"ticks\": \"\"}, \"colorscale\": [[0.0, \"#0d0887\"], [0.1111111111111111, \"#46039f\"], [0.2222222222222222, \"#7201a8\"], [0.3333333333333333, \"#9c179e\"], [0.4444444444444444, \"#bd3786\"], [0.5555555555555556, \"#d8576b\"], [0.6666666666666666, \"#ed7953\"], [0.7777777777777778, \"#fb9f3a\"], [0.8888888888888888, \"#fdca26\"], [1.0, \"#f0f921\"]], \"type\": \"contour\"}], \"contourcarpet\": [{\"colorbar\": {\"outlinewidth\": 0, \"ticks\": \"\"}, \"type\": \"contourcarpet\"}], \"heatmap\": [{\"colorbar\": {\"outlinewidth\": 0, \"ticks\": \"\"}, \"colorscale\": [[0.0, \"#0d0887\"], [0.1111111111111111, \"#46039f\"], [0.2222222222222222, \"#7201a8\"], [0.3333333333333333, \"#9c179e\"], [0.4444444444444444, \"#bd3786\"], [0.5555555555555556, \"#d8576b\"], [0.6666666666666666, \"#ed7953\"], [0.7777777777777778, \"#fb9f3a\"], [0.8888888888888888, \"#fdca26\"], [1.0, \"#f0f921\"]], \"type\": \"heatmap\"}], \"heatmapgl\": [{\"colorbar\": {\"outlinewidth\": 0, \"ticks\": \"\"}, \"colorscale\": [[0.0, \"#0d0887\"], [0.1111111111111111, \"#46039f\"], [0.2222222222222222, \"#7201a8\"], [0.3333333333333333, \"#9c179e\"], [0.4444444444444444, \"#bd3786\"], [0.5555555555555556, \"#d8576b\"], [0.6666666666666666, \"#ed7953\"], [0.7777777777777778, \"#fb9f3a\"], [0.8888888888888888, \"#fdca26\"], [1.0, \"#f0f921\"]], \"type\": \"heatmapgl\"}], \"histogram\": [{\"marker\": {\"colorbar\": {\"outlinewidth\": 0, \"ticks\": \"\"}}, \"type\": \"histogram\"}], \"histogram2d\": [{\"colorbar\": {\"outlinewidth\": 0, \"ticks\": \"\"}, \"colorscale\": [[0.0, \"#0d0887\"], [0.1111111111111111, \"#46039f\"], [0.2222222222222222, \"#7201a8\"], [0.3333333333333333, \"#9c179e\"], [0.4444444444444444, \"#bd3786\"], [0.5555555555555556, \"#d8576b\"], [0.6666666666666666, \"#ed7953\"], [0.7777777777777778, \"#fb9f3a\"], [0.8888888888888888, \"#fdca26\"], [1.0, \"#f0f921\"]], \"type\": \"histogram2d\"}], \"histogram2dcontour\": [{\"colorbar\": {\"outlinewidth\": 0, \"ticks\": \"\"}, \"colorscale\": [[0.0, \"#0d0887\"], [0.1111111111111111, \"#46039f\"], [0.2222222222222222, \"#7201a8\"], [0.3333333333333333, \"#9c179e\"], [0.4444444444444444, \"#bd3786\"], [0.5555555555555556, \"#d8576b\"], [0.6666666666666666, \"#ed7953\"], [0.7777777777777778, \"#fb9f3a\"], [0.8888888888888888, \"#fdca26\"], [1.0, \"#f0f921\"]], \"type\": \"histogram2dcontour\"}], \"mesh3d\": [{\"colorbar\": {\"outlinewidth\": 0, \"ticks\": \"\"}, \"type\": \"mesh3d\"}], \"parcoords\": [{\"line\": {\"colorbar\": {\"outlinewidth\": 0, \"ticks\": \"\"}}, \"type\": \"parcoords\"}], \"pie\": [{\"automargin\": true, \"type\": \"pie\"}], \"scatter\": [{\"marker\": {\"colorbar\": {\"outlinewidth\": 0, \"ticks\": \"\"}}, \"type\": \"scatter\"}], \"scatter3d\": [{\"line\": {\"colorbar\": {\"outlinewidth\": 0, \"ticks\": \"\"}}, \"marker\": {\"colorbar\": {\"outlinewidth\": 0, \"ticks\": \"\"}}, \"type\": \"scatter3d\"}], \"scattercarpet\": [{\"marker\": {\"colorbar\": {\"outlinewidth\": 0, \"ticks\": \"\"}}, \"type\": \"scattercarpet\"}], \"scattergeo\": [{\"marker\": {\"colorbar\": {\"outlinewidth\": 0, \"ticks\": \"\"}}, \"type\": \"scattergeo\"}], \"scattergl\": [{\"marker\": {\"colorbar\": {\"outlinewidth\": 0, \"ticks\": \"\"}}, \"type\": \"scattergl\"}], \"scattermapbox\": [{\"marker\": {\"colorbar\": {\"outlinewidth\": 0, \"ticks\": \"\"}}, \"type\": \"scattermapbox\"}], \"scatterpolar\": [{\"marker\": {\"colorbar\": {\"outlinewidth\": 0, \"ticks\": \"\"}}, \"type\": \"scatterpolar\"}], \"scatterpolargl\": [{\"marker\": {\"colorbar\": {\"outlinewidth\": 0, \"ticks\": \"\"}}, \"type\": \"scatterpolargl\"}], \"scatterternary\": [{\"marker\": {\"colorbar\": {\"outlinewidth\": 0, \"ticks\": \"\"}}, \"type\": \"scatterternary\"}], \"surface\": [{\"colorbar\": {\"outlinewidth\": 0, \"ticks\": \"\"}, \"colorscale\": [[0.0, \"#0d0887\"], [0.1111111111111111, \"#46039f\"], [0.2222222222222222, \"#7201a8\"], [0.3333333333333333, \"#9c179e\"], [0.4444444444444444, \"#bd3786\"], [0.5555555555555556, \"#d8576b\"], [0.6666666666666666, \"#ed7953\"], [0.7777777777777778, \"#fb9f3a\"], [0.8888888888888888, \"#fdca26\"], [1.0, \"#f0f921\"]], \"type\": \"surface\"}], \"table\": [{\"cells\": {\"fill\": {\"color\": \"#EBF0F8\"}, \"line\": {\"color\": \"white\"}}, \"header\": {\"fill\": {\"color\": \"#C8D4E3\"}, \"line\": {\"color\": \"white\"}}, \"type\": \"table\"}]}, \"layout\": {\"annotationdefaults\": {\"arrowcolor\": \"#2a3f5f\", \"arrowhead\": 0, \"arrowwidth\": 1}, \"coloraxis\": {\"colorbar\": {\"outlinewidth\": 0, \"ticks\": \"\"}}, \"colorscale\": {\"diverging\": [[0, \"#8e0152\"], [0.1, \"#c51b7d\"], [0.2, \"#de77ae\"], [0.3, \"#f1b6da\"], [0.4, \"#fde0ef\"], [0.5, \"#f7f7f7\"], [0.6, \"#e6f5d0\"], [0.7, \"#b8e186\"], [0.8, \"#7fbc41\"], [0.9, \"#4d9221\"], [1, \"#276419\"]], \"sequential\": [[0.0, \"#0d0887\"], [0.1111111111111111, \"#46039f\"], [0.2222222222222222, \"#7201a8\"], [0.3333333333333333, \"#9c179e\"], [0.4444444444444444, \"#bd3786\"], [0.5555555555555556, \"#d8576b\"], [0.6666666666666666, \"#ed7953\"], [0.7777777777777778, \"#fb9f3a\"], [0.8888888888888888, \"#fdca26\"], [1.0, \"#f0f921\"]], \"sequentialminus\": [[0.0, \"#0d0887\"], [0.1111111111111111, \"#46039f\"], [0.2222222222222222, \"#7201a8\"], [0.3333333333333333, \"#9c179e\"], [0.4444444444444444, \"#bd3786\"], [0.5555555555555556, \"#d8576b\"], [0.6666666666666666, \"#ed7953\"], [0.7777777777777778, \"#fb9f3a\"], [0.8888888888888888, \"#fdca26\"], [1.0, \"#f0f921\"]]}, \"colorway\": [\"#636efa\", \"#EF553B\", \"#00cc96\", \"#ab63fa\", \"#FFA15A\", \"#19d3f3\", \"#FF6692\", \"#B6E880\", \"#FF97FF\", \"#FECB52\"], \"font\": {\"color\": \"#2a3f5f\"}, \"geo\": {\"bgcolor\": \"white\", \"lakecolor\": \"white\", \"landcolor\": \"#E5ECF6\", \"showlakes\": true, \"showland\": true, \"subunitcolor\": \"white\"}, \"hoverlabel\": {\"align\": \"left\"}, \"hovermode\": \"closest\", \"mapbox\": {\"style\": \"light\"}, \"paper_bgcolor\": \"white\", \"plot_bgcolor\": \"#E5ECF6\", \"polar\": {\"angularaxis\": {\"gridcolor\": \"white\", \"linecolor\": \"white\", \"ticks\": \"\"}, \"bgcolor\": \"#E5ECF6\", \"radialaxis\": {\"gridcolor\": \"white\", \"linecolor\": \"white\", \"ticks\": \"\"}}, \"scene\": {\"xaxis\": {\"backgroundcolor\": \"#E5ECF6\", \"gridcolor\": \"white\", \"gridwidth\": 2, \"linecolor\": \"white\", \"showbackground\": true, \"ticks\": \"\", \"zerolinecolor\": \"white\"}, \"yaxis\": {\"backgroundcolor\": \"#E5ECF6\", \"gridcolor\": \"white\", \"gridwidth\": 2, \"linecolor\": \"white\", \"showbackground\": true, \"ticks\": \"\", \"zerolinecolor\": \"white\"}, \"zaxis\": {\"backgroundcolor\": \"#E5ECF6\", \"gridcolor\": \"white\", \"gridwidth\": 2, \"linecolor\": \"white\", \"showbackground\": true, \"ticks\": \"\", \"zerolinecolor\": \"white\"}}, \"shapedefaults\": {\"line\": {\"color\": \"#2a3f5f\"}}, \"ternary\": {\"aaxis\": {\"gridcolor\": \"white\", \"linecolor\": \"white\", \"ticks\": \"\"}, \"baxis\": {\"gridcolor\": \"white\", \"linecolor\": \"white\", \"ticks\": \"\"}, \"bgcolor\": \"#E5ECF6\", \"caxis\": {\"gridcolor\": \"white\", \"linecolor\": \"white\", \"ticks\": \"\"}}, \"title\": {\"x\": 0.05}, \"xaxis\": {\"automargin\": true, \"gridcolor\": \"white\", \"linecolor\": \"white\", \"ticks\": \"\", \"title\": {\"standoff\": 15}, \"zerolinecolor\": \"white\", \"zerolinewidth\": 2}, \"yaxis\": {\"automargin\": true, \"gridcolor\": \"white\", \"linecolor\": \"white\", \"ticks\": \"\", \"title\": {\"standoff\": 15}, \"zerolinecolor\": \"white\", \"zerolinewidth\": 2}}}, \"width\": 800, \"xaxis\": {\"anchor\": \"y\", \"domain\": [0.0, 1.0], \"title\": {\"text\": \"conteo\"}}, \"yaxis\": {\"anchor\": \"x\", \"domain\": [0.0, 1.0], \"title\": {\"text\": \"Estado\"}}},\n",
              "                        {\"responsive\": true}\n",
              "                    ).then(function(){\n",
              "                            \n",
              "var gd = document.getElementById('081165b9-358f-4481-a000-ddeccf67a136');\n",
              "var x = new MutationObserver(function (mutations, observer) {{\n",
              "        var display = window.getComputedStyle(gd).display;\n",
              "        if (!display || display === 'none') {{\n",
              "            console.log([gd, 'removed!']);\n",
              "            Plotly.purge(gd);\n",
              "            observer.disconnect();\n",
              "        }}\n",
              "}});\n",
              "\n",
              "// Listen for the removal of the full notebook cells\n",
              "var notebookContainer = gd.closest('#notebook-container');\n",
              "if (notebookContainer) {{\n",
              "    x.observe(notebookContainer, {childList: true});\n",
              "}}\n",
              "\n",
              "// Listen for the clearing of the current output cell\n",
              "var outputEl = gd.closest('.output');\n",
              "if (outputEl) {{\n",
              "    x.observe(outputEl, {childList: true});\n",
              "}}\n",
              "\n",
              "                        })\n",
              "                };\n",
              "                \n",
              "            </script>\n",
              "        </div>\n",
              "</body>\n",
              "</html>"
            ]
          },
          "metadata": {
            "tags": []
          }
        }
      ]
    },
    {
      "cell_type": "code",
      "metadata": {
        "id": "EbXBGOZlK6Ia",
        "colab_type": "code",
        "colab": {}
      },
      "source": [
        "todos=[]\n",
        "#fechas_list=[]\n",
        "dfmap=pd.DataFrame(df3,columns=[\"Estado\",\"Lat\",\"Long\"])\n",
        "for i in range(len(fechas_list)):\n",
        "  df1=pd.read_csv('https://raw.githubusercontent.com/napoles-uach/covid19mx/master/confirmadosMX'+fechas_list[i]+'.csv')\n",
        "  df1.loc[(df1[' Estado'] == 'DISTRITO FEDERAL'),' Estado']='CIUDAD DE MÉXICO'\n",
        "  df1.loc[(df1[' Estado'] == 'MEXICO'),' Estado']='MÉXICO'\n",
        "  df1.loc[(df1[' Estado'] == 'MICHOACAN'),' Estado']='MICHOACÁN'\n",
        "  df1.loc[(df1[' Estado'] == 'NUEVO LEON'),' Estado']='NUEVO LEÓN'\n",
        "  df1.loc[(df1[' Estado'] == 'SAN LUIS POTOSI'),' Estado']='SAN LUIS POTOSÍ'\n",
        "  df1.loc[(df1[' Estado'] == 'YUCATAN'),' Estado']='YUCATÁN'\n",
        "#  fechas_list.append( str(i)+'/03/20')\n",
        "  conteo=[]\n",
        "  \n",
        "  for estados in estados_list:\n",
        "    tot_est=df1[(df1[\" Estado\"]==estados)|(df1[\" Estado\"]==\" \"+estados)|(df1[\" Estado\"]==estados+\" \")].count()\n",
        "    conteo.append(tot_est[0])\n",
        "  dfmap[fechas_format[i]]=pd.Series(conteo)\n"
      ],
      "execution_count": 0,
      "outputs": []
    },
    {
      "cell_type": "code",
      "metadata": {
        "id": "cl5xrOz8scr5",
        "colab_type": "code",
        "outputId": "73275dc7-2cef-43d6-d117-8e3e6743b122",
        "colab": {
          "base_uri": "https://localhost:8080/",
          "height": 34
        }
      },
      "source": [
        "dfmap[\"06/04/2020\"].describe()['75%']"
      ],
      "execution_count": 11,
      "outputs": [
        {
          "output_type": "execute_result",
          "data": {
            "text/plain": [
              "98.25"
            ]
          },
          "metadata": {
            "tags": []
          },
          "execution_count": 11
        }
      ]
    },
    {
      "cell_type": "code",
      "metadata": {
        "id": "VP_6BQvEa72a",
        "colab_type": "code",
        "colab": {}
      },
      "source": [
        "d1=dfmap[dfmap[\"01/04/2020\"]>dfmap[\"01/04/2020\"].describe()['75%']]\n",
        "\n",
        "leng=len(d1['01/04/2020'])"
      ],
      "execution_count": 0,
      "outputs": []
    },
    {
      "cell_type": "code",
      "metadata": {
        "id": "b6SyjRJmpUNA",
        "colab_type": "code",
        "colab": {}
      },
      "source": [
        "indx_list=list(d1.index.values)"
      ],
      "execution_count": 0,
      "outputs": []
    },
    {
      "cell_type": "code",
      "metadata": {
        "id": "WDCKgfSioaJT",
        "colab_type": "code",
        "colab": {}
      },
      "source": [
        "todos=[]\n",
        "dd={}\n",
        "for i in indx_list:\n",
        "  renglon_i=d1.loc[i][3:]\n",
        "  lista=renglon_i.to_list()\n",
        "  dd[estados_list[i]]=lista\n",
        "df=pd.DataFrame(dd)\n",
        "df.index=fechas_format"
      ],
      "execution_count": 0,
      "outputs": []
    },
    {
      "cell_type": "code",
      "metadata": {
        "id": "MMA-y5d1YQ-W",
        "colab_type": "code",
        "outputId": "da1fd332-6a6e-4983-ef90-5d22a80e87bb",
        "colab": {
          "base_uri": "https://localhost:8080/",
          "height": 542
        }
      },
      "source": [
        "import cufflinks as cf\n",
        "\n",
        "\n",
        "fig = df.iplot(asFigure=True,fill=True)\n",
        "#fig = px.area(df,)\n",
        "fig.show()\n",
        "#plot_url = py.plot(fig)"
      ],
      "execution_count": 15,
      "outputs": [
        {
          "output_type": "display_data",
          "data": {
            "text/html": [
              "<html>\n",
              "<head><meta charset=\"utf-8\" /></head>\n",
              "<body>\n",
              "    <div>\n",
              "            <script src=\"https://cdnjs.cloudflare.com/ajax/libs/mathjax/2.7.5/MathJax.js?config=TeX-AMS-MML_SVG\"></script><script type=\"text/javascript\">if (window.MathJax) {MathJax.Hub.Config({SVG: {font: \"STIX-Web\"}});}</script>\n",
              "                <script type=\"text/javascript\">window.PlotlyConfig = {MathJaxConfig: 'local'};</script>\n",
              "        <script src=\"https://cdn.plot.ly/plotly-latest.min.js\"></script>    \n",
              "            <div id=\"7beeb006-82f3-4859-920d-98c1878ee1d9\" class=\"plotly-graph-div\" style=\"height:525px; width:100%;\"></div>\n",
              "            <script type=\"text/javascript\">\n",
              "                \n",
              "                    window.PLOTLYENV=window.PLOTLYENV || {};\n",
              "                    \n",
              "                if (document.getElementById(\"7beeb006-82f3-4859-920d-98c1878ee1d9\")) {\n",
              "                    Plotly.newPlot(\n",
              "                        '7beeb006-82f3-4859-920d-98c1878ee1d9',\n",
              "                        [{\"fill\": \"tozeroy\", \"fillcolor\": \"rgba(255, 153, 51, 0.3)\", \"line\": {\"color\": \"rgba(255, 153, 51, 1.0)\", \"dash\": \"solid\", \"shape\": \"linear\", \"width\": 1.3}, \"mode\": \"lines\", \"name\": \"CIUDAD DE M\\u00c9XICO\", \"text\": \"\", \"type\": \"scatter\", \"x\": [\"15/03/2020\", \"16/03/2020\", \"17/03/2020\", \"18/03/2020\", \"19/03/2020\", \"20/03/2020\", \"21/03/2020\", \"22/03/2020\", \"23/03/2020\", \"24/03/2020\", \"25/03/2020\", \"26/03/2020\", \"27/03/2020\", \"28/03/2020\", \"29/03/2020\", \"30/03/2020\", \"31/03/2020\", \"01/04/2020\", \"02/04/2020\", \"03/04/2020\", \"04/04/2020\", \"05/04/2020\", \"06/04/2020\", \"07/04/2020\"], \"y\": [18, 21, 21, 24, 31, 31, 45, 56, 60, 66, 82, 83, 107, 177, 196, 205, 234, 296, 327, 384, 469, 560, 609, 723]}, {\"fill\": \"tozeroy\", \"fillcolor\": \"rgba(55, 128, 191, 0.3)\", \"line\": {\"color\": \"rgba(55, 128, 191, 1.0)\", \"dash\": \"solid\", \"shape\": \"linear\", \"width\": 1.3}, \"mode\": \"lines\", \"name\": \"COAHUILA\", \"text\": \"\", \"type\": \"scatter\", \"x\": [\"15/03/2020\", \"16/03/2020\", \"17/03/2020\", \"18/03/2020\", \"19/03/2020\", \"20/03/2020\", \"21/03/2020\", \"22/03/2020\", \"23/03/2020\", \"24/03/2020\", \"25/03/2020\", \"26/03/2020\", \"27/03/2020\", \"28/03/2020\", \"29/03/2020\", \"30/03/2020\", \"31/03/2020\", \"01/04/2020\", \"02/04/2020\", \"03/04/2020\", \"04/04/2020\", \"05/04/2020\", \"06/04/2020\", \"07/04/2020\"], \"y\": [0, 1, 1, 1, 1, 1, 3, 10, 12, 12, 12, 13, 14, 15, 32, 39, 44, 57, 62, 70, 72, 82, 102, 109]}, {\"fill\": \"tozeroy\", \"fillcolor\": \"rgba(50, 171, 96, 0.3)\", \"line\": {\"color\": \"rgba(50, 171, 96, 1.0)\", \"dash\": \"solid\", \"shape\": \"linear\", \"width\": 1.3}, \"mode\": \"lines\", \"name\": \"JALISCO\", \"text\": \"\", \"type\": \"scatter\", \"x\": [\"15/03/2020\", \"16/03/2020\", \"17/03/2020\", \"18/03/2020\", \"19/03/2020\", \"20/03/2020\", \"21/03/2020\", \"22/03/2020\", \"23/03/2020\", \"24/03/2020\", \"25/03/2020\", \"26/03/2020\", \"27/03/2020\", \"28/03/2020\", \"29/03/2020\", \"30/03/2020\", \"31/03/2020\", \"01/04/2020\", \"02/04/2020\", \"03/04/2020\", \"04/04/2020\", \"05/04/2020\", \"06/04/2020\", \"07/04/2020\"], \"y\": [2, 2, 5, 6, 22, 28, 32, 41, 46, 46, 46, 64, 77, 82, 83, 90, 94, 99, 104, 116, 120, 123, 126, 135]}, {\"fill\": \"tozeroy\", \"fillcolor\": \"rgba(128, 0, 128, 0.3)\", \"line\": {\"color\": \"rgba(128, 0, 128, 1.0)\", \"dash\": \"solid\", \"shape\": \"linear\", \"width\": 1.3}, \"mode\": \"lines\", \"name\": \"M\\u00c9XICO\", \"text\": \"\", \"type\": \"scatter\", \"x\": [\"15/03/2020\", \"16/03/2020\", \"17/03/2020\", \"18/03/2020\", \"19/03/2020\", \"20/03/2020\", \"21/03/2020\", \"22/03/2020\", \"23/03/2020\", \"24/03/2020\", \"25/03/2020\", \"26/03/2020\", \"27/03/2020\", \"28/03/2020\", \"29/03/2020\", \"30/03/2020\", \"31/03/2020\", \"01/04/2020\", \"02/04/2020\", \"03/04/2020\", \"04/04/2020\", \"05/04/2020\", \"06/04/2020\", \"07/04/2020\"], \"y\": [3, 9, 10, 10, 10, 14, 13, 21, 22, 22, 26, 46, 70, 85, 119, 136, 149, 157, 171, 177, 180, 204, 261, 320]}, {\"fill\": \"tozeroy\", \"fillcolor\": \"rgba(219, 64, 82, 0.3)\", \"line\": {\"color\": \"rgba(219, 64, 82, 1.0)\", \"dash\": \"solid\", \"shape\": \"linear\", \"width\": 1.3}, \"mode\": \"lines\", \"name\": \"NUEVO LE\\u00d3N\", \"text\": \"\", \"type\": \"scatter\", \"x\": [\"15/03/2020\", \"16/03/2020\", \"17/03/2020\", \"18/03/2020\", \"19/03/2020\", \"20/03/2020\", \"21/03/2020\", \"22/03/2020\", \"23/03/2020\", \"24/03/2020\", \"25/03/2020\", \"26/03/2020\", \"27/03/2020\", \"28/03/2020\", \"29/03/2020\", \"30/03/2020\", \"31/03/2020\", \"01/04/2020\", \"02/04/2020\", \"03/04/2020\", \"04/04/2020\", \"05/04/2020\", \"06/04/2020\", \"07/04/2020\"], \"y\": [5, 13, 14, 19, 19, 28, 32, 35, 40, 52, 52, 57, 64, 64, 67, 75, 76, 78, 84, 85, 88, 91, 93, 93]}, {\"fill\": \"tozeroy\", \"fillcolor\": \"rgba(0, 128, 128, 0.3)\", \"line\": {\"color\": \"rgba(0, 128, 128, 1.0)\", \"dash\": \"solid\", \"shape\": \"linear\", \"width\": 1.3}, \"mode\": \"lines\", \"name\": \"PUEBLA\", \"text\": \"\", \"type\": \"scatter\", \"x\": [\"15/03/2020\", \"16/03/2020\", \"17/03/2020\", \"18/03/2020\", \"19/03/2020\", \"20/03/2020\", \"21/03/2020\", \"22/03/2020\", \"23/03/2020\", \"24/03/2020\", \"25/03/2020\", \"26/03/2020\", \"27/03/2020\", \"28/03/2020\", \"29/03/2020\", \"30/03/2020\", \"31/03/2020\", \"01/04/2020\", \"02/04/2020\", \"03/04/2020\", \"04/04/2020\", \"05/04/2020\", \"06/04/2020\", \"07/04/2020\"], \"y\": [6, 8, 9, 9, 11, 14, 16, 16, 16, 22, 34, 45, 51, 52, 66, 76, 81, 97, 100, 109, 125, 147, 156, 179]}, {\"fill\": \"tozeroy\", \"fillcolor\": \"rgba(255, 255, 51, 0.3)\", \"line\": {\"color\": \"rgba(255, 255, 51, 1.0)\", \"dash\": \"solid\", \"shape\": \"linear\", \"width\": 1.3}, \"mode\": \"lines\", \"name\": \"TABASCO\", \"text\": \"\", \"type\": \"scatter\", \"x\": [\"15/03/2020\", \"16/03/2020\", \"17/03/2020\", \"18/03/2020\", \"19/03/2020\", \"20/03/2020\", \"21/03/2020\", \"22/03/2020\", \"23/03/2020\", \"24/03/2020\", \"25/03/2020\", \"26/03/2020\", \"27/03/2020\", \"28/03/2020\", \"29/03/2020\", \"30/03/2020\", \"31/03/2020\", \"01/04/2020\", \"02/04/2020\", \"03/04/2020\", \"04/04/2020\", \"05/04/2020\", \"06/04/2020\", \"07/04/2020\"], \"y\": [0, 0, 0, 1, 1, 2, 4, 5, 6, 6, 6, 17, 21, 27, 33, 38, 48, 52, 62, 73, 83, 97, 107, 108]}, {\"fill\": \"tozeroy\", \"fillcolor\": \"rgba(128, 128, 0, 0.3)\", \"line\": {\"color\": \"rgba(128, 128, 0, 1.0)\", \"dash\": \"solid\", \"shape\": \"linear\", \"width\": 1.3}, \"mode\": \"lines\", \"name\": \"YUCAT\\u00c1N\", \"text\": \"\", \"type\": \"scatter\", \"x\": [\"15/03/2020\", \"16/03/2020\", \"17/03/2020\", \"18/03/2020\", \"19/03/2020\", \"20/03/2020\", \"21/03/2020\", \"22/03/2020\", \"23/03/2020\", \"24/03/2020\", \"25/03/2020\", \"26/03/2020\", \"27/03/2020\", \"28/03/2020\", \"29/03/2020\", \"30/03/2020\", \"31/03/2020\", \"01/04/2020\", \"02/04/2020\", \"03/04/2020\", \"04/04/2020\", \"05/04/2020\", \"06/04/2020\", \"07/04/2020\"], \"y\": [1, 4, 5, 8, 13, 13, 14, 19, 19, 24, 29, 32, 36, 38, 41, 46, 49, 52, 53, 59, 62, 67, 72, 74]}],\n",
              "                        {\"legend\": {\"bgcolor\": \"#F5F6F9\", \"font\": {\"color\": \"#4D5663\"}}, \"paper_bgcolor\": \"#F5F6F9\", \"plot_bgcolor\": \"#F5F6F9\", \"template\": {\"data\": {\"bar\": [{\"error_x\": {\"color\": \"#2a3f5f\"}, \"error_y\": {\"color\": \"#2a3f5f\"}, \"marker\": {\"line\": {\"color\": \"#E5ECF6\", \"width\": 0.5}}, \"type\": \"bar\"}], \"barpolar\": [{\"marker\": {\"line\": {\"color\": \"#E5ECF6\", \"width\": 0.5}}, \"type\": \"barpolar\"}], \"carpet\": [{\"aaxis\": {\"endlinecolor\": \"#2a3f5f\", \"gridcolor\": \"white\", \"linecolor\": \"white\", \"minorgridcolor\": \"white\", \"startlinecolor\": \"#2a3f5f\"}, \"baxis\": {\"endlinecolor\": \"#2a3f5f\", \"gridcolor\": \"white\", \"linecolor\": \"white\", \"minorgridcolor\": \"white\", \"startlinecolor\": \"#2a3f5f\"}, \"type\": \"carpet\"}], \"choropleth\": [{\"colorbar\": {\"outlinewidth\": 0, \"ticks\": \"\"}, \"type\": \"choropleth\"}], \"contour\": [{\"colorbar\": {\"outlinewidth\": 0, \"ticks\": \"\"}, \"colorscale\": [[0.0, \"#0d0887\"], [0.1111111111111111, \"#46039f\"], [0.2222222222222222, \"#7201a8\"], [0.3333333333333333, \"#9c179e\"], [0.4444444444444444, \"#bd3786\"], [0.5555555555555556, \"#d8576b\"], [0.6666666666666666, \"#ed7953\"], [0.7777777777777778, \"#fb9f3a\"], [0.8888888888888888, \"#fdca26\"], [1.0, \"#f0f921\"]], \"type\": \"contour\"}], \"contourcarpet\": [{\"colorbar\": {\"outlinewidth\": 0, \"ticks\": \"\"}, \"type\": \"contourcarpet\"}], \"heatmap\": [{\"colorbar\": {\"outlinewidth\": 0, \"ticks\": \"\"}, \"colorscale\": [[0.0, \"#0d0887\"], [0.1111111111111111, \"#46039f\"], [0.2222222222222222, \"#7201a8\"], [0.3333333333333333, \"#9c179e\"], [0.4444444444444444, \"#bd3786\"], [0.5555555555555556, \"#d8576b\"], [0.6666666666666666, \"#ed7953\"], [0.7777777777777778, \"#fb9f3a\"], [0.8888888888888888, \"#fdca26\"], [1.0, \"#f0f921\"]], \"type\": \"heatmap\"}], \"heatmapgl\": [{\"colorbar\": {\"outlinewidth\": 0, \"ticks\": \"\"}, \"colorscale\": [[0.0, \"#0d0887\"], [0.1111111111111111, \"#46039f\"], [0.2222222222222222, \"#7201a8\"], [0.3333333333333333, \"#9c179e\"], [0.4444444444444444, \"#bd3786\"], [0.5555555555555556, \"#d8576b\"], [0.6666666666666666, \"#ed7953\"], [0.7777777777777778, \"#fb9f3a\"], [0.8888888888888888, \"#fdca26\"], [1.0, \"#f0f921\"]], \"type\": \"heatmapgl\"}], \"histogram\": [{\"marker\": {\"colorbar\": {\"outlinewidth\": 0, \"ticks\": \"\"}}, \"type\": \"histogram\"}], \"histogram2d\": [{\"colorbar\": {\"outlinewidth\": 0, \"ticks\": \"\"}, \"colorscale\": [[0.0, \"#0d0887\"], [0.1111111111111111, \"#46039f\"], [0.2222222222222222, \"#7201a8\"], [0.3333333333333333, \"#9c179e\"], [0.4444444444444444, \"#bd3786\"], [0.5555555555555556, \"#d8576b\"], [0.6666666666666666, \"#ed7953\"], [0.7777777777777778, \"#fb9f3a\"], [0.8888888888888888, \"#fdca26\"], [1.0, \"#f0f921\"]], \"type\": \"histogram2d\"}], \"histogram2dcontour\": [{\"colorbar\": {\"outlinewidth\": 0, \"ticks\": \"\"}, \"colorscale\": [[0.0, \"#0d0887\"], [0.1111111111111111, \"#46039f\"], [0.2222222222222222, \"#7201a8\"], [0.3333333333333333, \"#9c179e\"], [0.4444444444444444, \"#bd3786\"], [0.5555555555555556, \"#d8576b\"], [0.6666666666666666, \"#ed7953\"], [0.7777777777777778, \"#fb9f3a\"], [0.8888888888888888, \"#fdca26\"], [1.0, \"#f0f921\"]], \"type\": \"histogram2dcontour\"}], \"mesh3d\": [{\"colorbar\": {\"outlinewidth\": 0, \"ticks\": \"\"}, \"type\": \"mesh3d\"}], \"parcoords\": [{\"line\": {\"colorbar\": {\"outlinewidth\": 0, \"ticks\": \"\"}}, \"type\": \"parcoords\"}], \"pie\": [{\"automargin\": true, \"type\": \"pie\"}], \"scatter\": [{\"marker\": {\"colorbar\": {\"outlinewidth\": 0, \"ticks\": \"\"}}, \"type\": \"scatter\"}], \"scatter3d\": [{\"line\": {\"colorbar\": {\"outlinewidth\": 0, \"ticks\": \"\"}}, \"marker\": {\"colorbar\": {\"outlinewidth\": 0, \"ticks\": \"\"}}, \"type\": \"scatter3d\"}], \"scattercarpet\": [{\"marker\": {\"colorbar\": {\"outlinewidth\": 0, \"ticks\": \"\"}}, \"type\": \"scattercarpet\"}], \"scattergeo\": [{\"marker\": {\"colorbar\": {\"outlinewidth\": 0, \"ticks\": \"\"}}, \"type\": \"scattergeo\"}], \"scattergl\": [{\"marker\": {\"colorbar\": {\"outlinewidth\": 0, \"ticks\": \"\"}}, \"type\": \"scattergl\"}], \"scattermapbox\": [{\"marker\": {\"colorbar\": {\"outlinewidth\": 0, \"ticks\": \"\"}}, \"type\": \"scattermapbox\"}], \"scatterpolar\": [{\"marker\": {\"colorbar\": {\"outlinewidth\": 0, \"ticks\": \"\"}}, \"type\": \"scatterpolar\"}], \"scatterpolargl\": [{\"marker\": {\"colorbar\": {\"outlinewidth\": 0, \"ticks\": \"\"}}, \"type\": \"scatterpolargl\"}], \"scatterternary\": [{\"marker\": {\"colorbar\": {\"outlinewidth\": 0, \"ticks\": \"\"}}, \"type\": \"scatterternary\"}], \"surface\": [{\"colorbar\": {\"outlinewidth\": 0, \"ticks\": \"\"}, \"colorscale\": [[0.0, \"#0d0887\"], [0.1111111111111111, \"#46039f\"], [0.2222222222222222, \"#7201a8\"], [0.3333333333333333, \"#9c179e\"], [0.4444444444444444, \"#bd3786\"], [0.5555555555555556, \"#d8576b\"], [0.6666666666666666, \"#ed7953\"], [0.7777777777777778, \"#fb9f3a\"], [0.8888888888888888, \"#fdca26\"], [1.0, \"#f0f921\"]], \"type\": \"surface\"}], \"table\": [{\"cells\": {\"fill\": {\"color\": \"#EBF0F8\"}, \"line\": {\"color\": \"white\"}}, \"header\": {\"fill\": {\"color\": \"#C8D4E3\"}, \"line\": {\"color\": \"white\"}}, \"type\": \"table\"}]}, \"layout\": {\"annotationdefaults\": {\"arrowcolor\": \"#2a3f5f\", \"arrowhead\": 0, \"arrowwidth\": 1}, \"coloraxis\": {\"colorbar\": {\"outlinewidth\": 0, \"ticks\": \"\"}}, \"colorscale\": {\"diverging\": [[0, \"#8e0152\"], [0.1, \"#c51b7d\"], [0.2, \"#de77ae\"], [0.3, \"#f1b6da\"], [0.4, \"#fde0ef\"], [0.5, \"#f7f7f7\"], [0.6, \"#e6f5d0\"], [0.7, \"#b8e186\"], [0.8, \"#7fbc41\"], [0.9, \"#4d9221\"], [1, \"#276419\"]], \"sequential\": [[0.0, \"#0d0887\"], [0.1111111111111111, \"#46039f\"], [0.2222222222222222, \"#7201a8\"], [0.3333333333333333, \"#9c179e\"], [0.4444444444444444, \"#bd3786\"], [0.5555555555555556, \"#d8576b\"], [0.6666666666666666, \"#ed7953\"], [0.7777777777777778, \"#fb9f3a\"], [0.8888888888888888, \"#fdca26\"], [1.0, \"#f0f921\"]], \"sequentialminus\": [[0.0, \"#0d0887\"], [0.1111111111111111, \"#46039f\"], [0.2222222222222222, \"#7201a8\"], [0.3333333333333333, \"#9c179e\"], [0.4444444444444444, \"#bd3786\"], [0.5555555555555556, \"#d8576b\"], [0.6666666666666666, \"#ed7953\"], [0.7777777777777778, \"#fb9f3a\"], [0.8888888888888888, \"#fdca26\"], [1.0, \"#f0f921\"]]}, \"colorway\": [\"#636efa\", \"#EF553B\", \"#00cc96\", \"#ab63fa\", \"#FFA15A\", \"#19d3f3\", \"#FF6692\", \"#B6E880\", \"#FF97FF\", \"#FECB52\"], \"font\": {\"color\": \"#2a3f5f\"}, \"geo\": {\"bgcolor\": \"white\", \"lakecolor\": \"white\", \"landcolor\": \"#E5ECF6\", \"showlakes\": true, \"showland\": true, \"subunitcolor\": \"white\"}, \"hoverlabel\": {\"align\": \"left\"}, \"hovermode\": \"closest\", \"mapbox\": {\"style\": \"light\"}, \"paper_bgcolor\": \"white\", \"plot_bgcolor\": \"#E5ECF6\", \"polar\": {\"angularaxis\": {\"gridcolor\": \"white\", \"linecolor\": \"white\", \"ticks\": \"\"}, \"bgcolor\": \"#E5ECF6\", \"radialaxis\": {\"gridcolor\": \"white\", \"linecolor\": \"white\", \"ticks\": \"\"}}, \"scene\": {\"xaxis\": {\"backgroundcolor\": \"#E5ECF6\", \"gridcolor\": \"white\", \"gridwidth\": 2, \"linecolor\": \"white\", \"showbackground\": true, \"ticks\": \"\", \"zerolinecolor\": \"white\"}, \"yaxis\": {\"backgroundcolor\": \"#E5ECF6\", \"gridcolor\": \"white\", \"gridwidth\": 2, \"linecolor\": \"white\", \"showbackground\": true, \"ticks\": \"\", \"zerolinecolor\": \"white\"}, \"zaxis\": {\"backgroundcolor\": \"#E5ECF6\", \"gridcolor\": \"white\", \"gridwidth\": 2, \"linecolor\": \"white\", \"showbackground\": true, \"ticks\": \"\", \"zerolinecolor\": \"white\"}}, \"shapedefaults\": {\"line\": {\"color\": \"#2a3f5f\"}}, \"ternary\": {\"aaxis\": {\"gridcolor\": \"white\", \"linecolor\": \"white\", \"ticks\": \"\"}, \"baxis\": {\"gridcolor\": \"white\", \"linecolor\": \"white\", \"ticks\": \"\"}, \"bgcolor\": \"#E5ECF6\", \"caxis\": {\"gridcolor\": \"white\", \"linecolor\": \"white\", \"ticks\": \"\"}}, \"title\": {\"x\": 0.05}, \"xaxis\": {\"automargin\": true, \"gridcolor\": \"white\", \"linecolor\": \"white\", \"ticks\": \"\", \"title\": {\"standoff\": 15}, \"zerolinecolor\": \"white\", \"zerolinewidth\": 2}, \"yaxis\": {\"automargin\": true, \"gridcolor\": \"white\", \"linecolor\": \"white\", \"ticks\": \"\", \"title\": {\"standoff\": 15}, \"zerolinecolor\": \"white\", \"zerolinewidth\": 2}}}, \"title\": {\"font\": {\"color\": \"#4D5663\"}}, \"xaxis\": {\"gridcolor\": \"#E1E5ED\", \"showgrid\": true, \"tickfont\": {\"color\": \"#4D5663\"}, \"title\": {\"font\": {\"color\": \"#4D5663\"}, \"text\": \"\"}, \"zerolinecolor\": \"#E1E5ED\"}, \"yaxis\": {\"gridcolor\": \"#E1E5ED\", \"showgrid\": true, \"tickfont\": {\"color\": \"#4D5663\"}, \"title\": {\"font\": {\"color\": \"#4D5663\"}, \"text\": \"\"}, \"zerolinecolor\": \"#E1E5ED\"}},\n",
              "                        {\"responsive\": true}\n",
              "                    ).then(function(){\n",
              "                            \n",
              "var gd = document.getElementById('7beeb006-82f3-4859-920d-98c1878ee1d9');\n",
              "var x = new MutationObserver(function (mutations, observer) {{\n",
              "        var display = window.getComputedStyle(gd).display;\n",
              "        if (!display || display === 'none') {{\n",
              "            console.log([gd, 'removed!']);\n",
              "            Plotly.purge(gd);\n",
              "            observer.disconnect();\n",
              "        }}\n",
              "}});\n",
              "\n",
              "// Listen for the removal of the full notebook cells\n",
              "var notebookContainer = gd.closest('#notebook-container');\n",
              "if (notebookContainer) {{\n",
              "    x.observe(notebookContainer, {childList: true});\n",
              "}}\n",
              "\n",
              "// Listen for the clearing of the current output cell\n",
              "var outputEl = gd.closest('.output');\n",
              "if (outputEl) {{\n",
              "    x.observe(outputEl, {childList: true});\n",
              "}}\n",
              "\n",
              "                        })\n",
              "                };\n",
              "                \n",
              "            </script>\n",
              "        </div>\n",
              "</body>\n",
              "</html>"
            ]
          },
          "metadata": {
            "tags": []
          }
        }
      ]
    },
    {
      "cell_type": "code",
      "metadata": {
        "id": "bFftIk5i1a9u",
        "colab_type": "code",
        "colab": {}
      },
      "source": [
        "irs_dataframe=pd.read_csv('https://raw.githubusercontent.com/napoles-uach/covid19mx/master/IRS.csv')"
      ],
      "execution_count": 0,
      "outputs": []
    },
    {
      "cell_type": "code",
      "metadata": {
        "id": "WmUP4Vqz1sWP",
        "colab_type": "code",
        "outputId": "d0a22aea-8187-4bd1-e196-5ec0a7bd0747",
        "colab": {
          "base_uri": "https://localhost:8080/",
          "height": 542
        }
      },
      "source": [
        "fig = px.scatter_geo(irs_dataframe, lat=\"Lat\",lon=\"Long\",size=1/10**irs_dataframe['IRS'],projection=\"natural earth\",#)\n",
        "                     scope='north america',color=1/10**irs_dataframe['IRS'],range_color=[0,50])\n",
        "                     #center={'lat':19,'lon':-99},width=800,text = todos['Estado'],\n",
        "                     #projection=\"natural earth\")\n",
        "fig.update_layout(title = 'Mapa de Índice de Rezago Social (IRS) del 2015<br>color, size = 10^-(IRS)')\n",
        "fig.show()"
      ],
      "execution_count": 17,
      "outputs": [
        {
          "output_type": "display_data",
          "data": {
            "text/html": [
              "<html>\n",
              "<head><meta charset=\"utf-8\" /></head>\n",
              "<body>\n",
              "    <div>\n",
              "            <script src=\"https://cdnjs.cloudflare.com/ajax/libs/mathjax/2.7.5/MathJax.js?config=TeX-AMS-MML_SVG\"></script><script type=\"text/javascript\">if (window.MathJax) {MathJax.Hub.Config({SVG: {font: \"STIX-Web\"}});}</script>\n",
              "                <script type=\"text/javascript\">window.PlotlyConfig = {MathJaxConfig: 'local'};</script>\n",
              "        <script src=\"https://cdn.plot.ly/plotly-latest.min.js\"></script>    \n",
              "            <div id=\"21a52d89-8ad8-4cd5-bbd0-b90790725a2b\" class=\"plotly-graph-div\" style=\"height:525px; width:100%;\"></div>\n",
              "            <script type=\"text/javascript\">\n",
              "                \n",
              "                    window.PLOTLYENV=window.PLOTLYENV || {};\n",
              "                    \n",
              "                if (document.getElementById(\"21a52d89-8ad8-4cd5-bbd0-b90790725a2b\")) {\n",
              "                    Plotly.newPlot(\n",
              "                        '21a52d89-8ad8-4cd5-bbd0-b90790725a2b',\n",
              "                        [{\"geo\": \"geo\", \"hoverlabel\": {\"namelength\": 0}, \"hovertemplate\": \"size=%{marker.size}<br>Lat=%{lat}<br>Long=%{lon}<br>color=%{marker.color}\", \"lat\": [21.8823395, 32.6278114, 24.144369100000002, 19.843860600000003, 19.4284706, 16.759729399999998, 28.635280600000005, 25.423210100000002, 19.249969500000002, 25.5698509, 21.0185795, 16.849420499999997, 20.1169701, 20.6668205, 19.2878609, 19.700780899999998, 18.926099800000003, 21.509510000000002, 25.6750698, 17.0654202, 19.0640602, 20.5880604, 21.1742897, 22.149820300000002, 23.2329006, 29.1026001, 17.9868908, 26.0806103, 19.31905, 19.180950199999998, 20.400417, 22.76843], \"legendgroup\": \"\", \"lon\": [-102.28259279999999, -115.4544601, -110.300499, -90.5255432, -99.1276627, -93.11308290000001, -106.08889009999999, -101.0053024, -103.7271423, -103.4958801, -101.2591019, -99.9089127, -98.7332916, -103.3918228, -99.65323640000001, -101.184433, -99.230751, -104.8956909, -100.3184662, -96.72364809999999, -98.30352020000001, -100.38806149999999, -86.84655759999998, -100.97915649999999, -106.4061966, -110.97731780000001, -92.93028259999998, -98.288353, -98.19981999999999, -96.1428986, -89.134857, -102.58140999999999], \"marker\": {\"color\": [10.881781468163934, 6.57778993564584, 2.4851923037419783, 0.4964551268761398, 20.574533644490813, 0.004095717558818275, 3.8653604617443604, 11.613683865833906, 4.546215308100833, 1.0778293362395401, 1.1439314495393067, 0.0035363073199943056, 0.3551812243786826, 4.916997641778744, 3.016685251199703, 0.23700090260495624, 1.6174467812063613, 0.9713147862108981, 22.926090371255246, 0.002890613322767718, 0.1307916443843893, 2.666306061571602, 2.489602434545668, 0.24490068507288495, 2.8694588430750048, 3.8743602472800185, 1.4271841043946387, 3.363566357483621, 1.4916261896335579, 0.06318441952746515, 0.507621490542962, 2.139784316286545], \"coloraxis\": \"coloraxis\", \"size\": [10.881781468163934, 6.57778993564584, 2.4851923037419783, 0.4964551268761398, 20.574533644490813, 0.004095717558818275, 3.8653604617443604, 11.613683865833906, 4.546215308100833, 1.0778293362395401, 1.1439314495393067, 0.0035363073199943056, 0.3551812243786826, 4.916997641778744, 3.016685251199703, 0.23700090260495624, 1.6174467812063613, 0.9713147862108981, 22.926090371255246, 0.002890613322767718, 0.1307916443843893, 2.666306061571602, 2.489602434545668, 0.24490068507288495, 2.8694588430750048, 3.8743602472800185, 1.4271841043946387, 3.363566357483621, 1.4916261896335579, 0.06318441952746515, 0.507621490542962, 2.139784316286545], \"sizemode\": \"area\", \"sizeref\": 0.05731522592813811}, \"name\": \"\", \"showlegend\": false, \"type\": \"scattergeo\"}],\n",
              "                        {\"coloraxis\": {\"cmax\": 50, \"cmin\": 0, \"colorbar\": {\"title\": {\"text\": \"color\"}}, \"colorscale\": [[0.0, \"#0d0887\"], [0.1111111111111111, \"#46039f\"], [0.2222222222222222, \"#7201a8\"], [0.3333333333333333, \"#9c179e\"], [0.4444444444444444, \"#bd3786\"], [0.5555555555555556, \"#d8576b\"], [0.6666666666666666, \"#ed7953\"], [0.7777777777777778, \"#fb9f3a\"], [0.8888888888888888, \"#fdca26\"], [1.0, \"#f0f921\"]]}, \"geo\": {\"center\": {}, \"domain\": {\"x\": [0.0, 1.0], \"y\": [0.0, 1.0]}, \"projection\": {\"type\": \"natural earth\"}, \"scope\": \"north america\"}, \"legend\": {\"itemsizing\": \"constant\", \"tracegroupgap\": 0}, \"margin\": {\"t\": 60}, \"template\": {\"data\": {\"bar\": [{\"error_x\": {\"color\": \"#2a3f5f\"}, \"error_y\": {\"color\": \"#2a3f5f\"}, \"marker\": {\"line\": {\"color\": \"#E5ECF6\", \"width\": 0.5}}, \"type\": \"bar\"}], \"barpolar\": [{\"marker\": {\"line\": {\"color\": \"#E5ECF6\", \"width\": 0.5}}, \"type\": \"barpolar\"}], \"carpet\": [{\"aaxis\": {\"endlinecolor\": \"#2a3f5f\", \"gridcolor\": \"white\", \"linecolor\": \"white\", \"minorgridcolor\": \"white\", \"startlinecolor\": \"#2a3f5f\"}, \"baxis\": {\"endlinecolor\": \"#2a3f5f\", \"gridcolor\": \"white\", \"linecolor\": \"white\", \"minorgridcolor\": \"white\", \"startlinecolor\": \"#2a3f5f\"}, \"type\": \"carpet\"}], \"choropleth\": [{\"colorbar\": {\"outlinewidth\": 0, \"ticks\": \"\"}, \"type\": \"choropleth\"}], \"contour\": [{\"colorbar\": {\"outlinewidth\": 0, \"ticks\": \"\"}, \"colorscale\": [[0.0, \"#0d0887\"], [0.1111111111111111, \"#46039f\"], [0.2222222222222222, \"#7201a8\"], [0.3333333333333333, \"#9c179e\"], [0.4444444444444444, \"#bd3786\"], [0.5555555555555556, \"#d8576b\"], [0.6666666666666666, \"#ed7953\"], [0.7777777777777778, \"#fb9f3a\"], [0.8888888888888888, \"#fdca26\"], [1.0, \"#f0f921\"]], \"type\": \"contour\"}], \"contourcarpet\": [{\"colorbar\": {\"outlinewidth\": 0, \"ticks\": \"\"}, \"type\": \"contourcarpet\"}], \"heatmap\": [{\"colorbar\": {\"outlinewidth\": 0, \"ticks\": \"\"}, \"colorscale\": [[0.0, \"#0d0887\"], [0.1111111111111111, \"#46039f\"], [0.2222222222222222, \"#7201a8\"], [0.3333333333333333, \"#9c179e\"], [0.4444444444444444, \"#bd3786\"], [0.5555555555555556, \"#d8576b\"], [0.6666666666666666, \"#ed7953\"], [0.7777777777777778, \"#fb9f3a\"], [0.8888888888888888, \"#fdca26\"], [1.0, \"#f0f921\"]], \"type\": \"heatmap\"}], \"heatmapgl\": [{\"colorbar\": {\"outlinewidth\": 0, \"ticks\": \"\"}, \"colorscale\": [[0.0, \"#0d0887\"], [0.1111111111111111, \"#46039f\"], [0.2222222222222222, \"#7201a8\"], [0.3333333333333333, \"#9c179e\"], [0.4444444444444444, \"#bd3786\"], [0.5555555555555556, \"#d8576b\"], [0.6666666666666666, \"#ed7953\"], [0.7777777777777778, \"#fb9f3a\"], [0.8888888888888888, \"#fdca26\"], [1.0, \"#f0f921\"]], \"type\": \"heatmapgl\"}], \"histogram\": [{\"marker\": {\"colorbar\": {\"outlinewidth\": 0, \"ticks\": \"\"}}, \"type\": \"histogram\"}], \"histogram2d\": [{\"colorbar\": {\"outlinewidth\": 0, \"ticks\": \"\"}, \"colorscale\": [[0.0, \"#0d0887\"], [0.1111111111111111, \"#46039f\"], [0.2222222222222222, \"#7201a8\"], [0.3333333333333333, \"#9c179e\"], [0.4444444444444444, \"#bd3786\"], [0.5555555555555556, \"#d8576b\"], [0.6666666666666666, \"#ed7953\"], [0.7777777777777778, \"#fb9f3a\"], [0.8888888888888888, \"#fdca26\"], [1.0, \"#f0f921\"]], \"type\": \"histogram2d\"}], \"histogram2dcontour\": [{\"colorbar\": {\"outlinewidth\": 0, \"ticks\": \"\"}, \"colorscale\": [[0.0, \"#0d0887\"], [0.1111111111111111, \"#46039f\"], [0.2222222222222222, \"#7201a8\"], [0.3333333333333333, \"#9c179e\"], [0.4444444444444444, \"#bd3786\"], [0.5555555555555556, \"#d8576b\"], [0.6666666666666666, \"#ed7953\"], [0.7777777777777778, \"#fb9f3a\"], [0.8888888888888888, \"#fdca26\"], [1.0, \"#f0f921\"]], \"type\": \"histogram2dcontour\"}], \"mesh3d\": [{\"colorbar\": {\"outlinewidth\": 0, \"ticks\": \"\"}, \"type\": \"mesh3d\"}], \"parcoords\": [{\"line\": {\"colorbar\": {\"outlinewidth\": 0, \"ticks\": \"\"}}, \"type\": \"parcoords\"}], \"pie\": [{\"automargin\": true, \"type\": \"pie\"}], \"scatter\": [{\"marker\": {\"colorbar\": {\"outlinewidth\": 0, \"ticks\": \"\"}}, \"type\": \"scatter\"}], \"scatter3d\": [{\"line\": {\"colorbar\": {\"outlinewidth\": 0, \"ticks\": \"\"}}, \"marker\": {\"colorbar\": {\"outlinewidth\": 0, \"ticks\": \"\"}}, \"type\": \"scatter3d\"}], \"scattercarpet\": [{\"marker\": {\"colorbar\": {\"outlinewidth\": 0, \"ticks\": \"\"}}, \"type\": \"scattercarpet\"}], \"scattergeo\": [{\"marker\": {\"colorbar\": {\"outlinewidth\": 0, \"ticks\": \"\"}}, \"type\": \"scattergeo\"}], \"scattergl\": [{\"marker\": {\"colorbar\": {\"outlinewidth\": 0, \"ticks\": \"\"}}, \"type\": \"scattergl\"}], \"scattermapbox\": [{\"marker\": {\"colorbar\": {\"outlinewidth\": 0, \"ticks\": \"\"}}, \"type\": \"scattermapbox\"}], \"scatterpolar\": [{\"marker\": {\"colorbar\": {\"outlinewidth\": 0, \"ticks\": \"\"}}, \"type\": \"scatterpolar\"}], \"scatterpolargl\": [{\"marker\": {\"colorbar\": {\"outlinewidth\": 0, \"ticks\": \"\"}}, \"type\": \"scatterpolargl\"}], \"scatterternary\": [{\"marker\": {\"colorbar\": {\"outlinewidth\": 0, \"ticks\": \"\"}}, \"type\": \"scatterternary\"}], \"surface\": [{\"colorbar\": {\"outlinewidth\": 0, \"ticks\": \"\"}, \"colorscale\": [[0.0, \"#0d0887\"], [0.1111111111111111, \"#46039f\"], [0.2222222222222222, \"#7201a8\"], [0.3333333333333333, \"#9c179e\"], [0.4444444444444444, \"#bd3786\"], [0.5555555555555556, \"#d8576b\"], [0.6666666666666666, \"#ed7953\"], [0.7777777777777778, \"#fb9f3a\"], [0.8888888888888888, \"#fdca26\"], [1.0, \"#f0f921\"]], \"type\": \"surface\"}], \"table\": [{\"cells\": {\"fill\": {\"color\": \"#EBF0F8\"}, \"line\": {\"color\": \"white\"}}, \"header\": {\"fill\": {\"color\": \"#C8D4E3\"}, \"line\": {\"color\": \"white\"}}, \"type\": \"table\"}]}, \"layout\": {\"annotationdefaults\": {\"arrowcolor\": \"#2a3f5f\", \"arrowhead\": 0, \"arrowwidth\": 1}, \"coloraxis\": {\"colorbar\": {\"outlinewidth\": 0, \"ticks\": \"\"}}, \"colorscale\": {\"diverging\": [[0, \"#8e0152\"], [0.1, \"#c51b7d\"], [0.2, \"#de77ae\"], [0.3, \"#f1b6da\"], [0.4, \"#fde0ef\"], [0.5, \"#f7f7f7\"], [0.6, \"#e6f5d0\"], [0.7, \"#b8e186\"], [0.8, \"#7fbc41\"], [0.9, \"#4d9221\"], [1, \"#276419\"]], \"sequential\": [[0.0, \"#0d0887\"], [0.1111111111111111, \"#46039f\"], [0.2222222222222222, \"#7201a8\"], [0.3333333333333333, \"#9c179e\"], [0.4444444444444444, \"#bd3786\"], [0.5555555555555556, \"#d8576b\"], [0.6666666666666666, \"#ed7953\"], [0.7777777777777778, \"#fb9f3a\"], [0.8888888888888888, \"#fdca26\"], [1.0, \"#f0f921\"]], \"sequentialminus\": [[0.0, \"#0d0887\"], [0.1111111111111111, \"#46039f\"], [0.2222222222222222, \"#7201a8\"], [0.3333333333333333, \"#9c179e\"], [0.4444444444444444, \"#bd3786\"], [0.5555555555555556, \"#d8576b\"], [0.6666666666666666, \"#ed7953\"], [0.7777777777777778, \"#fb9f3a\"], [0.8888888888888888, \"#fdca26\"], [1.0, \"#f0f921\"]]}, \"colorway\": [\"#636efa\", \"#EF553B\", \"#00cc96\", \"#ab63fa\", \"#FFA15A\", \"#19d3f3\", \"#FF6692\", \"#B6E880\", \"#FF97FF\", \"#FECB52\"], \"font\": {\"color\": \"#2a3f5f\"}, \"geo\": {\"bgcolor\": \"white\", \"lakecolor\": \"white\", \"landcolor\": \"#E5ECF6\", \"showlakes\": true, \"showland\": true, \"subunitcolor\": \"white\"}, \"hoverlabel\": {\"align\": \"left\"}, \"hovermode\": \"closest\", \"mapbox\": {\"style\": \"light\"}, \"paper_bgcolor\": \"white\", \"plot_bgcolor\": \"#E5ECF6\", \"polar\": {\"angularaxis\": {\"gridcolor\": \"white\", \"linecolor\": \"white\", \"ticks\": \"\"}, \"bgcolor\": \"#E5ECF6\", \"radialaxis\": {\"gridcolor\": \"white\", \"linecolor\": \"white\", \"ticks\": \"\"}}, \"scene\": {\"xaxis\": {\"backgroundcolor\": \"#E5ECF6\", \"gridcolor\": \"white\", \"gridwidth\": 2, \"linecolor\": \"white\", \"showbackground\": true, \"ticks\": \"\", \"zerolinecolor\": \"white\"}, \"yaxis\": {\"backgroundcolor\": \"#E5ECF6\", \"gridcolor\": \"white\", \"gridwidth\": 2, \"linecolor\": \"white\", \"showbackground\": true, \"ticks\": \"\", \"zerolinecolor\": \"white\"}, \"zaxis\": {\"backgroundcolor\": \"#E5ECF6\", \"gridcolor\": \"white\", \"gridwidth\": 2, \"linecolor\": \"white\", \"showbackground\": true, \"ticks\": \"\", \"zerolinecolor\": \"white\"}}, \"shapedefaults\": {\"line\": {\"color\": \"#2a3f5f\"}}, \"ternary\": {\"aaxis\": {\"gridcolor\": \"white\", \"linecolor\": \"white\", \"ticks\": \"\"}, \"baxis\": {\"gridcolor\": \"white\", \"linecolor\": \"white\", \"ticks\": \"\"}, \"bgcolor\": \"#E5ECF6\", \"caxis\": {\"gridcolor\": \"white\", \"linecolor\": \"white\", \"ticks\": \"\"}}, \"title\": {\"x\": 0.05}, \"xaxis\": {\"automargin\": true, \"gridcolor\": \"white\", \"linecolor\": \"white\", \"ticks\": \"\", \"title\": {\"standoff\": 15}, \"zerolinecolor\": \"white\", \"zerolinewidth\": 2}, \"yaxis\": {\"automargin\": true, \"gridcolor\": \"white\", \"linecolor\": \"white\", \"ticks\": \"\", \"title\": {\"standoff\": 15}, \"zerolinecolor\": \"white\", \"zerolinewidth\": 2}}}, \"title\": {\"text\": \"Mapa de \\u00cdndice de Rezago Social (IRS) del 2015<br>color, size = 10^-(IRS)\"}},\n",
              "                        {\"responsive\": true}\n",
              "                    ).then(function(){\n",
              "                            \n",
              "var gd = document.getElementById('21a52d89-8ad8-4cd5-bbd0-b90790725a2b');\n",
              "var x = new MutationObserver(function (mutations, observer) {{\n",
              "        var display = window.getComputedStyle(gd).display;\n",
              "        if (!display || display === 'none') {{\n",
              "            console.log([gd, 'removed!']);\n",
              "            Plotly.purge(gd);\n",
              "            observer.disconnect();\n",
              "        }}\n",
              "}});\n",
              "\n",
              "// Listen for the removal of the full notebook cells\n",
              "var notebookContainer = gd.closest('#notebook-container');\n",
              "if (notebookContainer) {{\n",
              "    x.observe(notebookContainer, {childList: true});\n",
              "}}\n",
              "\n",
              "// Listen for the clearing of the current output cell\n",
              "var outputEl = gd.closest('.output');\n",
              "if (outputEl) {{\n",
              "    x.observe(outputEl, {childList: true});\n",
              "}}\n",
              "\n",
              "                        })\n",
              "                };\n",
              "                \n",
              "            </script>\n",
              "        </div>\n",
              "</body>\n",
              "</html>"
            ]
          },
          "metadata": {
            "tags": []
          }
        }
      ]
    },
    {
      "cell_type": "code",
      "metadata": {
        "id": "1OMJFKVg7rjl",
        "colab_type": "code",
        "colab": {}
      },
      "source": [
        ""
      ],
      "execution_count": 0,
      "outputs": []
    }
  ]
}